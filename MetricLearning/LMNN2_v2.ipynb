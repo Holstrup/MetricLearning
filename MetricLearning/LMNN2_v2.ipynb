{
 "cells": [
  {
   "cell_type": "markdown",
   "metadata": {},
   "source": [
    "## Imports"
   ]
  },
  {
   "cell_type": "code",
   "execution_count": 1,
   "metadata": {},
   "outputs": [],
   "source": [
    "# !git clone https://github.com/Holstrup/MetricLearning\n",
    "# import os\n",
    "# os.chdir(\"MetricLearning/MetricLearning\")\n",
    "# !git pull"
   ]
  },
  {
   "cell_type": "code",
   "execution_count": 2,
   "metadata": {},
   "outputs": [
    {
     "name": "stderr",
     "output_type": "stream",
     "text": [
      "Using TensorFlow backend.\n"
     ]
    },
    {
     "data": {
      "text/plain": [
       "{'divide': 'warn', 'over': 'warn', 'under': 'ignore', 'invalid': 'warn'}"
      ]
     },
     "execution_count": 2,
     "metadata": {},
     "output_type": "execute_result"
    }
   ],
   "source": [
    "import sklearn.metrics as sk_metrics\n",
    "import sklearn.decomposition as sk_decomp\n",
    "import sklearn.datasets as datasets\n",
    "from sklearn.model_selection import train_test_split\n",
    "from sklearn.metrics import confusion_matrix\n",
    "from sklearn.metrics import accuracy_score\n",
    "import numpy as np\n",
    "import Model\n",
    "import Plots\n",
    "import matplotlib.pyplot as plt\n",
    "import matplotlib.tri as tri\n",
    "import knnClassifier\n",
    "#from sklearn.utils.extmath import softmax\n",
    "from scipy.special import softmax\n",
    "import plot_confusion_matrix as plots\n",
    "import random\n",
    "from knnClassifier import calc_mode\n",
    "from cython.parallel import prange\n",
    "\n",
    "# We ignore divisions by 0. We will do that in the chi square distance, but we don't care. \n",
    "np.seterr(divide='ignore', invalid='ignore')"
   ]
  },
  {
   "cell_type": "markdown",
   "metadata": {},
   "source": [
    "## Hyperparameters"
   ]
  },
  {
   "cell_type": "markdown",
   "metadata": {},
   "source": [
    "Underneath you can define the hyperparameters, l, mu and K.\n",
    "* $l$ is the margin parameter\n",
    "* $\\mu$ is a trade-off parameter between the push and pull in the loss function\n",
    "* $K$ is the number of target neighbors \n",
    "* $D$ is the dimensionality of our data. We choose that arbitrarily\n",
    "* $L$ is the linear transformation\n",
    "\n",
    "L is set to be a diagonal matrix of ones to begin with. However, it would be interesting to experiement with other initial L matrices, since the problem is non-convex. We could also try to implement the constrained non-convex version of LMNN."
   ]
  },
  {
   "cell_type": "code",
   "execution_count": 3,
   "metadata": {},
   "outputs": [],
   "source": [
    "mu = 0.5\n",
    "K = 5\n",
    "D = 10\n",
    "L = np.eye(D, dtype=float)\n",
    "alpha = 0.001"
   ]
  },
  {
   "cell_type": "markdown",
   "metadata": {},
   "source": [
    "## Functions"
   ]
  },
  {
   "cell_type": "markdown",
   "metadata": {},
   "source": [
    "This block defines two functions that we will use to compute the distances. The first function calculates the distance given two points xi and xj. The second function calculates the distance between some point xi and all the other points X, through the L space. This is very important to note. "
   ]
  },
  {
   "cell_type": "markdown",
   "metadata": {},
   "source": [
    "* $chi-square-distance(xi, xj)$ corresponds to (3) in the [Non-linear metric learning paper](http://www.cs.cornell.edu/~kilian/papers/chilmnn.pdf)\n",
    "* $distance(xi, X)$ is an extension to $chi-square-distance(xi, xj)$, namely finding the chi square distance from one point xi, to all the other points"
   ]
  },
  {
   "cell_type": "code",
   "execution_count": 4,
   "metadata": {},
   "outputs": [],
   "source": [
    "def chi_square_distance(xi, xj):\n",
    "    \"\"\"\n",
    "    Chi square distance\n",
    "\n",
    "    :param xi: Embedding       (1, D)\n",
    "    :param xj: Target Neighbor (1, D)\n",
    "    :return: Distance\n",
    "    \"\"\"\n",
    "    return 1 / 2 * np.nansum(np.square(xi - xj) / (xi + xj))\n",
    "\n",
    "def distance(xi, X, L):\n",
    "    \"\"\"\n",
    "    Chi square distance from one point xi, to all other points\n",
    "    \n",
    "    :param xi: Embedding       (1, D)\n",
    "    :param X: Data             (N, D)\n",
    "    :return: Distances         (1, N)\n",
    "    \n",
    "    \"\"\"\n",
    "    N, K = np.shape(X)\n",
    "    Distances = np.zeros(N)\n",
    "    for i in prange(N):\n",
    "        Distances[i] = chi_square_distance(L @ xi, L @ X[i, :])\n",
    "    return Distances"
   ]
  },
  {
   "cell_type": "markdown",
   "metadata": {},
   "source": [
    "These next functions are calculating the target neighbors and the imposters. Read through the comments, and it should make sense how it is done. One little note: In the target neighbours function, we find the distance through the L space. This is meant as the initial L space. We only find these target neighbours once, and should therefore not update what target neighbors a specific point xi has. "
   ]
  },
  {
   "cell_type": "code",
   "execution_count": 5,
   "metadata": {},
   "outputs": [],
   "source": [
    "def find_target_neighbors(X, Y, L):\n",
    "    \"\"\"\n",
    "    Find target neighbours for all points\n",
    "    \n",
    "    :param X: Data Matrix      (N, D)\n",
    "    :param Y: Labels           (1, N)\n",
    "    :return: TN_lookup_table   (N, K)\n",
    "    :return: TN_distance_table (N, K)\n",
    "    \"\"\"\n",
    "    \n",
    "    global TN_lookup_table\n",
    "    global TN_distance_table\n",
    "    \n",
    "    N, _ = np.shape(X)\n",
    "    TN_lookup_table = np.zeros((N, K))\n",
    "    TN_distance_table = np.zeros((N, K))\n",
    "\n",
    "    for i in prange(N):\n",
    "        xi = X[i,:]\n",
    "        yi = Y[i]\n",
    "        \n",
    "        # Find distance from xi to all other points\n",
    "        TN_Distances = distance(xi, X, L)\n",
    "        TN_Indicies = np.argsort(TN_Distances)\n",
    "        j = k = 0\n",
    "        \n",
    "        #Loop to add indicies of target neighbours to lookup table\n",
    "        while j < K:\n",
    "            # if yi and target neighbour have the same label AND it is not the same point\n",
    "            if Y[TN_Indicies[k]] == yi and TN_Indicies[k] != i:\n",
    "                # Add to lookup table and distance table\n",
    "                TN_lookup_table[i, j] = TN_Indicies[k]\n",
    "                TN_distance_table[i, j] = TN_Distances[TN_Indicies[k]]\n",
    "                j += 1\n",
    "            k += 1\n",
    "    TN_lookup_table = TN_lookup_table.astype(int)\n",
    "    return TN_lookup_table, TN_distance_table\n",
    "\n",
    "#Check if the impostor is within the margin of the target neighbor + marginal distance l\n",
    "def check(L, xi, xj, xk):\n",
    "    return (chi_square_distance(L @ xi, L @ xj) + l >= chi_square_distance(L @ xi, L @ xk)) "
   ]
  },
  {
   "cell_type": "markdown",
   "metadata": {},
   "source": [
    "## LMNN Functions\n",
    "\n",
    "These next functions, are made from looking at this [Chi square Metric Learning for Nearest Neighbor Classification and Its Analysis paper](https://projet.liris.cnrs.fr/imagine/pub/proceedings/ICPR-2012/media/files/1795.pdf). Specifically, if you scroll to the last page you can see the equations that are implemented below. Here are some notes, that helps when you read it: \n",
    "* $L_{\\alpha, \\beta}$ refers to the alpha'th row and the beta'th column in the L matrix. Same goes for all the other places there is subscript. \n",
    "* $\\psi_{i, j, \\alpha}$ in this paper is the same as $t_{i,j}$ in the Yang paper\n",
    "* In this paper they refer to imposters with the letter l (as opposed to k in the other papers)\n",
    "* $\\xi_{i, j, l}$ I interpret as a check that the point $x_{l}$ is actually an imposter. That should always be the case since, we calculate the imposters this way in the imposters function."
   ]
  },
  {
   "cell_type": "markdown",
   "metadata": {},
   "source": [
    "* $gradient-function$ is the main function that deals with computing the gradient\n",
    "* $gradient-element$ sustains $gradient-function$ and corresponds to (26) and (27) in the above stated [paper](https://projet.liris.cnrs.fr/imagine/pub/proceedings/ICPR-2012/media/files/1795.pdf)\n",
    "* $outer-loss$ corresponds to (11) - for target neighbors \n",
    "* $inner-loss-function$ corresponds to (12) - for impostors"
   ]
  },
  {
   "cell_type": "markdown",
   "metadata": {},
   "source": [
    "* $tau-function$ ($\\Psi$ in the text) corresponds to (25) in the above stated [paper](https://projet.liris.cnrs.fr/imagine/pub/proceedings/ICPR-2012/media/files/1795.pdf) "
   ]
  },
  {
   "cell_type": "code",
   "execution_count": 6,
   "metadata": {},
   "outputs": [],
   "source": [
    "#Tau Function\n",
    "def tau_function(X_Matrix, L_Matrix, i, j, alpha):\n",
    "    N, D = np.shape(X_Matrix)\n",
    "    numerator = 0\n",
    "    denominator = 0\n",
    "    for k in prange(D):\n",
    "        numerator +=   L_Matrix[alpha, k] * (X_Matrix[i, k] - X_Matrix[j, k])\n",
    "        denominator += L_Matrix[alpha, k] * (X_Matrix[i, k] + X_Matrix[j, k])\n",
    "    return numerator / denominator"
   ]
  },
  {
   "cell_type": "code",
   "execution_count": 7,
   "metadata": {},
   "outputs": [],
   "source": [
    "def gradient_and_loss_function(X, Y, L_Matrix):\n",
    "    D, D = np.shape(L_Matrix)\n",
    "    gradient_matrix = np.zeros((D,D))\n",
    "    loss = 0\n",
    "    for alpha in prange(D):\n",
    "        for beta in prange(D):\n",
    "            if( (alpha == D-1) and (beta == D-1) ):\n",
    "                gradient_matrix[alpha, beta], loss = gradient_and_loss_element(X, Y, L_Matrix, alpha, beta, True)\n",
    "            else:\n",
    "                gradient_matrix[alpha, beta], _ = gradient_and_loss_element(X, Y, L_Matrix, alpha, beta, True)\n",
    "    return gradient_matrix, loss\n",
    "            \n",
    "def gradient_and_loss_element(X_Matrix, Y, L_Matrix, alpha, beta, return_loss):\n",
    "    global mu\n",
    "    N, _ = np.shape(X_Matrix)\n",
    "    gradient = 0\n",
    "    outer_sum = 0\n",
    "    Inner_sum = 0\n",
    "    loss = 0\n",
    "    for i in prange(N):\n",
    "        Pull = 0\n",
    "        for j in TN_lookup_table[i, :]:\n",
    "            tauij = tau_function(X_Matrix, L_Matrix, i, j, alpha)\n",
    "            Lij = 2 * tauij * (X_Matrix[i, beta] - X_Matrix[j, beta]) - (tauij**2) * (X_Matrix[i, beta] + X_Matrix[j, beta])\n",
    "            outer_sum += Lij\n",
    "            for k in prange(N):\n",
    "                # We need to update the distance to our target neighbours and compute the max distance\n",
    "                if (check(L, X_Matrix[i],  X_Matrix[j],  X_Matrix[k]) and (Y[i] != Y[k])):\n",
    "                    #print(\"   \", i, \" has imposter \", k)\n",
    "                    tauik = tau_function(X_Matrix, L_Matrix, i, k, alpha)\n",
    "                    Lik = 2 * tauik * (X_Matrix[i, beta] - X_Matrix[k, beta]) - (tauik**2) * (X_Matrix[i, beta] + X_Matrix[k, beta])\n",
    "                    Inner_sum += Lij - Lik\n",
    "            # Calculate loss\n",
    "            if(return_loss):\n",
    "                loss += (1 - mu) * pullLoss(X_Matrix, L_Matrix, i, j) + mu * pushLoss(X_Matrix, Y, L_Matrix, i, j)\n",
    "            \n",
    "    gradient = (1 - mu) * outer_sum + mu * Inner_sum\n",
    "    return gradient, loss\n",
    "\n",
    "#Loss for pull\n",
    "def pullLoss(X_Matrix, L_Matrix, i, j):\n",
    "    return chi_square_distance(L_Matrix @ X_Matrix[i], L_Matrix @ X_Matrix[j])\n",
    "            \n",
    "#Loss for push\n",
    "def pushLoss(X_Matrix, Y, L_Matrix, i, j):\n",
    "    loss = 0\n",
    "    N, _ = np.shape(X_Matrix)\n",
    "    for k in prange(N):\n",
    "        if (check(L_Matrix, X_Matrix[i],  X_Matrix[j],  X_Matrix[k]) and (Y[i] != Y[k])):\n",
    "            loss += max(0, l + chi_square_distance(L_Matrix @ X_Matrix[i], L_Matrix @ X_Matrix[j]) - chi_square_distance(L_Matrix @ X_Matrix[i], L_Matrix @ X_Matrix[k]))\n",
    "    return loss"
   ]
  },
  {
   "cell_type": "markdown",
   "metadata": {},
   "source": [
    "## Separate implementation of the loss function, gradient for pulling and gradient for pushing"
   ]
  },
  {
   "cell_type": "markdown",
   "metadata": {},
   "source": [
    "### Implementation of the loss function"
   ]
  },
  {
   "cell_type": "code",
   "execution_count": 8,
   "metadata": {},
   "outputs": [],
   "source": [
    "def loss_function(X, Y, L_Matrix):\n",
    "    loss = 0\n",
    "    D, D = np.shape(L_Matrix)\n",
    "    for alpha in prange(D):\n",
    "        for beta in prange(D):\n",
    "            loss += loss_element(X, Y, L_Matrix, alpha, beta)\n",
    "    return loss\n",
    "\n",
    "def loss_function2(X, Y, L_Matrix):\n",
    "    loss = 0\n",
    "    N, D = np.shape(X)\n",
    "    for i in prange(N):\n",
    "        for j in TN_lookup_table[i]:\n",
    "            loss += (1-mu)*chi_square_distance(L_Matrix @ X[i], L_Matrix @ X[j])\n",
    "            for k in prange(N):\n",
    "                if (check(L_Matrix, X[i],  X[j],  X[k]) and (Y[i] != Y[k])):\n",
    "                    loss += mu*(l + chi_square_distance(L_Matrix @ X[i], L_Matrix @ X[j]) - chi_square_distance(L_Matrix @ X[i], L_Matrix @ X[k]))\n",
    "    return loss\n",
    "\n",
    "def loss_element(X, Y, L_Matrix, alpha, beta):\n",
    "    loss = 0\n",
    "    global mu\n",
    "    N, _ = np.shape(X)\n",
    "    \n",
    "    for i in prange(N):\n",
    "        Pull = 0\n",
    "        for j in TN_lookup_table[i, :]:\n",
    "            # Calculate loss\n",
    "            loss += (1 - mu) * pull_loss(X, L_Matrix, i, j) + mu * push_loss(X, Y, L_Matrix, i, j)\n",
    "    return loss\n",
    "\n",
    "#Loss for pull\n",
    "def pull_loss(X_Matrix, L_Matrix, i, j):\n",
    "    return chi_square_distance(L_Matrix @ X_Matrix[i], L_Matrix @ X_Matrix[j])\n",
    "\n",
    "#Loss for push\n",
    "def push_loss(X_Matrix, Y, L_Matrix, i, j):\n",
    "    loss = 0\n",
    "    N, _ = np.shape(X_Matrix)\n",
    "    for k in prange(N):\n",
    "        if (check(L_Matrix, X_Matrix[i],  X_Matrix[j],  X_Matrix[k]) and (Y[i] != Y[k])):\n",
    "            loss += max(0, l + chi_square_distance(L_Matrix @ X_Matrix[i], L_Matrix @ X_Matrix[j]) - chi_square_distance(L_Matrix @ X_Matrix[i], L_Matrix @ X_Matrix[k]))\n",
    "    return loss"
   ]
  },
  {
   "cell_type": "markdown",
   "metadata": {},
   "source": [
    "### Implementation of the gradient for pulling and pushing"
   ]
  },
  {
   "cell_type": "markdown",
   "metadata": {},
   "source": [
    "* $Pull(XMatrix, LMatrix)$ corresponds to (26)\n",
    "* $Push(XMatrix, LMatrix, Y)$ corresponds to (27)"
   ]
  },
  {
   "cell_type": "code",
   "execution_count": 9,
   "metadata": {},
   "outputs": [],
   "source": [
    "### PULL FUNCTIONS\n",
    "def Pull(X_Matrix, L_Matrix):\n",
    "    D, D = np.shape(L_Matrix)\n",
    "    gradient_matrix = np.zeros((D,D))\n",
    "    for alpha in prange(D):\n",
    "        for beta in prange(D):\n",
    "            gradient_matrix[alpha, beta] = Pull_matrix_element(X_Matrix, L_Matrix, alpha, beta)\n",
    "    return gradient_matrix\n",
    "\n",
    "def Pull_matrix_element(X_Matrix, L_Matrix, alpha, beta):\n",
    "    N, D = np.shape(X_Matrix)\n",
    "    gradient = 0\n",
    "    for i in prange(N):\n",
    "        for j in TN_lookup_table[i, :]:\n",
    "            tau = tau_function(X_Matrix, L_Matrix, i, j, alpha)\n",
    "            gradient += 2 * tau * (X_Matrix[i, beta] - X_Matrix[j, beta]) - (tau**2) * (X_Matrix[i, beta] + X_Matrix[j, beta])\n",
    "    return gradient"
   ]
  },
  {
   "cell_type": "code",
   "execution_count": 10,
   "metadata": {},
   "outputs": [],
   "source": [
    "### PUSH FUNCTIONS\n",
    "def Push(X_Matrix, L_Matrix, Y):\n",
    "    D, D = np.shape(L_Matrix)\n",
    "    gradient_matrix = np.zeros((D,D))\n",
    "    for alpha in prange(D):\n",
    "        for beta in prange(D):\n",
    "            gradient_matrix[alpha, beta] = Push_matrix_element(X_Matrix, L_Matrix, Y, alpha, beta)\n",
    "    return gradient_matrix\n",
    "\n",
    "def Push_matrix_element(X_Matrix, L_Matrix, Y, alpha, beta):\n",
    "    N, D = np.shape(X_Matrix)\n",
    "    gradient = 0\n",
    "    for i in prange(N):\n",
    "        for j in TN_lookup_table[i, :]:\n",
    "            for k in prange(N):\n",
    "                if (check(L, X_Matrix[i],  X_Matrix[j],  X_Matrix[k]) and (Y[i] != Y[k])):\n",
    "                    tauij = tau_function(X_Matrix, L_Matrix, i, j, alpha)\n",
    "                    tauik = tau_function(X_Matrix, L_Matrix, i, k, alpha)\n",
    "                    Lij = 2 * tauij * (X_Matrix[i, beta] - X_Matrix[j, beta])          - (tauij**2) * (X_Matrix[i, beta] + X_Matrix[j, beta])\n",
    "                    Lik = 2 * tauik * (X_Matrix[i, beta] - X_Matrix[k, beta]) - (tauik**2) * (X_Matrix[i, beta] + X_Matrix[k, beta])\n",
    "                    gradient += Lij - Lik\n",
    "    return gradient"
   ]
  },
  {
   "cell_type": "markdown",
   "metadata": {},
   "source": [
    "The update for the gradient is done based on the predefined learning rate.\n",
    "The gradient should not be negative and its values should sum up to 1. Thus, we have made use of the softmax function for updating the gradient."
   ]
  },
  {
   "cell_type": "code",
   "execution_count": 11,
   "metadata": {},
   "outputs": [],
   "source": [
    "def update_step(G):\n",
    "    \"\"\"\n",
    "    Update L\n",
    "    \n",
    "    :param G: Computed gradient for a given iteration\n",
    "    \"\"\"\n",
    "    global L\n",
    "    new_L = L - alpha * G\n",
    "    L = softmax(new_L, axis = 0)"
   ]
  },
  {
   "cell_type": "markdown",
   "metadata": {},
   "source": [
    "## Artificial Data"
   ]
  },
  {
   "cell_type": "code",
   "execution_count": 12,
   "metadata": {},
   "outputs": [],
   "source": [
    "pts=np.random.dirichlet([.5,.5,.5], size = 100)\n",
    "\n",
    "C1 = pts[:,0] > 0.4\n",
    "C2 = pts[:,1] > 0.4\n",
    "C3 = np.logical_and(np.logical_not(C1), np.logical_not(C2))\n",
    "\n",
    "## To create some noise we make 12 of the C1 observations the other classes.\n",
    "n_remove = 10\n",
    "c1remove = random.sample(prange(len(C1)), n_remove)\n",
    "C1[c1remove] = False\n",
    "C2[c1remove[0:int(n_remove*0.5 - 1)]] = True\n",
    "C3[c1remove[int(n_remove*0.5):int(n_remove - 1)]] = True\n",
    "\n",
    "c2remove = random.sample(prange(len(C2)), n_remove)\n",
    "C2[c2remove] = False\n",
    "C1[c2remove[0:int(n_remove*0.5 - 1)]] = True\n",
    "C3[c2remove[int(n_remove*0.5):int(n_remove - 1)]] = True\n",
    "\n",
    "c3remove = random.sample(prange(len(C2)), n_remove)\n",
    "C3[c3remove] = False\n",
    "C1[c3remove[0:int(n_remove*0.5 - 1)]] = True\n",
    "C2[c3remove[int(n_remove*0.5):int(n_remove - 1)]] = True"
   ]
  },
  {
   "cell_type": "code",
   "execution_count": 13,
   "metadata": {},
   "outputs": [],
   "source": [
    "# Based on post from Thomas Boggs (http://blog.bogatron.net/blog/2014/02/02/visualizing-dirichlet-distributions/)\n",
    "_corners = np.array([[0, 0], [1, 0], [0.5, 0.75**0.5]])\n",
    "_triangle = tri.Triangulation(_corners[:, 0], _corners[:, 1])\n",
    "\n",
    "def plot_points(X, labels, centre, ind):\n",
    "    '''Plots a set of points in the simplex.\n",
    "\n",
    "    Arguments:\n",
    "\n",
    "        `X` (ndarray): A 2xN array (if in Cartesian coords) or 3xN array\n",
    "                       (if in barycentric coords) of points to plot.\n",
    "    '''\n",
    "    if len(X) != len(labels):\n",
    "        print(\"Dimensions don't match...\")\n",
    "        return 0\n",
    "    \n",
    "    C1 = (labels == 0)\n",
    "    C2 = (labels == 1)\n",
    "    C3 = (labels == 2)\n",
    "    \n",
    "    MS = 0\n",
    "    if centre:\n",
    "        MS = 2\n",
    "    else:\n",
    "        MS = 8\n",
    "    \n",
    "    X = X.dot(_corners)  #This is what converts the original points onto the simplex (it projects on it, through dot product)\n",
    "    plt.plot(X[C1, 0], X[C1, 1], 'k.', ms=MS, c = \"red\")\n",
    "    plt.plot(X[C2, 0], X[C2, 1], 'k.', ms=MS, c = \"blue\")\n",
    "    plt.plot(X[C3, 0], X[C3, 1], 'k.', ms=MS, c = \"green\")\n",
    "\n",
    "    if(ind >= 0):\n",
    "        plt.plot(X[ind, 0], X[ind, 1], '*', ms=MS, c = \"black\")\n",
    "    plt.axis('equal')\n",
    "    if centre:\n",
    "        plt.xlim(0.3, 0.7)\n",
    "        plt.ylim(0.33, 0.34)\n",
    "    else:\n",
    "        plt.xlim(0, 1)\n",
    "        plt.ylim(0, 0.75**0.5)\n",
    "    \n",
    "    plt.axis('off')\n",
    "    plt.triplot(_triangle, linewidth=1)\n",
    "    plt.show()"
   ]
  },
  {
   "cell_type": "code",
   "execution_count": 14,
   "metadata": {},
   "outputs": [],
   "source": [
    "label = np.zeros(len(pts))\n",
    "label[C1] = 0\n",
    "label[C2] = 1\n",
    "label[C3] = 2\n",
    "X_train, X_test, y_train, y_test = train_test_split(pts, label, test_size=0.2, random_state=0)"
   ]
  },
  {
   "cell_type": "code",
   "execution_count": 15,
   "metadata": {},
   "outputs": [
    {
     "data": {
      "image/png": "[encoded data removed]",
      "text/plain": [
       "<Figure size 432x288 with 1 Axes>"
      ]
     },
     "metadata": {
      "needs_background": "light"
     },
     "output_type": "display_data"
    }
   ],
   "source": [
    "#It's very important to set the margin very low as the data points are quite densly packed\n",
    "mu = 0.5\n",
    "K = 3\n",
    "alpha = 0.0001\n",
    "l = 0.15\n",
    "_, D = np.shape(X_train)\n",
    "L = np.eye(D)\n",
    "\n",
    "TN_lookup_table, TN_distance_table = find_target_neighbors(X_train, y_train, L)\n",
    "C1train = (y_train == 0)\n",
    "C2train = (y_train == 1)\n",
    "C3train = (y_train == 2)\n",
    "\n",
    "plot_points(X_train, y_train, False, -1)"
   ]
  },
  {
   "cell_type": "code",
   "execution_count": 16,
   "metadata": {},
   "outputs": [
    {
     "name": "stdout",
     "output_type": "stream",
     "text": [
      "  Iteration:  1\n",
      "[47.388095716246625]\n",
      "   Accuracy of iteration =  0.95\n",
      "  Iteration:  2\n",
      "[47.388095716246625, 70.43786813163956]\n",
      "   Accuracy of iteration =  0.95\n",
      "  Iteration:  3\n",
      "[47.388095716246625, 70.43786813163956, 254.8493068034073]\n",
      "   Accuracy of iteration =  0.95\n",
      "  Iteration:  1\n",
      "[47.388095716246625, 70.43786813163956, 254.8493068034073, 79.81512229881804]\n",
      "   Accuracy of iteration =  0.95\n",
      "  Iteration:  2\n",
      "[47.388095716246625, 70.43786813163956, 254.8493068034073, 79.81512229881804, 257.7553643201854]\n",
      "   Accuracy of iteration =  0.95\n",
      "  Iteration:  3\n",
      "[47.388095716246625, 70.43786813163956, 254.8493068034073, 79.81512229881804, 257.7553643201854, 533.1837007201052]\n",
      "   Accuracy of iteration =  0.95\n",
      "  Iteration:  1\n",
      "[47.388095716246625, 70.43786813163956, 254.8493068034073, 79.81512229881804, 257.7553643201854, 533.1837007201052, 123.93054753965988]\n",
      "   Accuracy of iteration =  0.95\n",
      "  Iteration:  2\n",
      "[47.388095716246625, 70.43786813163956, 254.8493068034073, 79.81512229881804, 257.7553643201854, 533.1837007201052, 123.93054753965988, 542.1144035755437]\n",
      "   Accuracy of iteration =  0.95\n",
      "  Iteration:  3\n",
      "[47.388095716246625, 70.43786813163956, 254.8493068034073, 79.81512229881804, 257.7553643201854, 533.1837007201052, 123.93054753965988, 542.1144035755437, 808.2418927903166]\n",
      "   Accuracy of iteration =  0.95\n",
      "  Iteration:  1\n",
      "[47.388095716246625, 70.43786813163956, 254.8493068034073, 79.81512229881804, 257.7553643201854, 533.1837007201052, 123.93054753965988, 542.1144035755437, 808.2418927903166, 181.054440396478]\n",
      "   Accuracy of iteration =  0.95\n",
      "  Iteration:  2\n",
      "[47.388095716246625, 70.43786813163956, 254.8493068034073, 79.81512229881804, 257.7553643201854, 533.1837007201052, 123.93054753965988, 542.1144035755437, 808.2418927903166, 181.054440396478, 849.505993719674]\n",
      "   Accuracy of iteration =  0.95\n",
      "  Iteration:  3\n",
      "[47.388095716246625, 70.43786813163956, 254.8493068034073, 79.81512229881804, 257.7553643201854, 533.1837007201052, 123.93054753965988, 542.1144035755437, 808.2418927903166, 181.054440396478, 849.505993719674, 1119.7926034464972]\n",
      "   Accuracy of iteration =  0.95\n",
      "  Iteration:  1\n",
      "[47.388095716246625, 70.43786813163956, 254.8493068034073, 79.81512229881804, 257.7553643201854, 533.1837007201052, 123.93054753965988, 542.1144035755437, 808.2418927903166, 181.054440396478, 849.505993719674, 1119.7926034464972, 252.54680217226277]\n",
      "   Accuracy of iteration =  0.95\n",
      "  Iteration:  2\n",
      "[47.388095716246625, 70.43786813163956, 254.8493068034073, 79.81512229881804, 257.7553643201854, 533.1837007201052, 123.93054753965988, 542.1144035755437, 808.2418927903166, 181.054440396478, 849.505993719674, 1119.7926034464972, 252.54680217226277, 1152.5770724155443]\n",
      "   Accuracy of iteration =  0.95\n",
      "  Iteration:  3\n",
      "[47.388095716246625, 70.43786813163956, 254.8493068034073, 79.81512229881804, 257.7553643201854, 533.1837007201052, 123.93054753965988, 542.1144035755437, 808.2418927903166, 181.054440396478, 849.505993719674, 1119.7926034464972, 252.54680217226277, 1152.5770724155443, 1430.8548656353016]\n",
      "   Accuracy of iteration =  0.95\n"
     ]
    }
   ],
   "source": [
    "ITERATIONS = 3\n",
    "lossOld = 0\n",
    "lRange = np.arange(0.05, 0.3, 0.05)\n",
    "alphaRange = np.arange(0.05, 0.3, 0.05)\n",
    "muRange = np.arange(0.1, 0.6, 0.1)\n",
    "\n",
    "## Initialize the lists for ploting and finding the best combination\n",
    "lossList = []\n",
    "accuracy = []\n",
    "lList = []\n",
    "alphaList = []\n",
    "muList = []\n",
    "\n",
    "        \n",
    "for l in lRange:\n",
    "\n",
    "    ## Initialise L matrix as suggested in the paper\n",
    "    L = 10*np.eye(D, dtype=float) + 0.01*D\n",
    "    L = softmax(L, axis = 0)\n",
    "\n",
    "    ## Update the gradient and check the loss\n",
    "    for i in prange(ITERATIONS):\n",
    "        print(\"  Iteration: \", i+1)\n",
    "\n",
    "        ## Calculate the gradient and the loss\n",
    "        Gt, lossNew = gradient_and_loss_function(X_train, y_train, L)\n",
    "\n",
    "        ## Loss scores\n",
    "        lossList.append(lossNew)\n",
    "        print(lossList)\n",
    "\n",
    "        ## Plot the data step-wise\n",
    "        ## plot_points( (L @ X_train.T).T, y_train, False, -1)\n",
    "\n",
    "        ## Checks and behavior updates\n",
    "        if(abs(lossNew - lossOld) < 1e-8):\n",
    "            print(\"Converged...\")\n",
    "            break\n",
    "\n",
    "        lossOld = lossNew\n",
    "\n",
    "        ## Accuracy scores\n",
    "        prediction = []\n",
    "        for i in prange(len(X_test)):\n",
    "            prediction.append(random.choice(calc_mode(knnClassifier.knn(X_test[i], X_train, y_train, L, 5))))\n",
    "        accuracy.append(accuracy_score(y_test.astype(str), prediction))\n",
    "        print(\"   Accuracy of iteration = \", accuracy[-1])\n",
    "\n",
    "        ## Update the transformation matrix using the gradient.\n",
    "        update_step(Gt)"
   ]
  },
  {
   "cell_type": "code",
   "execution_count": 138,
   "metadata": {},
   "outputs": [
    {
     "name": "stdout",
     "output_type": "stream",
     "text": [
      "List of alphas:  5\n",
      "List of margins:  25\n",
      "List of mu:  125\n",
      "Loss number:  375\n"
     ]
    }
   ],
   "source": [
    "print(\"List of alphas: \", len(alphaList))\n",
    "print(\"List of margins: \", len(lList))\n",
    "print(\"List of mu: \", len(muList))\n",
    "print(\"Loss number: \", len(lossList))"
   ]
  },
  {
   "cell_type": "markdown",
   "metadata": {},
   "source": [
    "## Plots"
   ]
  },
  {
   "cell_type": "code",
   "execution_count": 141,
   "metadata": {},
   "outputs": [
    {
     "data": {
      "image/png": "[encoded data removed]",
      "text/plain": [
       "<Figure size 432x288 with 1 Axes>"
      ]
     },
     "metadata": {
      "needs_background": "light"
     },
     "output_type": "display_data"
    },
    {
     "data": {
      "image/png": "[encoded data removed]",
      "text/plain": [
       "<Figure size 432x288 with 1 Axes>"
      ]
     },
     "metadata": {
      "needs_background": "light"
     },
     "output_type": "display_data"
    },
    {
     "data": {
      "image/png": "[encoded data removed]",
      "text/plain": [
       "<Figure size 432x288 with 1 Axes>"
      ]
     },
     "metadata": {
      "needs_background": "light"
     },
     "output_type": "display_data"
    }
   ],
   "source": [
    "acc = accuracy[::ITERATIONS]\n",
    "plt.plot(lList, acc)\n",
    "plt.show()"
   ]
  },
  {
   "cell_type": "markdown",
   "metadata": {},
   "source": [
    "## The right index for each componet should be determined"
   ]
  },
  {
   "cell_type": "code",
   "execution_count": 152,
   "metadata": {},
   "outputs": [
    {
     "name": "stdout",
     "output_type": "stream",
     "text": [
      "Minimum loss:  12.395884551910171\n"
     ]
    }
   ],
   "source": [
    "maxAccIndex = accuracy.index(max(accuracy))\n",
    "minLIndex = int(np.ceil(minMuIndex/ITERATIONS))\n",
    "print(\"Max accuracy: \", max(accuracy))"
   ]
  },
  {
   "cell_type": "markdown",
   "metadata": {},
   "source": [
    "## Consider only the most optimal parameters"
   ]
  },
  {
   "cell_type": "code",
   "execution_count": 151,
   "metadata": {},
   "outputs": [
    {
     "name": "stdout",
     "output_type": "stream",
     "text": [
      "Best values for Margin (l):  0.1\n",
      "Best values for Training rate (alpha):  0.2\n",
      "Best values for Coefficient (mu):  0.2\n"
     ]
    }
   ],
   "source": [
    "titles = [\"Margin (l)\", \"Training rate (alpha)\", \"Coefficient (mu)\"]\n",
    "lists = [lList, alphaList, muList]\n",
    "indexes = [minLIndex, minAlphaIndex, minMuIndex]\n",
    "\n",
    "for i in prange(len(lists)):\n",
    "    print(\"Best values for {}: \".format(titles[i]), lists[i][indexes[i]])"
   ]
  },
  {
   "cell_type": "markdown",
   "metadata": {},
   "source": [
    "## Visualizations"
   ]
  },
  {
   "cell_type": "code",
   "execution_count": 165,
   "metadata": {},
   "outputs": [
    {
     "data": {
      "text/plain": [
       "0.8"
      ]
     },
     "execution_count": 165,
     "metadata": {},
     "output_type": "execute_result"
    }
   ],
   "source": [
    "prediction = []\n",
    "for i in prange(len(X_test)):\n",
    "    prediction.append(random.choice(calc_mode(knnClassifier.knn(X_test[i], X_train, y_train, L, 10))))\n",
    "accuracy_score(y_test.astype(str), prediction)"
   ]
  },
  {
   "cell_type": "code",
   "execution_count": 179,
   "metadata": {},
   "outputs": [],
   "source": [
    "L[0] = [0.3351447,  0.33249944, 0.33235902]\n",
    "L[1] = [0.33249707, 0.33484983, 0.33264931]\n",
    "L[2] = [0.33235823, 0.33265073, 0.33499167]"
   ]
  },
  {
   "cell_type": "code",
   "execution_count": 181,
   "metadata": {},
   "outputs": [],
   "source": [
    "L[0] = np.array([0.58114561, 0.12985278, 0.32734025])\n",
    "L[1] = np.array([0.06352982, 0.71862922, 0.13309158])\n",
    "L[2] = np.array([0.35532456, 0.15151801, 0.53956817])"
   ]
  },
  {
   "cell_type": "code",
   "execution_count": 156,
   "metadata": {},
   "outputs": [
    {
     "data": {
      "image/png": "[encoded data removed]",
      "text/plain": [
       "<Figure size 432x288 with 1 Axes>"
      ]
     },
     "metadata": {
      "needs_background": "light"
     },
     "output_type": "display_data"
    }
   ],
   "source": [
    "plot_points( (L @ X_train.T).T, y_train, False, 0)"
   ]
  },
  {
   "cell_type": "code",
   "execution_count": 157,
   "metadata": {},
   "outputs": [
    {
     "data": {
      "image/png": "[encoded data removed]",
      "text/plain": [
       "<Figure size 432x288 with 1 Axes>"
      ]
     },
     "metadata": {
      "needs_background": "light"
     },
     "output_type": "display_data"
    }
   ],
   "source": [
    "plot_points(X_train, y_train, False, -1)"
   ]
  },
  {
   "cell_type": "markdown",
   "metadata": {},
   "source": [
    "## Parameter initialization and lookup table"
   ]
  },
  {
   "cell_type": "code",
   "execution_count": 167,
   "metadata": {},
   "outputs": [],
   "source": [
    "#It's very important to set the margin very low as the data points are quite densly packed\n",
    "mu = 0.2\n",
    "K = 1\n",
    "alpha = 0.02\n",
    "_, D = np.shape(X_train)\n",
    "L = np.eye(D, dtype=float)"
   ]
  },
  {
   "cell_type": "code",
   "execution_count": 168,
   "metadata": {},
   "outputs": [],
   "source": [
    "TN_lookup_table, TN_distance_table = find_target_neighbors(X_train, y_train, L)\n",
    "l = 0.1"
   ]
  },
  {
   "cell_type": "markdown",
   "metadata": {},
   "source": [
    "### Histograms using the initial linear transformation matrix L"
   ]
  },
  {
   "cell_type": "code",
   "execution_count": 162,
   "metadata": {},
   "outputs": [
    {
     "data": {
      "image/png": "[encoded data removed]",
      "text/plain": [
       "<Figure size 432x288 with 3 Axes>"
      ]
     },
     "metadata": {
      "needs_background": "light"
     },
     "output_type": "display_data"
    }
   ],
   "source": [
    "new_X = (L @ X_train.T).T\n",
    "\n",
    "plot_items = new_X[10:25:5,:]\n",
    "plot_labels = y_train[10:25:5]\n",
    "Plots.plot_some_data(plot_items, plot_labels)"
   ]
  },
  {
   "cell_type": "markdown",
   "metadata": {},
   "source": [
    "## Run"
   ]
  },
  {
   "cell_type": "code",
   "execution_count": 169,
   "metadata": {},
   "outputs": [
    {
     "name": "stdout",
     "output_type": "stream",
     "text": [
      "0\n",
      "[[0.56669732 0.18413475 0.18032518]\n",
      " [0.22823836 0.58769675 0.20085815]\n",
      " [0.20506432 0.2281685  0.61881666]]\n",
      "9.79293994275151\n",
      "\n",
      "\n",
      "1\n",
      "[[0.92966253 0.02459221 0.03390534]\n",
      " [0.03546211 0.94706389 0.02571504]\n",
      " [0.03487537 0.02834391 0.94037961]]\n",
      "37.79871842468788\n",
      "\n",
      "\n",
      "2\n",
      "[[0.57488779 0.19492422 0.19173185]\n",
      " [0.22959189 0.58341425 0.20725964]\n",
      " [0.19552032 0.22166154 0.60100851]]\n",
      "10.270294044349525\n",
      "\n",
      "\n",
      "3\n",
      "[[0.93924147 0.02286333 0.03289051]\n",
      " [0.03134839 0.95072702 0.02543929]\n",
      " [0.02941014 0.02640965 0.9416702 ]]\n",
      "38.892919546237735\n",
      "\n",
      "\n",
      "4\n",
      "[[0.57673285 0.19374177 0.19245642]\n",
      " [0.22851415 0.58456305 0.20771348]\n",
      " [0.194753   0.22169518 0.5998301 ]]\n",
      "10.226729506835513\n",
      "\n",
      "\n",
      "5\n",
      "[[0.93647321 0.02397263 0.03349266]\n",
      " [0.0331087  0.94921155 0.0255035 ]\n",
      " [0.03041808 0.02681581 0.94100384]]\n",
      "38.74699392444485\n",
      "\n",
      "\n",
      "6\n",
      "[[0.57591948 0.19459169 0.19246105]\n",
      " [0.22904273 0.58396905 0.20730193]\n",
      " [0.19503779 0.22143926 0.60023703]]\n",
      "10.240991706284161\n",
      "\n",
      "\n",
      "7\n",
      "[[0.93797245 0.02341685 0.03334748]\n",
      " [0.03213324 0.94989363 0.02557516]\n",
      " [0.02989432 0.02668952 0.94107736]]\n",
      "38.825503141051236\n",
      "\n",
      "\n",
      "8\n",
      "[[0.57639968 0.19427675 0.19230883]\n",
      " [0.22880745 0.58436707 0.20730814]\n",
      " [0.19479287 0.22135618 0.60038303]]\n",
      "10.235086800712093\n",
      "\n",
      "\n",
      "9\n",
      "[[0.93718096 0.02377408 0.03338028]\n",
      " [0.03267123 0.94945587 0.02554524]\n",
      " [0.03014781 0.02677005 0.94107448]]\n",
      "38.74561696844086\n",
      "\n",
      "\n"
     ]
    },
    {
     "data": {
      "image/png": "[encoded data removed]",
      "text/plain": [
       "<Figure size 432x288 with 1 Axes>"
      ]
     },
     "metadata": {
      "needs_background": "light"
     },
     "output_type": "display_data"
    }
   ],
   "source": [
    "ITERATIONS = 10\n",
    "lossList = []\n",
    "\n",
    "for i in prange(ITERATIONS):\n",
    "    print(i)\n",
    "    #Gt = (1 - mu) * Pull(X_train, L) + mu * Push(X_train, L, y_train)\n",
    "    #loss = loss_function(X_train, y_train, L)\n",
    "    Gt, loss = gradient_and_loss_function(X_train, y_train, L)\n",
    "    lossList.append(loss)\n",
    "    update_step(Gt)\n",
    "    print(L)\n",
    "    print(loss)\n",
    "    print(\"\\n\")\n",
    "    \n",
    "\n",
    "plt.plot(lossList, '-')\n",
    "plt.show()"
   ]
  },
  {
   "cell_type": "markdown",
   "metadata": {},
   "source": [
    "As expected, the loss follows an exponentially decreasing function. Having as component the loss from pushing the impostors and pulling the target neighbors, this means that the target neighbors are pulled closer and the impostors pushed away."
   ]
  },
  {
   "cell_type": "markdown",
   "metadata": {},
   "source": [
    "### Plot of the linear trasformation matrix L"
   ]
  },
  {
   "cell_type": "code",
   "execution_count": 170,
   "metadata": {},
   "outputs": [
    {
     "data": {
      "image/png": "[encoded data removed]",
      "text/plain": [
       "<Figure size 432x288 with 2 Axes>"
      ]
     },
     "metadata": {
      "needs_background": "light"
     },
     "output_type": "display_data"
    }
   ],
   "source": [
    "Plots.plot_kernel(L)"
   ]
  },
  {
   "cell_type": "markdown",
   "metadata": {},
   "source": [
    "### Histograms using the updated linear transformation matrix L"
   ]
  },
  {
   "cell_type": "code",
   "execution_count": 171,
   "metadata": {},
   "outputs": [
    {
     "data": {
      "image/png": "[encoded data removed]",
      "text/plain": [
       "<Figure size 432x288 with 3 Axes>"
      ]
     },
     "metadata": {
      "needs_background": "light"
     },
     "output_type": "display_data"
    },
    {
     "data": {
      "text/plain": [
       "array([[0.40225662, 0.50119244, 0.09655094],\n",
       "       [0.16330309, 0.44955529, 0.38714162],\n",
       "       [0.83413866, 0.11864092, 0.04722041]])"
      ]
     },
     "execution_count": 171,
     "metadata": {},
     "output_type": "execute_result"
    }
   ],
   "source": [
    "#new_X = X_train\n",
    "new_X = (L @ X_train.T).T\n",
    "plot_items = new_X[10:20:4,:]\n",
    "plot_labels = y_train[10:20:4]\n",
    "Plots.plot_some_data(plot_items, plot_labels)\n",
    "new_X[10:20:4,:]"
   ]
  },
  {
   "cell_type": "markdown",
   "metadata": {},
   "source": [
    "## Confusion matrix stating the accuracy"
   ]
  },
  {
   "cell_type": "markdown",
   "metadata": {},
   "source": [
    "Further, in order to check the increase in accuracy, we have implemented a knnClassifier"
   ]
  },
  {
   "cell_type": "code",
   "execution_count": 174,
   "metadata": {},
   "outputs": [
    {
     "name": "stdout",
     "output_type": "stream",
     "text": [
      "Confusion matrix, without normalization\n",
      "[[2 1 0]\n",
      " [0 7 1]\n",
      " [0 3 6]]\n"
     ]
    },
    {
     "data": {
      "image/png": "[encoded data removed]",
      "text/plain": [
       "<Figure size 432x288 with 2 Axes>"
      ]
     },
     "metadata": {
      "needs_background": "light"
     },
     "output_type": "display_data"
    }
   ],
   "source": [
    "import plot_confusion_matrix\n",
    "prediction = []\n",
    "\n",
    "for i in prange(len(X_test)):\n",
    "    prediction.append(random.choice(calc_mode(knnClassifier.knn(X_test[i], X_train, y_train, L, 10))))\n",
    "confusion_matrix = plot_confusion_matrix.plot_confusion_matrix(y_test.astype(str), prediction, normalize=False)"
   ]
  },
  {
   "cell_type": "code",
   "execution_count": 176,
   "metadata": {},
   "outputs": [
    {
     "name": "stdout",
     "output_type": "stream",
     "text": [
      "Confusion matrix, without normalization\n",
      "[[2 1 0]\n",
      " [0 7 1]\n",
      " [0 3 6]]\n"
     ]
    },
    {
     "data": {
      "image/png": "[encoded data removed]",
      "text/plain": [
       "<Figure size 432x288 with 2 Axes>"
      ]
     },
     "metadata": {
      "needs_background": "light"
     },
     "output_type": "display_data"
    }
   ],
   "source": [
    "prediction = []\n",
    "\n",
    "for i in prange(len(X_test)):\n",
    "    prediction.append(random.choice(calc_mode(knnClassifier.knn(X_test[i], X_train, y_train, np.eye(D), 10))))\n",
    "confusion_matrix = plot_confusion_matrix.plot_confusion_matrix(y_test.astype(str), prediction, normalize=False)"
   ]
  }
 ],
 "metadata": {
  "kernelspec": {
   "display_name": "Python 3",
   "language": "python",
   "name": "python3"
  },
  "language_info": {
   "codemirror_mode": {
    "name": "ipython",
    "version": 3
   },
   "file_extension": ".py",
   "mimetype": "text/x-python",
   "name": "python",
   "nbconvert_exporter": "python",
   "pygments_lexer": "ipython3",
   "version": "3.6.8"
  },
  "toc": {
   "base_numbering": 1,
   "nav_menu": {},
   "number_sections": true,
   "sideBar": true,
   "skip_h1_title": false,
   "title_cell": "Table of Contents",
   "title_sidebar": "Contents",
   "toc_cell": false,
   "toc_position": {},
   "toc_section_display": true,
   "toc_window_display": false
  }
 },
 "nbformat": 4,
 "nbformat_minor": 2
}
