{
 "cells": [
  {
   "cell_type": "markdown",
   "metadata": {},
   "source": [
    "## Imports"
   ]
  },
  {
   "cell_type": "code",
   "execution_count": 1,
   "metadata": {},
   "outputs": [],
   "source": [
    "# !git clone https://github.com/Holstrup/MetricLearning\n",
    "# import os\n",
    "# os.chdir(\"MetricLearning/MetricLearning\")\n",
    "# !git pull"
   ]
  },
  {
   "cell_type": "code",
   "execution_count": 1,
   "metadata": {},
   "outputs": [
    {
     "name": "stderr",
     "output_type": "stream",
     "text": [
      "Using TensorFlow backend.\n"
     ]
    },
    {
     "data": {
      "text/plain": [
       "{'divide': 'warn', 'over': 'warn', 'under': 'ignore', 'invalid': 'warn'}"
      ]
     },
     "execution_count": 1,
     "metadata": {},
     "output_type": "execute_result"
    }
   ],
   "source": [
    "import sklearn.metrics as sk_metrics\n",
    "import sklearn.decomposition as sk_decomp\n",
    "import sklearn.datasets as datasets\n",
    "from sklearn.model_selection import train_test_split\n",
    "from sklearn.metrics import confusion_matrix\n",
    "import numpy as np\n",
    "import Model\n",
    "import Plots\n",
    "import matplotlib.pyplot as plt\n",
    "import knnClassifier\n",
    "from sklearn.utils.extmath import softmax\n",
    "import plot_confusion_matrix as plots\n",
    "import random\n",
    "from knnClassifier import calc_mode\n",
    "\n",
    "# We ignore divisions by 0. We will do that in the chi square distance, but we don't care. \n",
    "np.seterr(divide='ignore', invalid='ignore')"
   ]
  },
  {
   "cell_type": "markdown",
   "metadata": {},
   "source": [
    "## Hyperparameters"
   ]
  },
  {
   "cell_type": "markdown",
   "metadata": {},
   "source": [
    "Underneath you can define the hyperparameters, l, mu and K.\n",
    "* $l$ is the margin parameter\n",
    "* $\\mu$ is a trade-off parameter between the push and pull in the loss function\n",
    "* $K$ is the number of target neighbors \n",
    "* $D$ is the dimensionality of our data. We choose that arbitrarily\n",
    "* $L$ is the linear transformation\n",
    "\n",
    "L is set to be a diagonal matrix of ones to begin with. However, it would be interesting to experiement with other initial L matrices, since the problem is non-convex. We could also try to implement the constrained non-convex version of LMNN."
   ]
  },
  {
   "cell_type": "code",
   "execution_count": 2,
   "metadata": {},
   "outputs": [],
   "source": [
    "l = 0.5\n",
    "mu = 0.5\n",
    "K = 5\n",
    "D = 10\n",
    "L = np.eye(D, dtype=float)\n",
    "alpha = 0.001"
   ]
  },
  {
   "cell_type": "markdown",
   "metadata": {},
   "source": [
    "## Functions"
   ]
  },
  {
   "cell_type": "markdown",
   "metadata": {},
   "source": [
    "This block defines two functions that we will use to compute the distances. The first function calculates the distance given two points xi and xj. The second function calculates the distance between some point xi and all the other points X, through the L space. This is very important to note. "
   ]
  },
  {
   "cell_type": "markdown",
   "metadata": {},
   "source": [
    "* $chi-square-distance(xi, xj)$ corresponds to (3) in the [Non-linear metric learning paper](http://www.cs.cornell.edu/~kilian/papers/chilmnn.pdf)\n",
    "* $distance(xi, X)$ is an extension to $chi-square-distance(xi, xj)$, namely finding the chi square distance from one point xi, to all the other points"
   ]
  },
  {
   "cell_type": "code",
   "execution_count": 3,
   "metadata": {},
   "outputs": [],
   "source": [
    "def chi_square_distance(xi, xj):\n",
    "    \"\"\"\n",
    "    Chi square distance\n",
    "\n",
    "    :param xi: Embedding       (1, D)\n",
    "    :param xj: Target Neighbor (1, D)\n",
    "    :return: Distance\n",
    "    \"\"\"\n",
    "    return 1 / 2 * np.nansum(np.square(xi - xj) / (xi + xj))\n",
    "\n",
    "def distance(xi, X, L):\n",
    "    \"\"\"\n",
    "    Chi square distance from one point xi, to all other points\n",
    "    \n",
    "    :param xi: Embedding       (1, D)\n",
    "    :param X: Data             (N, D)\n",
    "    :return: Distances         (1, N)\n",
    "    \n",
    "    \"\"\"\n",
    "    N, K = np.shape(X)\n",
    "    Distances = np.zeros(N)\n",
    "    for i in range(N):\n",
    "        Distances[i] = chi_square_distance(L @ xi, L @ X[i, :])\n",
    "    return Distances"
   ]
  },
  {
   "cell_type": "markdown",
   "metadata": {},
   "source": [
    "These next functions are calculating the target neighbors and the imposters. Read through the comments, and it should make sense how it is done. One little note: In the target neighbours function, we find the distance through the L space. This is meant as the initial L space. We only find these target neighbours once, and should therefore not update what target neighbors a specific point xi has. "
   ]
  },
  {
   "cell_type": "code",
   "execution_count": 113,
   "metadata": {},
   "outputs": [],
   "source": [
    "def find_target_neighbors(X, Y, L):\n",
    "    \"\"\"\n",
    "    Find target neighbours for all points\n",
    "    \n",
    "    :param X: Data Matrix      (N, D)\n",
    "    :param Y: Labels           (1, N)\n",
    "    :return: TN_lookup_table   (N, K)\n",
    "    :return: TN_distance_table (N, K)\n",
    "    \"\"\"\n",
    "    \n",
    "    global TN_lookup_table\n",
    "    global TN_distance_table\n",
    "    \n",
    "    N, _ = np.shape(X)\n",
    "    TN_lookup_table = np.zeros((N, K))\n",
    "    TN_distance_table = np.zeros((N, K))\n",
    "\n",
    "    for i in range(N):\n",
    "        xi = X[i,:]\n",
    "        yi = Y[i]\n",
    "        \n",
    "        # Find distance from xi to all other points\n",
    "        TN_Distances = distance(xi, X, L)\n",
    "        TN_Indicies = np.argsort(TN_Distances)\n",
    "        j = k = 0\n",
    "        \n",
    "        #Loop to add indicies of target neighbours to lookup table\n",
    "        while j < K:\n",
    "            # if yi and target neighbour have the same label AND it is not the same point\n",
    "            if Y[TN_Indicies[k]] == yi and TN_Indicies[k] != i:\n",
    "                # Add to lookup table and distance table\n",
    "                TN_lookup_table[i, j] = TN_Indicies[k]\n",
    "                TN_distance_table[i, j] = TN_Distances[TN_Indicies[k]]\n",
    "                j += 1\n",
    "            k += 1\n",
    "    TN_lookup_table = TN_lookup_table.astype(int)\n",
    "    return TN_lookup_table, TN_distance_table\n",
    "\n",
    "#Check if the impostor is within the margin of the target neighbor + marginal distance l\n",
    "def check(L, xi, xj, xk):\n",
    "    return (chi_square_distance(L @ xi, L @ xj) + l >= chi_square_distance(L @ xi, L @ xk)) "
   ]
  },
  {
   "cell_type": "markdown",
   "metadata": {},
   "source": [
    "## LMNN Functions\n",
    "\n",
    "These next functions, are made from looking at this [Chi square Metric Learning for Nearest Neighbor Classification and Its Analysis paper](https://projet.liris.cnrs.fr/imagine/pub/proceedings/ICPR-2012/media/files/1795.pdf). Specifically, if you scroll to the last page you can see the equations that are implemented below. Here are some notes, that helps when you read it: \n",
    "* $L_{\\alpha, \\beta}$ refers to the alpha'th row and the beta'th column in the L matrix. Same goes for all the other places there is subscript. \n",
    "* $\\psi_{i, j, \\alpha}$ in this paper is the same as $t_{i,j}$ in the Yang paper\n",
    "* In this paper they refer to imposters with the letter l (as opposed to k in the other papers)\n",
    "* $\\xi_{i, j, l}$ I interpret as a check that the point $x_{l}$ is actually an imposter. That should always be the case since, we calculate the imposters this way in the imposters function."
   ]
  },
  {
   "cell_type": "markdown",
   "metadata": {},
   "source": [
    "* $gradient-function$ is the main function that deals with computing the gradient\n",
    "* $gradient-element$ sustains $gradient-function$ and corresponds to (26) and (27) in the above stated [paper](https://projet.liris.cnrs.fr/imagine/pub/proceedings/ICPR-2012/media/files/1795.pdf)\n",
    "* $outer-loss$ corresponds to (11) - for target neighbors \n",
    "* $inner-loss-function$ corresponds to (12) - for impostors"
   ]
  },
  {
   "cell_type": "markdown",
   "metadata": {},
   "source": [
    "* $tau-function$ ($\\Psi$ in the text) corresponds to (25) in the above stated [paper](https://projet.liris.cnrs.fr/imagine/pub/proceedings/ICPR-2012/media/files/1795.pdf) "
   ]
  },
  {
   "cell_type": "code",
   "execution_count": 5,
   "metadata": {},
   "outputs": [],
   "source": [
    "#Tau Function\n",
    "def tau_function(X_Matrix, L_Matrix, i, j, alpha):\n",
    "    N, D = np.shape(X_Matrix)\n",
    "    numerator = 0\n",
    "    denominator = 0\n",
    "    for k in range(D):\n",
    "        numerator +=   L_Matrix[alpha, k] * (X_Matrix[i, k] - X_Matrix[j, k])\n",
    "        denominator += L_Matrix[alpha, k] * (X_Matrix[i, k] + X_Matrix[j, k])\n",
    "    return numerator / denominator"
   ]
  },
  {
   "cell_type": "code",
   "execution_count": 156,
   "metadata": {},
   "outputs": [],
   "source": [
    "def gradient_and_loss_function(X, Y, L_Matrix):\n",
    "    D, D = np.shape(L_Matrix)\n",
    "    gradient_matrix = np.zeros((D,D))\n",
    "    for alpha in range(D):\n",
    "        print(alpha)\n",
    "        for beta in range(D):\n",
    "            gradient_matrix[alpha, beta], loss = gradient_and_loss_element(X, Y, L_Matrix, alpha, beta)\n",
    "    return gradient_matrix, loss\n",
    "            \n",
    "def gradient_and_loss_element(X_Matrix, Y, L_Matrix, alpha, beta):\n",
    "    global mu\n",
    "    N, _ = np.shape(X_Matrix)\n",
    "    gradient = 0\n",
    "    outer_sum = 0\n",
    "    Inner_sum = 0\n",
    "    loss = 0\n",
    "    for i in range(N):\n",
    "        Pull = 0\n",
    "        for j in TN_lookup_table[i, :]:\n",
    "            tauij = tau_function(X_Matrix, L_Matrix, i, j, alpha)\n",
    "            Lij = 2 * tauij * (X_Matrix[i, beta] - X_Matrix[j, beta]) - (tauij**2) * (X_Matrix[i, beta] + X_Matrix[j, beta])\n",
    "            outer_sum += Lij\n",
    "            for k in range(N):\n",
    "                # We need to update the distance to our target neighbours and compute the max distance\n",
    "                if (check(L, X_Matrix[i],  X_Matrix[j],  X_Matrix[k]) and (Y[i] != Y[k])):\n",
    "                    tauik = tau_function(X_Matrix, L_Matrix, i, k, alpha)\n",
    "                    Lik = 2 * tauik * (X_Matrix[i, beta] - X_Matrix[k, beta]) - (tauik**2) * (X_Matrix[i, beta] + X_Matrix[k, beta])\n",
    "                    Inner_sum += Lij - Lik\n",
    "                else:\n",
    "                    Inner_sum = 0\n",
    "            # Calculate loss\n",
    "            loss += (1 - mu) * pullLoss(X_Matrix, L_Matrix, i, j) + mu * pushLoss(X_Matrix, Y, L_Matrix, i, j)\n",
    "            \n",
    "    gradient = (1 - mu) * outer_sum + mu * Inner_sum\n",
    "    return gradient, loss\n",
    "\n",
    "#Loss for pull\n",
    "def pullLoss(X_Matrix, L_Matrix, i, j):\n",
    "    return chi_square_distance(L_Matrix @ X_Matrix[i], L_Matrix @ X_Matrix[j])\n",
    "            \n",
    "#Loss for push\n",
    "def pushLoss(X_Matrix, Y, L_Matrix, i, j):\n",
    "    loss = 0\n",
    "    N, _ = np.shape(X_Matrix)\n",
    "    for k in range(N):\n",
    "        if (check(L_Matrix, X_Matrix[i],  X_Matrix[j],  X_Matrix[k]) and (Y[i] != Y[k])):\n",
    "            loss += max(0, l + chi_square_distance(L_Matrix @ X_Matrix[i], L_Matrix @ X_Matrix[j]) - chi_square_distance(L_Matrix @ X_Matrix[i], L_Matrix @ X_Matrix[k]))\n",
    "    return loss"
   ]
  },
  {
   "cell_type": "markdown",
   "metadata": {},
   "source": [
    "## Separate implementation of the loss function, gradient for pulling and gradient for pushing"
   ]
  },
  {
   "cell_type": "markdown",
   "metadata": {},
   "source": [
    "### Implementation of the loss function"
   ]
  },
  {
   "cell_type": "code",
   "execution_count": 7,
   "metadata": {},
   "outputs": [],
   "source": [
    "def loss_function(X, Y, L_Matrix):\n",
    "    loss = 0\n",
    "    D, D = np.shape(L_Matrix)\n",
    "    for alpha in range(D):\n",
    "        for beta in range(D):\n",
    "            loss = loss_element(X, Y, L_Matrix, alpha, beta)\n",
    "    return loss\n",
    "  \n",
    "def loss_element(X, Y, L_Matrix, alpha, beta):\n",
    "    loss = 0\n",
    "    global mu\n",
    "    N, _ = np.shape(X)\n",
    "    \n",
    "    for i in range(N):\n",
    "        Pull = 0\n",
    "        for j in TN_lookup_table[i, :]:\n",
    "            # Calculate loss\n",
    "            loss += (1 - mu) * pull_loss(X, L_Matrix, i, j) + mu * push_loss(X, Y, L_Matrix, i, j)\n",
    "    return loss\n",
    "\n",
    "#Loss for pull\n",
    "def pull_loss(X_Matrix, L_Matrix, i, j):\n",
    "    return chi_square_distance(L_Matrix @ X_Matrix[i], L_Matrix @ X_Matrix[j])\n",
    "\n",
    "#Loss for push\n",
    "def push_loss(X_Matrix, Y, L_Matrix, i, j):\n",
    "    loss = 0\n",
    "    N, _ = np.shape(X_Matrix)\n",
    "    for k in range(N):\n",
    "        if (check(L_Matrix, X_Matrix[i],  X_Matrix[j],  X_Matrix[k]) and (Y[i] != Y[k])):\n",
    "            loss += max(0, l + chi_square_distance(L_Matrix @ X_Matrix[i], L_Matrix @ X_Matrix[j]) - chi_square_distance(L_Matrix @ X_Matrix[i], L_Matrix @ X_Matrix[k]))\n",
    "    return loss"
   ]
  },
  {
   "cell_type": "markdown",
   "metadata": {},
   "source": [
    "### Implementation of the gradient for pulling and pushing"
   ]
  },
  {
   "cell_type": "markdown",
   "metadata": {},
   "source": [
    "* $Pull(XMatrix, LMatrix)$ corresponds to (26)\n",
    "* $Push(XMatrix, LMatrix, Y)$ corresponds to (27)"
   ]
  },
  {
   "cell_type": "code",
   "execution_count": 8,
   "metadata": {},
   "outputs": [],
   "source": [
    "### PULL FUNCTIONS\n",
    "def Pull(X_Matrix, L_Matrix):\n",
    "    D, D = np.shape(L_Matrix)\n",
    "    gradient_matrix = np.zeros((D,D))\n",
    "    for alpha in range(D):\n",
    "        for beta in range(D):\n",
    "            gradient_matrix[alpha, beta] = Pull_matrix_element(X_Matrix, L_Matrix, alpha, beta)\n",
    "    return gradient_matrix\n",
    "\n",
    "def Pull_matrix_element(X_Matrix, L_Matrix, alpha, beta):\n",
    "    N, D = np.shape(X_Matrix)\n",
    "    gradient = 0\n",
    "    for i in range(N):\n",
    "        for j in TN_lookup_table[i, :]:\n",
    "            tau = tau_function(X_Matrix, L_Matrix, i, j, alpha)\n",
    "            gradient += 2 * tau * (X_Matrix[i, beta] - X_Matrix[j, beta]) - (tau**2) * (X_Matrix[i, beta] + X_Matrix[j, beta])\n",
    "    return gradient"
   ]
  },
  {
   "cell_type": "code",
   "execution_count": 9,
   "metadata": {},
   "outputs": [],
   "source": [
    "### PUSH FUNCTIONS\n",
    "def Push(X_Matrix, L_Matrix, Y):\n",
    "    D, D = np.shape(L_Matrix)\n",
    "    gradient_matrix = np.zeros((D,D))\n",
    "    for alpha in range(D):\n",
    "        for beta in range(D):\n",
    "            gradient_matrix[alpha, beta] = Push_matrix_element(X_Matrix, L_Matrix, Y, alpha, beta)\n",
    "    return gradient_matrix\n",
    "\n",
    "def Push_matrix_element(X_Matrix, L_Matrix, Y, alpha, beta):\n",
    "    N, D = np.shape(X_Matrix)\n",
    "    gradient = 0\n",
    "    for i in range(N):\n",
    "        for j in TN_lookup_table[i, :]:\n",
    "            for k in range(N):\n",
    "                if (check(L, X_Matrix[i],  X_Matrix[j],  X_Matrix[k]) and (Y[i] != Y[k])):\n",
    "                    tauij = tau_function(X_Matrix, L_Matrix, i, j, alpha)\n",
    "                    tauik = tau_function(X_Matrix, L_Matrix, i, k, alpha)\n",
    "                    Lij = 2 * tauij * (X_Matrix[i, beta] - X_Matrix[j, beta])          - (tauij**2) * (X_Matrix[i, beta] + X_Matrix[j, beta])\n",
    "                    Lik = 2 * tauik * (X_Matrix[i, beta] - X_Matrix[k, beta]) - (tauik**2) * (X_Matrix[i, beta] + X_Matrix[k, beta])\n",
    "                    gradient += Lij - Lik\n",
    "    return gradient"
   ]
  },
  {
   "cell_type": "markdown",
   "metadata": {},
   "source": [
    "The update for the gradient is done based on the predefined learning rate.\n",
    "The gradient should not be negative and its values should sum up to 1. Thus, we have made use of the softmax function for updating the gradient."
   ]
  },
  {
   "cell_type": "code",
   "execution_count": 10,
   "metadata": {},
   "outputs": [],
   "source": [
    "def update_step(G):\n",
    "    \"\"\"\n",
    "    Update L\n",
    "    \n",
    "    :param G: Computed gradient for a given iteration\n",
    "    \"\"\"\n",
    "    global L\n",
    "    new_L = L - alpha * G\n",
    "    L = softmax(new_L)"
   ]
  },
  {
   "cell_type": "markdown",
   "metadata": {},
   "source": [
    "## Artificial Data"
   ]
  },
  {
   "cell_type": "code",
   "execution_count": 144,
   "metadata": {},
   "outputs": [],
   "source": [
    "pts=np.random.dirichlet([.5,.5,.5], size=1000)"
   ]
  },
  {
   "cell_type": "code",
   "execution_count": 145,
   "metadata": {},
   "outputs": [],
   "source": [
    "'''Function to plot points in a simplex'''\n",
    "\n",
    "# Based on post from Thomas Boggs (http://blog.bogatron.net/blog/2014/02/02/visualizing-dirichlet-distributions/)\n",
    "\n",
    "import matplotlib.tri as tri\n",
    "\n",
    "_corners = np.array([[0, 0], [1, 0], [0.5, 0.75**0.5]])\n",
    "_triangle = tri.Triangulation(_corners[:, 0], _corners[:, 1])\n",
    "\n",
    "def plot_points(X):\n",
    "    '''Plots a set of points in the simplex.\n",
    "\n",
    "    Arguments:\n",
    "\n",
    "        `X` (ndarray): A 2xN array (if in Cartesian coords) or 3xN array\n",
    "                       (if in barycentric coords) of points to plot.\n",
    "    '''\n",
    "    \n",
    "    X = X.dot(_corners)  #This is what converts the original points onto the simplex (it projects on it, through dot product)\n",
    "    plt.plot(X[:, 0], X[:, 1], 'k.', ms=1)\n",
    "    plt.axis('equal')\n",
    "    plt.xlim(0, 1)\n",
    "    plt.ylim(0, 0.75**0.5)\n",
    "    plt.axis('off')\n",
    "    plt.triplot(_triangle, linewidth=1)"
   ]
  },
  {
   "cell_type": "code",
   "execution_count": 146,
   "metadata": {},
   "outputs": [
    {
     "data": {
      "image/png": "[encoded data removed]",
      "text/plain": [
       "<Figure size 432x288 with 1 Axes>"
      ]
     },
     "metadata": {
      "needs_background": "light"
     },
     "output_type": "display_data"
    }
   ],
   "source": [
    "plot_points(pts)"
   ]
  },
  {
   "cell_type": "code",
   "execution_count": 147,
   "metadata": {},
   "outputs": [],
   "source": [
    "C1 = pts[:,0] > 0.6\n",
    "C2 = pts[:,1] > 0.6\n",
    "C3 = pts[:,2] > 0.6\n",
    "C4 = np.logical_not(C1 | C2 | C3)\n",
    "\n",
    "## To create some noise we make 300 of the C1 observations the other classes.\n",
    "c1remove = random.sample(range(len(C1)), 30)\n",
    "C1[c1remove] = False\n",
    "C2[c1remove[0:9]] = True\n",
    "C3[c1remove[10:19]] = True\n",
    "C4[c1remove[20:29]] = True\n",
    "\n",
    "c2remove = random.sample(range(len(C2)), 30)\n",
    "C2[c2remove] = False\n",
    "C1[c2remove[0:9]] = True\n",
    "C3[c2remove[10:19]] = True\n",
    "C4[c2remove[20:29]] = True\n",
    "\n",
    "c3remove = random.sample(range(len(C3)), 30)\n",
    "C3[c3remove] = False\n",
    "C1[c3remove[0:9]] = True\n",
    "C2[c3remove[10:19]] = True\n",
    "C4[c3remove[20:29]] = True\n",
    "\n",
    "c4remove = random.sample(range(len(C4)), 30)\n",
    "C4[c4remove] = False\n",
    "C1[c4remove[0:9]] = True\n",
    "C2[c4remove[10:19]] = True\n",
    "C3[c4remove[20:29]] = True"
   ]
  },
  {
   "cell_type": "code",
   "execution_count": 148,
   "metadata": {},
   "outputs": [
    {
     "data": {
      "image/png": "[encoded data removed]",
      "text/plain": [
       "<Figure size 432x288 with 1 Axes>"
      ]
     },
     "metadata": {
      "needs_background": "light"
     },
     "output_type": "display_data"
    }
   ],
   "source": [
    "plot_points(pts[C1])"
   ]
  },
  {
   "cell_type": "code",
   "execution_count": 149,
   "metadata": {},
   "outputs": [
    {
     "data": {
      "image/png": "[encoded data removed]",
      "text/plain": [
       "<Figure size 432x288 with 1 Axes>"
      ]
     },
     "metadata": {
      "needs_background": "light"
     },
     "output_type": "display_data"
    }
   ],
   "source": [
    "plot_points(pts[C2])"
   ]
  },
  {
   "cell_type": "code",
   "execution_count": 150,
   "metadata": {},
   "outputs": [
    {
     "data": {
      "image/png": "[encoded data removed]",
      "text/plain": [
       "<Figure size 432x288 with 1 Axes>"
      ]
     },
     "metadata": {
      "needs_background": "light"
     },
     "output_type": "display_data"
    }
   ],
   "source": [
    "plot_points(pts[C3])"
   ]
  },
  {
   "cell_type": "code",
   "execution_count": 151,
   "metadata": {},
   "outputs": [
    {
     "data": {
      "image/png": "[encoded data removed]",
      "text/plain": [
       "<Figure size 432x288 with 1 Axes>"
      ]
     },
     "metadata": {
      "needs_background": "light"
     },
     "output_type": "display_data"
    }
   ],
   "source": [
    "plot_points(pts[C4])"
   ]
  },
  {
   "cell_type": "code",
   "execution_count": 152,
   "metadata": {},
   "outputs": [],
   "source": [
    "label = np.zeros(len(pts))\n",
    "label[C1] = 1\n",
    "label[C2] = 2\n",
    "label[C3] = 3\n",
    "label[C4]\n",
    "X_train, X_test, y_train, y_test = train_test_split(pts, label, test_size=0.3, random_state=0)"
   ]
  },
  {
   "cell_type": "markdown",
   "metadata": {},
   "source": [
    "## Dataset - IRIS"
   ]
  },
  {
   "cell_type": "markdown",
   "metadata": {},
   "source": [
    "Shape of IRIS dataset: (150,4)"
   ]
  },
  {
   "cell_type": "code",
   "execution_count": 11,
   "metadata": {},
   "outputs": [],
   "source": [
    "iris = datasets.load_iris()\n",
    "X_train, X_test, y_train, y_test = train_test_split(iris.data, iris.target, test_size=0.3, random_state=0)\n",
    "\n",
    "# Normalize data\n",
    "X_train = X_train / np.sum(X_train, axis = 1)[:,None]\n",
    "X_test = X_test / np.sum(X_test, axis = 1)[:,None]"
   ]
  },
  {
   "cell_type": "code",
   "execution_count": 115,
   "metadata": {},
   "outputs": [],
   "source": [
    "mu = 0.5\n",
    "K = 3\n",
    "_, D = np.shape(X_train)\n",
    "L = np.eye(D, dtype=float)\n",
    "alpha = 0.001"
   ]
  },
  {
   "cell_type": "code",
   "execution_count": 142,
   "metadata": {},
   "outputs": [],
   "source": [
    "TN_lookup_table, TN_distance_table = find_target_neighbors(X_train, y_train, L)\n",
    "l = np.median(TN_distance_table)"
   ]
  },
  {
   "cell_type": "markdown",
   "metadata": {},
   "source": [
    "## Dataset - Fruits"
   ]
  },
  {
   "cell_type": "code",
   "execution_count": 20,
   "metadata": {},
   "outputs": [
    {
     "name": "stdout",
     "output_type": "stream",
     "text": [
      "Shape of trained embeddings is: (2048, 100)\n",
      "Shape of trained labels is: (100,) \n",
      "Shape of test embeddings is: (2048, 100)\n",
      "Shape of test labels is: (100,) \n",
      "Silhouette Score of data is: 0.6774616837501526\n"
     ]
    }
   ],
   "source": [
    "X_train, y_train = Model.get_data('data.db')\n",
    "X_test, y_test = Model.get_data('data_test.db')\n",
    "s_score = sk_metrics.silhouette_score(X_train.T, y_train, metric='euclidean')\n",
    "\n",
    "print(\"Shape of trained embeddings is: {}\".format(np.shape(X_train)))\n",
    "print(\"Shape of trained labels is: {} \".format(np.shape(y_train)))\n",
    "print(\"Shape of test embeddings is: {}\".format(np.shape(X_test)))\n",
    "print(\"Shape of test labels is: {} \".format(np.shape(y_test)))\n",
    "print(\"Silhouette Score of data is: {}\".format(s_score))"
   ]
  },
  {
   "cell_type": "code",
   "execution_count": 21,
   "metadata": {},
   "outputs": [
    {
     "name": "stdout",
     "output_type": "stream",
     "text": [
      "Explained variance of low dimensional data is: 0.5692216530442238\n",
      "Silhouette Score of data is: 0.6079602241516113\n"
     ]
    }
   ],
   "source": [
    "#By increasing the number of components we deal with the check-function issue (To be fixed)\n",
    "pca = sk_decomp.PCA(n_components=4)\n",
    "pca.fit(X_train.T)\n",
    "X_train = pca.transform(X_train.T)\n",
    "X_train = abs(X_train / np.linalg.norm(X_train))\n",
    "\n",
    "X_test = pca.transform(X_test.T)\n",
    "X_test = abs(X_test / np.linalg.norm(X_test))\n",
    "\n",
    "s_score = sk_metrics.silhouette_score(X_train, y_train, metric='euclidean')\n",
    "print(\"Explained variance of low dimensional data is: {}\".format(sum(pca.explained_variance_ratio_)))\n",
    "print(\"Silhouette Score of data is: {}\".format(s_score))"
   ]
  },
  {
   "cell_type": "code",
   "execution_count": 158,
   "metadata": {},
   "outputs": [],
   "source": [
    "#It's very important to set the margin very low as the data points are quite densly packed\n",
    "mu = 0.7\n",
    "K = 1\n",
    "alpha = 0.001\n",
    "_, D = np.shape(X_train)\n",
    "L = np.eye(D, dtype=float)"
   ]
  },
  {
   "cell_type": "code",
   "execution_count": 159,
   "metadata": {},
   "outputs": [],
   "source": [
    "TN_lookup_table, TN_distance_table = find_target_neighbors(X_train, y_train, L)\n",
    "l = 0.0001"
   ]
  },
  {
   "cell_type": "markdown",
   "metadata": {},
   "source": [
    "### Histograms using the initial linear transformation matrix L"
   ]
  },
  {
   "cell_type": "code",
   "execution_count": 14,
   "metadata": {},
   "outputs": [
    {
     "data": {
      "image/png": "[encoded data removed]",
      "text/plain": [
       "<Figure size 432x288 with 3 Axes>"
      ]
     },
     "metadata": {},
     "output_type": "display_data"
    }
   ],
   "source": [
    "new_X = (L @ X_train.T).T\n",
    "\n",
    "plot_items = new_X[10:25:5,:]\n",
    "plot_labels = y_train[10:25:5]\n",
    "Plots.plot_some_data(plot_items, plot_labels)"
   ]
  },
  {
   "cell_type": "markdown",
   "metadata": {},
   "source": [
    "## Run"
   ]
  },
  {
   "cell_type": "code",
   "execution_count": 160,
   "metadata": {},
   "outputs": [
    {
     "name": "stdout",
     "output_type": "stream",
     "text": [
      "0\n",
      "0\n",
      "1\n",
      "2\n",
      "[[0.5746992  0.21291713 0.21238368]\n",
      " [0.21269341 0.57429796 0.21300863]\n",
      " [0.21299614 0.21258301 0.57442085]]\n",
      "22.359045779370046\n",
      "\n",
      "\n",
      "1\n",
      "0\n",
      "1\n",
      "2\n",
      "[[0.41792722 0.29111982 0.29095296]\n",
      " [0.29106648 0.41778624 0.29114728]\n",
      " [0.29114455 0.29102748 0.41782797]]\n",
      "2.6197458097185993\n",
      "\n",
      "\n",
      "2\n",
      "0\n",
      "1\n",
      "2\n",
      "[[0.36208522 0.31898547 0.31892931]\n",
      " [0.31897003 0.36203744 0.31899252]\n",
      " [0.31899213 0.31895484 0.36205303]]\n",
      "0.47036410504917114\n",
      "\n",
      "\n",
      "3\n",
      "0\n",
      "1\n",
      "2\n",
      "[[0.34297972 0.32851981 0.32850046]\n",
      " [0.32851493 0.3429638  0.32852127]\n",
      " [0.32852129 0.32850895 0.34296976]]\n",
      "0.6575847103344845\n",
      "\n",
      "\n",
      "4\n",
      "0\n",
      "1\n",
      "2\n",
      "[[0.33655467 0.33172602 0.33171931]\n",
      " [0.33172442 0.3365494  0.33172618]\n",
      " [0.33172623 0.3317221  0.33655166]]\n",
      "6.979783175309166\n",
      "\n",
      "\n"
     ]
    },
    {
     "data": {
      "image/png": "[encoded data removed]",
      "text/plain": [
       "<Figure size 432x288 with 1 Axes>"
      ]
     },
     "metadata": {
      "needs_background": "light"
     },
     "output_type": "display_data"
    }
   ],
   "source": [
    "ITERATIONS = 5\n",
    "lossList = []\n",
    "\n",
    "for i in range(ITERATIONS):\n",
    "    print(i)\n",
    "    #Gt = (1 - mu) * Pull(X_train, L) + mu * Push(X_train, L, y_train)\n",
    "    #loss = loss_function(X_train, y_train, L)\n",
    "    Gt, loss = gradient_and_loss_function(X_train, y_train, L)\n",
    "    lossList.append(loss)\n",
    "    update_step(Gt)\n",
    "    print(L)\n",
    "    print(loss)\n",
    "    print(\"\\n\")\n",
    "\n",
    "plt.plot(lossList, '-')\n",
    "plt.show()"
   ]
  },
  {
   "cell_type": "markdown",
   "metadata": {},
   "source": [
    "As expected, the loss follows an exponentially decreasing function. Having as component the loss from pushing the impostors and pulling the target neighbors, this means that the target neighbors are pulled closer and the impostors pushed away."
   ]
  },
  {
   "cell_type": "markdown",
   "metadata": {},
   "source": [
    "### Plot of the linear trasformation matrix L"
   ]
  },
  {
   "cell_type": "code",
   "execution_count": 27,
   "metadata": {},
   "outputs": [
    {
     "data": {
      "image/png": "[encoded data removed]",
      "text/plain": [
       "<Figure size 432x288 with 2 Axes>"
      ]
     },
     "metadata": {},
     "output_type": "display_data"
    }
   ],
   "source": [
    "Plots.plot_kernel(L)"
   ]
  },
  {
   "cell_type": "markdown",
   "metadata": {},
   "source": [
    "### Histograms using the updated linear transformation matrix L"
   ]
  },
  {
   "cell_type": "code",
   "execution_count": 28,
   "metadata": {},
   "outputs": [
    {
     "data": {
      "image/png": "[encoded data removed]",
      "text/plain": [
       "<Figure size 432x288 with 3 Axes>"
      ]
     },
     "metadata": {},
     "output_type": "display_data"
    },
    {
     "data": {
      "text/plain": [
       "array([[0.04477734, 0.04484091, 0.04481971, 0.04480715],\n",
       "       [0.04307202, 0.04313778, 0.0431152 , 0.04310978],\n",
       "       [0.03802428, 0.0381872 , 0.03807529, 0.03809051]])"
      ]
     },
     "execution_count": 28,
     "metadata": {},
     "output_type": "execute_result"
    }
   ],
   "source": [
    "#new_X = X_train\n",
    "new_X = (L @ X_train.T).T\n",
    "plot_items = new_X[10:20:4,:]\n",
    "plot_labels = y_train[10:20:4]\n",
    "Plots.plot_some_data(plot_items, plot_labels)\n",
    "new_X[10:20:4,:]"
   ]
  },
  {
   "cell_type": "markdown",
   "metadata": {},
   "source": [
    "## Testing"
   ]
  },
  {
   "cell_type": "markdown",
   "metadata": {},
   "source": [
    "Further, in order to check the increase in accuracy, we have implemented a knnClassifier"
   ]
  },
  {
   "cell_type": "code",
   "execution_count": 162,
   "metadata": {},
   "outputs": [
    {
     "name": "stdout",
     "output_type": "stream",
     "text": [
      "Confusion matrix, without normalization\n",
      "[[91  5  0  4]\n",
      " [ 3 60  2  1]\n",
      " [ 3  2 55  0]\n",
      " [ 5  3  3 63]]\n"
     ]
    },
    {
     "data": {
      "image/png": "[encoded data removed]",
      "text/plain": [
       "<Figure size 432x288 with 2 Axes>"
      ]
     },
     "metadata": {
      "needs_background": "light"
     },
     "output_type": "display_data"
    }
   ],
   "source": [
    "prediction = []\n",
    "\n",
    "for i in range(len(X_test)):\n",
    "    prediction.append(random.choice(calc_mode(knnClassifier.knn(X_test[i], X_train, y_train, L, 10))))\n",
    "confusion_matrix = plots.plot_confusion_matrix(y_test.astype(str), prediction, normalize=False)"
   ]
  },
  {
   "cell_type": "code",
   "execution_count": 163,
   "metadata": {},
   "outputs": [
    {
     "name": "stdout",
     "output_type": "stream",
     "text": [
      "Confusion matrix, without normalization\n",
      "[[90  5  0  5]\n",
      " [ 5 59  1  1]\n",
      " [ 4  2 54  0]\n",
      " [ 5  3  3 63]]\n"
     ]
    },
    {
     "data": {
      "image/png": "[encoded data removed]",
      "text/plain": [
       "<Figure size 432x288 with 2 Axes>"
      ]
     },
     "metadata": {
      "needs_background": "light"
     },
     "output_type": "display_data"
    }
   ],
   "source": [
    "prediction = []\n",
    "\n",
    "for i in range(len(X_test)):\n",
    "    prediction.append(random.choice(calc_mode(knnClassifier.knn(X_test[i], X_train, y_train, np.eye(D), 10))))\n",
    "confusion_matrix = plots.plot_confusion_matrix(y_test.astype(str), prediction, normalize=False)"
   ]
  },
  {
   "cell_type": "code",
   "execution_count": null,
   "metadata": {},
   "outputs": [],
   "source": []
  }
 ],
 "metadata": {
  "kernelspec": {
   "display_name": "Python 3",
   "language": "python",
   "name": "python3"
  },
  "language_info": {
   "codemirror_mode": {
    "name": "ipython",
    "version": 3
   },
   "file_extension": ".py",
   "mimetype": "text/x-python",
   "name": "python",
   "nbconvert_exporter": "python",
   "pygments_lexer": "ipython3",
   "version": "3.6.8"
  },
  "toc": {
   "base_numbering": 1,
   "nav_menu": {},
   "number_sections": true,
   "sideBar": true,
   "skip_h1_title": false,
   "title_cell": "Table of Contents",
   "title_sidebar": "Contents",
   "toc_cell": false,
   "toc_position": {},
   "toc_section_display": true,
   "toc_window_display": false
  }
 },
 "nbformat": 4,
 "nbformat_minor": 2
}
