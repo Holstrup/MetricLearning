{
 "cells": [
  {
   "cell_type": "markdown",
   "metadata": {},
   "source": [
    "## Imports"
   ]
  },
  {
   "cell_type": "code",
   "execution_count": 31,
   "metadata": {},
   "outputs": [
    {
     "data": {
      "text/plain": [
       "{'divide': 'ignore', 'over': 'warn', 'under': 'ignore', 'invalid': 'ignore'}"
      ]
     },
     "execution_count": 31,
     "metadata": {},
     "output_type": "execute_result"
    }
   ],
   "source": [
    "import sklearn.metrics as sk_metrics\n",
    "import sklearn.decomposition as sk_decomp\n",
    "import sklearn.datasets as datasets\n",
    "from sklearn.model_selection import train_test_split\n",
    "from sklearn.metrics import confusion_matrix\n",
    "import numpy as np\n",
    "import Model\n",
    "import Plots\n",
    "import matplotlib.pyplot as plt\n",
    "import knnClassifier\n",
    "from sklearn.utils.extmath import softmax\n",
    "import plot_confusion_matrix as plots\n",
    "\n",
    "# We ignore divisions by 0. We will do that in the chi square distance, but we don't care. \n",
    "np.seterr(divide='ignore', invalid='ignore')"
   ]
  },
  {
   "cell_type": "markdown",
   "metadata": {},
   "source": [
    "## Hyperparameters"
   ]
  },
  {
   "cell_type": "markdown",
   "metadata": {},
   "source": [
    "Underneath you can define the hyperparameters, l, mu and K.\n",
    "* $l$ is the margin parameter\n",
    "* $\\mu$ is a trade-off parameter between the push and pull in the loss function\n",
    "* $K$ is the number of target neighbors \n",
    "* $D$ is the dimensionality of our data. We choose that arbitrarily\n",
    "* $L$ is the linear transformation\n",
    "\n",
    "L is set to be a diagonal matrix of ones to begin with. However, it would be interesting to experiement with other initial L matrices, since the problem is non-convex. We could also try to implement the constrained non-convex version of LMNN."
   ]
  },
  {
   "cell_type": "code",
   "execution_count": 2,
   "metadata": {},
   "outputs": [],
   "source": [
    "l = 0.1\n",
    "mu = 0.5\n",
    "K = 3\n",
    "D = 4\n",
    "L = np.eye(D, dtype=float)\n",
    "alpha = 0.001"
   ]
  },
  {
   "cell_type": "markdown",
   "metadata": {},
   "source": [
    "## Functions"
   ]
  },
  {
   "cell_type": "markdown",
   "metadata": {},
   "source": [
    "This block defines two functions that we will use to compute the distances. The first function calculates the distance given two points xi and xj. The second function calculates the distance between some point xi and all the other points X, through the L space. This is very important to note. "
   ]
  },
  {
   "cell_type": "code",
   "execution_count": 3,
   "metadata": {},
   "outputs": [],
   "source": [
    "def chi_square_distance(xi, xj):\n",
    "    \"\"\"\n",
    "    Chi square distance\n",
    "\n",
    "    :param xi: Embedding       (1, D)\n",
    "    :param xj: Target Neighbor (1, D)\n",
    "    :return: Distance\n",
    "    \"\"\"\n",
    "    return 1 / 2 * np.nansum(np.square(xi - xj) / (xi + xj))\n",
    "\n",
    "def distance(xi, X):\n",
    "    \"\"\"\n",
    "    Chi square distance from one point xi, to all other points\n",
    "    \n",
    "    :param xi: Embedding       (1, D)\n",
    "    :param X: Data             (N, D)\n",
    "    :return: Distances         (1, N)\n",
    "    \n",
    "    \"\"\"\n",
    "    N, K = np.shape(X)\n",
    "    Distances = np.zeros(N)\n",
    "    for i in range(N):\n",
    "        Distances[i] = chi_square_distance(L @ xi, L @ X[i, :])\n",
    "    return Distances"
   ]
  },
  {
   "cell_type": "markdown",
   "metadata": {},
   "source": [
    "These next functions are calculating the target neighbors and the imposters. Read through the comments, and it should make sense how it is done. One little note: In the target neighbours function, we find the distance through the L space. This is meant as the initial L space. We only find these target neighbours once, and should therefore not update what target neighbors a specific point xi has. "
   ]
  },
  {
   "cell_type": "code",
   "execution_count": 4,
   "metadata": {},
   "outputs": [],
   "source": [
    "def find_target_neighbors(X, Y):\n",
    "    \"\"\"\n",
    "    Find target neighbours for all points\n",
    "    \n",
    "    :param X: Data Matrix      (N, D)\n",
    "    :param Y: Labels           (1, N)\n",
    "    :return: TN_lookup_table   (N, K)\n",
    "    :return: TN_distance_table (N, K)\n",
    "    \"\"\"\n",
    "    \n",
    "    global TN_lookup_table\n",
    "    global TN_distance_table\n",
    "    \n",
    "    N, _ = np.shape(X)\n",
    "    TN_lookup_table = np.zeros((N, K))\n",
    "    TN_distance_table = np.zeros((N, K))\n",
    "\n",
    "    for i in range(N):\n",
    "        xi = X[i,:]\n",
    "        yi = Y[i]\n",
    "        \n",
    "        # Find distance from xi to all other points\n",
    "        TN_Distances = distance(xi, X)\n",
    "        TN_Indicies = np.argsort(TN_Distances)\n",
    "        j = k = 0\n",
    "        \n",
    "        #Loop to add indicies of target neighbours to lookup table\n",
    "        while j < K:\n",
    "            # if yi and target neighbour have the same label AND it is not the same point\n",
    "            if Y[TN_Indicies[k]] == yi and TN_Indicies[k] != i:\n",
    "                # Add to lookup table and distance table\n",
    "                TN_lookup_table[i, j] = TN_Indicies[k]\n",
    "                TN_distance_table[i, j] = TN_Distances[TN_Indicies[k]]\n",
    "                j += 1\n",
    "            k += 1\n",
    "    TN_lookup_table = TN_lookup_table.astype(int)\n",
    "    return TN_lookup_table, TN_distance_table\n",
    "\n",
    "\n",
    "def find_imposters(i, X, Y):\n",
    "    \"\"\"\n",
    "    Find imposters for a given point in index i\n",
    "    \n",
    "    :param i: Index in data matrix \n",
    "    :param X: Data Matrix    (N, D)\n",
    "    :param Y: Labels         (1, N)\n",
    "    :return: imposters       (?, D)\n",
    "    :return: imposters_dist  (1, D)\n",
    "    \"\"\"\n",
    "    \n",
    "    #Max margin = max distance of a target neighbour for that point + l\n",
    "    max_dist = 0\n",
    "    for TN in TN_lookup_table[i,:]:\n",
    "        \n",
    "        # We need to update the distance to our target neighbours and compute the max distance\n",
    "        dist = chi_square_distance(L @ X[i], L @ X[TN])\n",
    "        if dist > max_dist:\n",
    "            max_dist = dist\n",
    "    \n",
    "    #Max dist + margin l\n",
    "    max_margin = max_dist + l\n",
    "    \n",
    "    #Find distances \n",
    "    distances = distance(X[i,:], X)\n",
    "    imposters = np.array([0])\n",
    "    for j, index in enumerate(np.argsort(distances)):\n",
    "        if distances[j] > max_margin:\n",
    "            break\n",
    "        elif Y[i] != Y[index]:\n",
    "            imposters = np.append(imposters, index)\n",
    "    imposters.astype(int)\n",
    "    return imposters[1:]"
   ]
  },
  {
   "cell_type": "markdown",
   "metadata": {},
   "source": [
    "### LMNN Functions\n",
    "\n",
    "These next functions, are made from looking at this [Paper](https://projet.liris.cnrs.fr/imagine/pub/proceedings/ICPR-2012/media/files/1795.pdf). Specifically, if you scroll to the last page you can see the equations that are implemented below. Here are some notes, that helps when you read it: \n",
    "* $L_{\\alpha, \\beta}$ refers to the alpha'th row and the beta'th column in the L matrix. Same goes for all the other places there is subscript. \n",
    "* $\\psi_{i, j, \\alpha}$ in this paper is the same as $t_{i,j}$ in the Yang paper\n",
    "* In this paper they refer to imposters with the letter l (as opposed to k in the other papers)\n",
    "* $\\xi_{i, j, l}$ I interpret as a check that the point $x_{l}$ is actually an imposter. That should always be the case since, we calculate the imposters this way in the imposters function. However, that doesn't always hold for some reason. <b>We need to figure out why that is!</b> "
   ]
  },
  {
   "cell_type": "code",
   "execution_count": 5,
   "metadata": {},
   "outputs": [],
   "source": [
    "# Tau Function\n",
    "def tau_function(X_Matrix, L_Matrix, i, j, alpha):\n",
    "    N, D = np.shape(X_Matrix)\n",
    "    numerator = 0\n",
    "    denominator = 0\n",
    "    for k in range(D):\n",
    "        numerator +=   L_Matrix[alpha, k] * (X_Matrix[i, k] - X_Matrix[j, k])\n",
    "        denominator += L_Matrix[alpha, k] * (X_Matrix[i, k] + X_Matrix[j, k])\n",
    "    return numerator / denominator"
   ]
  },
  {
   "cell_type": "code",
   "execution_count": 6,
   "metadata": {},
   "outputs": [],
   "source": [
    "### PULL FUNCTIONS\n",
    "def Pull(X_Matrix, L_Matrix):\n",
    "    D, D = np.shape(L_Matrix)\n",
    "    gradient_matrix = np.zeros((D,D))\n",
    "    for alpha in range(D):\n",
    "        for beta in range(D):\n",
    "            gradient_matrix[alpha, beta] = Pull_matrix_element(X_Matrix, L_Matrix, alpha, beta)\n",
    "    return gradient_matrix\n",
    "\n",
    "def Pull_matrix_element(X_Matrix, L_Matrix, alpha, beta):\n",
    "    N, D = np.shape(X_Matrix)\n",
    "    elem = 0\n",
    "    for i in range(N):\n",
    "        for j in TN_lookup_table[i, :]:\n",
    "            tau = tau_function(X_Matrix, L_Matrix, i, j, alpha)\n",
    "            elem += 2 * tau * (X_Matrix[i, beta] - X_Matrix[j, beta]) - (tau**2) * (X_Matrix[i, beta] + X_Matrix[j, beta])\n",
    "    return elem"
   ]
  },
  {
   "cell_type": "code",
   "execution_count": 7,
   "metadata": {},
   "outputs": [],
   "source": [
    "### PUSH FUNCTIONS\n",
    "def Push(X_Matrix, L_Matrix, Y):\n",
    "    D, D = np.shape(L_Matrix)\n",
    "    gradient_matrix = np.zeros((D,D))\n",
    "    for alpha in range(D):\n",
    "        for beta in range(D):\n",
    "            gradient_matrix[alpha, beta] = Push_matrix_element(X_Matrix, L_Matrix, Y, alpha, beta)\n",
    "    return gradient_matrix\n",
    "\n",
    "\n",
    "def check(L_matrix, xi, xj, xk):\n",
    "    return chi_square_distance(L @ xi, L @ xj) + l >= chi_square_distance(L @ xi, L @ xk)\n",
    "\n",
    "\n",
    "def Push_matrix_element(X_Matrix, L_Matrix, Y, alpha, beta):\n",
    "    N, D = np.shape(X_Matrix)\n",
    "    elem = 0\n",
    "    for i in range(N):\n",
    "        xi = X_Matrix[i,:]\n",
    "        imposters = find_imposters(i, X_Matrix, Y)\n",
    "        for j in TN_lookup_table[i, :]:\n",
    "            for l_imposter in imposters:\n",
    "                if check(L, X_Matrix[i],  X_Matrix[j],  X_Matrix[l_imposter]):\n",
    "                    tauij = tau_function(X_Matrix, L_Matrix, i, j, alpha)\n",
    "                    tauik = tau_function(X_Matrix, L_Matrix, i, l_imposter, alpha)\n",
    "                    Lij = 2 * tauij * (X_Matrix[i, beta] - X_Matrix[j, beta])          - (tauij**2) * (X_Matrix[i, beta] + X_Matrix[j, beta])\n",
    "                    Lik = 2 * tauik * (X_Matrix[i, beta] - X_Matrix[l_imposter, beta]) - (tauik**2) * (X_Matrix[i, beta] + X_Matrix[l_imposter, beta])\n",
    "                    elem += Lij - Lik\n",
    "                else:\n",
    "                    print(i, j, l_imposter)\n",
    "    return elem\n"
   ]
  },
  {
   "cell_type": "code",
   "execution_count": 8,
   "metadata": {},
   "outputs": [],
   "source": [
    "def update_step(G):\n",
    "    \"\"\"\n",
    "    Update L\n",
    "    \n",
    "    :param G: Computed gradient for a given iteration\n",
    "    \"\"\"\n",
    "    global L\n",
    "    new_L = L - alpha * G\n",
    "    L = softmax(new_L)"
   ]
  },
  {
   "cell_type": "markdown",
   "metadata": {},
   "source": [
    "## Dataset - IRIS"
   ]
  },
  {
   "cell_type": "code",
   "execution_count": 50,
   "metadata": {},
   "outputs": [],
   "source": [
    "iris = datasets.load_iris()\n",
    "X_train, X_test, y_train, y_test = train_test_split(iris.data, iris.target, test_size=0.1, random_state=0)\n",
    "\n",
    "# Normalize data\n",
    "X_train = X_train / np.sum(X_train, axis = 1)[:,None]\n",
    "X_test = X_test / np.sum(X_test, axis = 1)[:,None]"
   ]
  },
  {
   "cell_type": "code",
   "execution_count": 51,
   "metadata": {},
   "outputs": [],
   "source": [
    "l = 0.1\n",
    "mu = 0.5\n",
    "K = 3\n",
    "_, D = np.shape(X_train)\n",
    "L = np.eye(D, dtype=float)\n",
    "alpha = 0.001"
   ]
  },
  {
   "cell_type": "code",
   "execution_count": 52,
   "metadata": {},
   "outputs": [],
   "source": [
    "TN_lookup_table, TN_distance_table = find_target_neighbors(X_train, y_train)"
   ]
  },
  {
   "cell_type": "markdown",
   "metadata": {},
   "source": [
    "## Dataset - Digits"
   ]
  },
  {
   "cell_type": "code",
   "execution_count": 12,
   "metadata": {},
   "outputs": [],
   "source": [
    "l = 0.1\n",
    "mu = 0.5\n",
    "K = 3\n",
    "D = 10\n",
    "L = np.eye(D, dtype=float)\n",
    "alpha = 0.001"
   ]
  },
  {
   "cell_type": "code",
   "execution_count": 13,
   "metadata": {},
   "outputs": [
    {
     "name": "stdout",
     "output_type": "stream",
     "text": [
      "0.742655791235381\n"
     ]
    }
   ],
   "source": [
    "from sklearn.datasets import load_digits\n",
    "from sklearn.decomposition import PCA\n",
    "digits = load_digits()\n",
    "X_train, X_test, y_train, y_test = train_test_split(digits.data, digits.target, test_size=0.3, random_state=0)\n",
    "\n",
    "# Reduce dimensions \n",
    "pca = sk_decomp.PCA(n_components=D)\n",
    "pca.fit(X_train)\n",
    "X_train = abs(pca.transform(X_train))\n",
    "X_train = X_train / np.sum(X_train, axis = 1)[:,None]\n",
    "print(sum(pca.explained_variance_ratio_))"
   ]
  },
  {
   "cell_type": "code",
   "execution_count": 20,
   "metadata": {},
   "outputs": [
    {
     "data": {
      "image/png": "[encoded data removed]",
      "text/plain": [
       "<Figure size 432x288 with 3 Axes>"
      ]
     },
     "metadata": {},
     "output_type": "display_data"
    }
   ],
   "source": [
    "new_X = (L @ X_train.T).T\n",
    "\n",
    "plot_items = new_X[20:101:40,:]\n",
    "plot_labels = y_train[20:101:40]\n",
    "Plots.plot_some_data(plot_items, plot_labels)"
   ]
  },
  {
   "cell_type": "code",
   "execution_count": 15,
   "metadata": {},
   "outputs": [],
   "source": [
    "TN_lookup_table, TN_distance_table = find_target_neighbors(X_train, y_train)"
   ]
  },
  {
   "cell_type": "markdown",
   "metadata": {},
   "source": [
    "## Run"
   ]
  },
  {
   "cell_type": "code",
   "execution_count": 53,
   "metadata": {},
   "outputs": [
    {
     "name": "stdout",
     "output_type": "stream",
     "text": [
      "0\n",
      "11 86 99\n",
      "11 14 99\n",
      "11 86 99\n",
      "11 14 99\n",
      "11 86 99\n",
      "11 14 99\n",
      "11 86 99\n",
      "11 14 99\n",
      "11 86 99\n",
      "11 14 99\n",
      "11 86 99\n",
      "11 14 99\n",
      "11 86 99\n",
      "11 14 99\n",
      "11 86 99\n",
      "11 14 99\n",
      "11 86 99\n",
      "11 14 99\n",
      "11 86 99\n",
      "11 14 99\n",
      "11 86 99\n",
      "11 14 99\n",
      "11 86 99\n",
      "11 14 99\n",
      "11 86 99\n",
      "11 14 99\n",
      "11 86 99\n",
      "11 14 99\n",
      "11 86 99\n",
      "11 14 99\n",
      "11 86 99\n",
      "11 14 99\n",
      "[[0.48647563 0.18391015 0.16114913 0.16846509]\n",
      " [0.16939635 0.5366554  0.13421518 0.15973306]\n",
      " [0.12053094 0.12230554 0.56101952 0.196144  ]\n",
      " [0.0751609  0.08939023 0.21553301 0.61991586]]\n",
      "\n",
      "\n",
      "1\n",
      "[[0.34719326 0.27768579 0.17529422 0.19982673]\n",
      " [0.25006342 0.46824499 0.11648915 0.16520243]\n",
      " [0.09106908 0.08209581 0.53567857 0.29115654]\n",
      " [0.05901943 0.05628104 0.40708301 0.47761651]]\n",
      "\n",
      "\n",
      "2\n",
      "[[0.30289846 0.30786911 0.1802268  0.20900563]\n",
      " [0.27577259 0.43365863 0.12019851 0.17037028]\n",
      " [0.05968998 0.05458846 0.55341572 0.33230585]\n",
      " [0.0357543  0.03494062 0.50809502 0.42121005]]\n",
      "\n",
      "\n",
      "3\n",
      "[[0.28932945 0.31768956 0.18151876 0.21146223]\n",
      " [0.28504457 0.4120424  0.12716615 0.17574688]\n",
      " [0.03585526 0.03465496 0.57577145 0.35371833]\n",
      " [0.02174149 0.02269016 0.55601034 0.399558  ]]\n",
      "\n",
      "\n",
      "4\n",
      "[[0.2852999  0.32114332 0.18159171 0.21196506]\n",
      " [0.28866027 0.39689015 0.13385899 0.18059059]\n",
      " [0.02242207 0.02317485 0.5876177  0.36678538]\n",
      " [0.0158432  0.01738353 0.57464297 0.39213029]]\n",
      "\n",
      "\n",
      "5\n",
      "[[0.28418261 0.32260691 0.18129693 0.21191355]\n",
      " [0.29007622 0.38556022 0.13966444 0.18469913]\n",
      " [0.01650324 0.01793675 0.58995989 0.37560012]\n",
      " [0.01376056 0.01546217 0.58082908 0.38994819]]\n",
      "\n",
      "\n",
      "6\n",
      "[[0.28394378 0.32342808 0.18091273 0.21171541]\n",
      " [0.29054005 0.3767513  0.14458524 0.1881234 ]\n",
      " [0.01420346 0.01585    0.58855802 0.38138852]\n",
      " [0.01306995 0.01481764 0.58268246 0.38942995]]\n",
      "\n",
      "\n",
      "7\n",
      "[[0.2839633  0.32402122 0.18052608 0.21148941]\n",
      " [0.29055761 0.36972316 0.14874426 0.19097497]\n",
      " [0.01333135 0.01505028 0.58668569 0.38493269]\n",
      " [0.0128436  0.01460566 0.58318316 0.38936758]]\n",
      "\n",
      "\n",
      "8\n",
      "[[0.28405286 0.32451509 0.18016239 0.21126966]\n",
      " [0.29035767 0.36400975 0.15227081 0.19336177]\n",
      " [0.01299005 0.01473685 0.58528582 0.38698727]\n",
      " [0.01276855 0.01453541 0.58329316 0.38940287]]\n",
      "\n",
      "\n",
      "9\n",
      "[[0.28415582 0.32495124 0.1798277  0.21106525]\n",
      " [0.29005355 0.3592971  0.15527613 0.19537322]\n",
      " [0.01284869 0.0146074  0.58440556 0.38813835]\n",
      " [0.012743   0.01451155 0.58330205 0.3894434 ]]\n",
      "\n",
      "\n"
     ]
    }
   ],
   "source": [
    "ITERATIONS = 10\n",
    "\n",
    "for i in range(ITERATIONS):\n",
    "    print(i)\n",
    "    Gt = (1 - mu) * Pull(X_train, L) + mu * Push(X_train, L, y_train)\n",
    "    update_step(Gt)\n",
    "    #print(Gt)\n",
    "    print(L)\n",
    "    print(\"\\n\")"
   ]
  },
  {
   "cell_type": "code",
   "execution_count": 54,
   "metadata": {},
   "outputs": [
    {
     "data": {
      "image/png": "[encoded data removed]",
      "text/plain": [
       "<Figure size 432x288 with 2 Axes>"
      ]
     },
     "metadata": {},
     "output_type": "display_data"
    }
   ],
   "source": [
    "Plots.plot_kernel(L)"
   ]
  },
  {
   "cell_type": "code",
   "execution_count": 55,
   "metadata": {},
   "outputs": [
    {
     "data": {
      "image/png": "[encoded data removed]",
      "text/plain": [
       "<Figure size 432x288 with 3 Axes>"
      ]
     },
     "metadata": {},
     "output_type": "display_data"
    }
   ],
   "source": [
    "new_X = (L @ X_train.T).T\n",
    "\n",
    "plot_items = new_X[20:101:40,:]\n",
    "plot_labels = y_train[20:101:40]\n",
    "Plots.plot_some_data(plot_items, plot_labels)"
   ]
  },
  {
   "cell_type": "markdown",
   "metadata": {},
   "source": [
    "## Testing"
   ]
  },
  {
   "cell_type": "code",
   "execution_count": 65,
   "metadata": {},
   "outputs": [
    {
     "name": "stdout",
     "output_type": "stream",
     "text": [
      "Confusion matrix, without normalization\n",
      "[[3 0 0]\n",
      " [8 0 0]\n",
      " [4 0 0]]\n"
     ]
    },
    {
     "data": {
      "image/png": "[encoded data removed]",
      "text/plain": [
       "<Figure size 432x288 with 2 Axes>"
      ]
     },
     "metadata": {},
     "output_type": "display_data"
    }
   ],
   "source": [
    "prediction = []\n",
    "\n",
    "for i in range(len(X_test)):\n",
    "    prediction.append(knnClassifier.knn(X_test[i], X_train, y_train, L, 5))\n",
    "\n",
    "prediction\n",
    "confusion_matrix = plots.plot_confusion_matrix(y_test, prediction, normalize=False)"
   ]
  },
  {
   "cell_type": "code",
   "execution_count": null,
   "metadata": {},
   "outputs": [],
   "source": []
  }
 ],
 "metadata": {
  "kernelspec": {
   "display_name": "Python 3",
   "language": "python",
   "name": "python3"
  },
  "language_info": {
   "codemirror_mode": {
    "name": "ipython",
    "version": 3
   },
   "file_extension": ".py",
   "mimetype": "text/x-python",
   "name": "python",
   "nbconvert_exporter": "python",
   "pygments_lexer": "ipython3",
   "version": "3.6.8"
  },
  "toc": {
   "base_numbering": 1,
   "nav_menu": {},
   "number_sections": true,
   "sideBar": true,
   "skip_h1_title": false,
   "title_cell": "Table of Contents",
   "title_sidebar": "Contents",
   "toc_cell": false,
   "toc_position": {},
   "toc_section_display": true,
   "toc_window_display": false
  }
 },
 "nbformat": 4,
 "nbformat_minor": 2
}
