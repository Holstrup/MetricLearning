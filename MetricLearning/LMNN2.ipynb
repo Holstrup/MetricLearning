{
 "cells": [
  {
   "cell_type": "markdown",
   "metadata": {},
   "source": [
    "## Imports"
   ]
  },
  {
   "cell_type": "code",
   "execution_count": 10,
   "metadata": {},
   "outputs": [
    {
     "data": {
      "text/plain": [
       "{'divide': 'ignore', 'over': 'warn', 'under': 'ignore', 'invalid': 'ignore'}"
      ]
     },
     "execution_count": 10,
     "metadata": {},
     "output_type": "execute_result"
    }
   ],
   "source": [
    "import sklearn.metrics as sk_metrics\n",
    "import sklearn.decomposition as sk_decomp\n",
    "import sklearn.datasets as datasets\n",
    "import numpy as np\n",
    "import Model\n",
    "import Plots\n",
    "import matplotlib.pyplot as plt\n",
    "from sklearn.utils.extmath import softmax\n",
    "\n",
    "# We ignore divisions by 0. We will do that in the chi square distance, but we don't care. \n",
    "np.seterr(divide='ignore', invalid='ignore')"
   ]
  },
  {
   "cell_type": "markdown",
   "metadata": {},
   "source": [
    "## Initial Settings / Hyperparameters"
   ]
  },
  {
   "cell_type": "code",
   "execution_count": 12,
   "metadata": {},
   "outputs": [],
   "source": [
    "l = 0.1\n",
    "mu = 0.5\n",
    "K = 3\n",
    "_, D = np.shape(X)\n",
    "L = np.eye(D, dtype=float)\n",
    "alpha = 0.001"
   ]
  },
  {
   "cell_type": "markdown",
   "metadata": {},
   "source": [
    "## Functions"
   ]
  },
  {
   "cell_type": "markdown",
   "metadata": {},
   "source": [
    "This block defines two functions that we will use to compute the distances. The first function calculates the distance given two points xi and xj. The second function calculates the distance between some point xi and all the other points X, through the L space. This is very important to note. "
   ]
  },
  {
   "cell_type": "code",
   "execution_count": 13,
   "metadata": {},
   "outputs": [],
   "source": [
    "def chi_square_distance(xi, xj):\n",
    "    \"\"\"\n",
    "    Chi square distance\n",
    "\n",
    "    :param xi: Embedding       (1, D)\n",
    "    :param xj: Target Neighbor (1, D)\n",
    "    :return: Distance\n",
    "    \"\"\"\n",
    "    return 1 / 2 * np.nansum(np.square(xi - xj) / (xi + xj))\n",
    "\n",
    "def distance(xi, X):\n",
    "    \"\"\"\n",
    "    Chi square distance from one point xi, to all other points\n",
    "    \n",
    "    :param xi: Embedding       (1, D)\n",
    "    :param X: Data             (N, D)\n",
    "    :return: Distances         (1, N)\n",
    "    \n",
    "    \"\"\"\n",
    "    N, K = np.shape(X)\n",
    "    Distances = np.zeros(N)\n",
    "    for i in range(N):\n",
    "        Distances[i] = chi_square_distance(L @ xi, L @ X[i, :])\n",
    "    return Distances"
   ]
  },
  {
   "cell_type": "markdown",
   "metadata": {},
   "source": [
    "These next functions are calculating the target neighbors and the imposters. Read through the comments, and it should make sense how it is done. One little note: In the target neighbours function, we find the distance through the L space. This is meant as the initial L space. We only find these target neighbours once, and should therefore not update what target neighbors a specific point xi has. "
   ]
  },
  {
   "cell_type": "code",
   "execution_count": 14,
   "metadata": {},
   "outputs": [],
   "source": [
    "def find_target_neighbors(X, Y):\n",
    "    \"\"\"\n",
    "    Find target neighbours for all points\n",
    "    \n",
    "    :param X: Data Matrix      (N, D)\n",
    "    :param Y: Labels           (1, N)\n",
    "    :return: TN_lookup_table   (N, K)\n",
    "    :return: TN_distance_table (N, K)\n",
    "    \"\"\"\n",
    "    \n",
    "    global TN_lookup_table\n",
    "    global TN_distance_table\n",
    "    \n",
    "    N, _ = np.shape(X)\n",
    "    TN_lookup_table = np.zeros((N, K))\n",
    "    TN_distance_table = np.zeros((N, K))\n",
    "\n",
    "    for i in range(N):\n",
    "        xi = X[i,:]\n",
    "        yi = Y[i]\n",
    "        \n",
    "        # Find distance from xi to all other points\n",
    "        TN_Distances = distance(xi, X)\n",
    "        TN_Indicies = np.argsort(TN_Distances)\n",
    "        j = k = 0\n",
    "        \n",
    "        #Loop to add indicies of target neighbours to lookup table\n",
    "        while j < K:\n",
    "            # if yi and target neighbour have the same label AND it is not the same point\n",
    "            if Y[TN_Indicies[k]] == yi and TN_Indicies[k] != i:\n",
    "                # Add to lookup table and distance table\n",
    "                TN_lookup_table[i, j] = TN_Indicies[k]\n",
    "                TN_distance_table[i, j] = TN_Distances[TN_Indicies[k]]\n",
    "                j += 1\n",
    "            k += 1\n",
    "    TN_lookup_table = TN_lookup_table.astype(int)\n",
    "    return TN_lookup_table, TN_distance_table\n",
    "\n",
    "\n",
    "def find_imposters(i, X, Y):\n",
    "    \"\"\"\n",
    "    Find imposters for a given point in index i\n",
    "    \n",
    "    :param i: Index in data matrix \n",
    "    :param X: Data Matrix    (N, D)\n",
    "    :param Y: Labels         (1, N)\n",
    "    :return: imposters       (?, D)\n",
    "    :return: imposters_dist  (1, D)\n",
    "    \"\"\"\n",
    "    \n",
    "    #Max margin = max distance of a target neighbour for that point + l\n",
    "    max_dist = 0\n",
    "    for TN in TN_lookup_table[i,:]:\n",
    "        \n",
    "        # QUESTION: Should we calculate this distance in the new L space?\n",
    "        dist = chi_square_distance(L @ X[i], L @ X[TN])\n",
    "        if dist > max_dist:\n",
    "            max_dist = dist\n",
    "    max_margin = max_dist + l\n",
    "    \n",
    "    #Find distances \n",
    "    distances = distance(X[i,:], X)\n",
    "    imposters = np.array([0])\n",
    "    for j, index in enumerate(np.argsort(distances)):\n",
    "        if distances[j] > max_margin:\n",
    "            break\n",
    "        elif Y[i] != Y[index]:\n",
    "            imposters = np.append(imposters, index)\n",
    "    imposters.astype(int)\n",
    "    return imposters[1:]"
   ]
  },
  {
   "cell_type": "markdown",
   "metadata": {},
   "source": [
    "### LMNN Functions\n",
    "\n",
    "These next functions, are made from looking at this [Paper](https://projet.liris.cnrs.fr/imagine/pub/proceedings/ICPR-2012/media/files/1795.pdf). Specifically, if you scroll to the last page you can see the equations that are implemented below. Here are some notes, that helps when you read it: \n",
    "* $L_{\\alpha, \\beta}$ refers to the alpha'th row and the beta'th column in the L matrix. Same goes for all the other places there is subscript. \n",
    "* $\\tau_{i, j, \\alpha}$ in this paper is the same as tij in the Yang paper\n",
    "* In this paper they refer to imposters with the letter l (as opposed to k in the other papers)"
   ]
  },
  {
   "cell_type": "code",
   "execution_count": 15,
   "metadata": {},
   "outputs": [],
   "source": [
    "# Tau Function\n",
    "\n",
    "def tau_function(X_Matrix, L_Matrix, i, j, alpha):\n",
    "    N, D = np.shape(X_Matrix)\n",
    "    numerator = 0\n",
    "    denominator = 0\n",
    "    for k in range(D):\n",
    "        numerator +=   L_Matrix[alpha, k] * (X_Matrix[i, k] - X_Matrix[j, k])\n",
    "        denominator += L_Matrix[alpha, k] * (X_Matrix[i, k] + X_Matrix[j, k])\n",
    "    return numerator / denominator"
   ]
  },
  {
   "cell_type": "code",
   "execution_count": 16,
   "metadata": {},
   "outputs": [],
   "source": [
    "### PULL FUNCTIONS\n",
    "def Pull(X_Matrix, L_Matrix):\n",
    "    D, D = np.shape(L_Matrix)\n",
    "    gradient_matrix = np.zeros((D,D))\n",
    "    for alpha in range(D):\n",
    "        for beta in range(D):\n",
    "            gradient_matrix[alpha, beta] = Pull_matrix_element(X_Matrix, L_Matrix, alpha, beta)\n",
    "    return gradient_matrix\n",
    "\n",
    "def Pull_matrix_element(X_Matrix, L_Matrix, alpha, beta):\n",
    "    N, D = np.shape(X_Matrix)\n",
    "    elem = 0\n",
    "    for i in range(N):\n",
    "        for j in TN_lookup_table[i, :]:\n",
    "            tau = tau_function(X_Matrix, L_Matrix, i, j, alpha)\n",
    "            elem += 2 * tau * (X_Matrix[i, beta] - X_Matrix[j, beta]) - (tau**2) * (X_Matrix[i, beta] + X_Matrix[j, beta])\n",
    "    return elem"
   ]
  },
  {
   "cell_type": "code",
   "execution_count": 17,
   "metadata": {},
   "outputs": [],
   "source": [
    "### PUSH FUNCTIONS\n",
    "\n",
    "\n",
    "def Push(X_Matrix, L_Matrix, Y):\n",
    "    D, D = np.shape(L_Matrix)\n",
    "    gradient_matrix = np.zeros((D,D))\n",
    "    for alpha in range(D):\n",
    "        for beta in range(D):\n",
    "            gradient_matrix[alpha, beta] = Push_matrix_element(X_Matrix, L_Matrix, Y, alpha, beta)\n",
    "    return gradient_matrix\n",
    "\n",
    "\n",
    "def check(L_matrix, xi, xj, xk):\n",
    "    return chi_square_distance(L @ xi, L @ xj) + l >= chi_square_distance(L @ xi, L @ xk)\n",
    "\n",
    "\n",
    "def Push_matrix_element(X_Matrix, L_Matrix, Y, alpha, beta):\n",
    "    N, D = np.shape(X_Matrix)\n",
    "    elem = 0\n",
    "    for i in range(N):\n",
    "        xi = X_Matrix[i,:]\n",
    "        imposters = find_imposters(i, X, Y)\n",
    "        for j in TN_lookup_table[i, :]:\n",
    "            for l_imposter in imposters:\n",
    "                if check(L, X_Matrix[i],  X_Matrix[j],  X_Matrix[l_imposter]):\n",
    "                    tauij = tau_function(X_Matrix, L_Matrix, i, j, alpha)\n",
    "                    tauik = tau_function(X_Matrix, L_Matrix, i, l_imposter, alpha)\n",
    "                    Lij = 2 * tauij * (X_Matrix[i, beta] - X_Matrix[j, beta])          - (tauij**2) * (X_Matrix[i, beta] + X_Matrix[j, beta])\n",
    "                    Lik = 2 * tauik * (X_Matrix[i, beta] - X_Matrix[l_imposter, beta]) - (tauik**2) * (X_Matrix[i, beta] + X_Matrix[l_imposter, beta])\n",
    "                    elem += Lij - Lik\n",
    "                else:\n",
    "                    print(i, j, l_imposter)\n",
    "    return elem\n"
   ]
  },
  {
   "cell_type": "code",
   "execution_count": 18,
   "metadata": {},
   "outputs": [],
   "source": [
    "def update_step(G):\n",
    "    \"\"\"\n",
    "    Update L\n",
    "    \n",
    "    :param G: Computed gradient for a given iteration\n",
    "    \"\"\"\n",
    "    global L\n",
    "    new_L = L - alpha * G\n",
    "    L = softmax(new_L)"
   ]
  },
  {
   "cell_type": "markdown",
   "metadata": {},
   "source": [
    "## Dataset - IRIS"
   ]
  },
  {
   "cell_type": "code",
   "execution_count": null,
   "metadata": {},
   "outputs": [],
   "source": [
    "iris = datasets.load_iris()\n",
    "X = iris.data[:,:]  # we only take the first two features.\n",
    "y = iris.target\n",
    "X = X / np.sum(X, axis = 1)[:,None]"
   ]
  },
  {
   "cell_type": "code",
   "execution_count": 19,
   "metadata": {},
   "outputs": [],
   "source": [
    "TN_lookup_table, TN_distance_table = find_target_neighbors(X, y)"
   ]
  },
  {
   "cell_type": "markdown",
   "metadata": {},
   "source": [
    "## Run"
   ]
  },
  {
   "cell_type": "code",
   "execution_count": 23,
   "metadata": {},
   "outputs": [
    {
     "name": "stdout",
     "output_type": "stream",
     "text": [
      "0\n",
      "[[-141.16183225 -332.94180774  478.7807362   226.82308485]\n",
      " [-143.97306915 -384.38925913  584.79018619  274.47894177]\n",
      " [2928.18574868 2774.68397172 -856.3080989  -624.15089781]\n",
      " [2930.60917077 2776.60211244 -856.2345172  -624.35782283]]\n",
      "[[0.29319208 0.3902286  0.1348494  0.18172991]\n",
      " [0.29011153 0.42316609 0.1176908  0.16903158]\n",
      " [0.00754067 0.00880283 0.60072258 0.38293392]\n",
      " [0.0075235  0.00878726 0.60023353 0.38345571]]\n",
      "\n",
      "\n",
      "1\n",
      "[[-141.68221225 -337.13170705  486.94141057  230.52186501]\n",
      " [-144.05726314 -380.33492413  575.94427816  270.53468142]\n",
      " [2928.66971402 2775.06806698 -856.29403428 -624.19134158]\n",
      " [2929.9604053  2776.08963325 -856.2548434  -624.30157157]]\n",
      "[[0.29312648 0.39271737 0.13343812 0.18071802]\n",
      " [0.29055355 0.42036363 0.11902882 0.170054  ]\n",
      " [0.00753717 0.00879964 0.60063793 0.38302526]\n",
      " [0.00752803 0.00879134 0.60037718 0.38330346]]\n",
      "\n",
      "\n",
      "2\n",
      "[[-142.07077141 -340.71766211  493.96070934  233.69420866]\n",
      " [-144.06408448 -376.990584    568.68112178  267.28589727]\n",
      " [2928.85467307 2775.29877369 -856.29226284 -624.19896057]\n",
      " [2929.54243536 2775.84313014 -856.27138056 -624.25770423]]\n",
      "[[0.29304159 0.39486832 0.13223686 0.17985323]\n",
      " [0.29088454 0.4180759  0.12013985 0.17089971]\n",
      " [0.00753588 0.00879773 0.60059652 0.38306987]\n",
      " [0.00753101 0.00879331 0.6004575  0.38321818]]\n",
      "\n",
      "\n",
      "3\n",
      "[[-142.38730205 -343.75401676  499.97176195  236.41194579]\n",
      " [-144.05701483 -374.20004012  562.69565623  264.6102456 ]\n",
      " [2928.96942647 2775.38973473 -856.28882983 -624.2086907 ]\n",
      " [2929.3359972  2775.67987103 -856.27770065 -624.24000219]]\n",
      "[[0.29295479 0.39671246 0.13121727 0.17911547]\n",
      " [0.29114328 0.41619334 0.12106386 0.17159953]\n",
      " [0.00753506 0.00879698 0.60057428 0.38309367]\n",
      " [0.00753247 0.00879463 0.60050017 0.38317274]]\n",
      "\n",
      "\n",
      "4\n",
      "[[-142.63548553 -346.32798601  505.10075313  238.7288107 ]\n",
      " [-144.03162438 -371.8785174   557.74802982  262.39662037]\n",
      " [2929.02929495 2775.4371375  -856.28702273 -624.21379007]\n",
      " [2929.2246931  2775.59179272 -856.2810907  -624.23048089]]\n",
      "[[0.29286933 0.39828853 0.13035386 0.17848828]\n",
      " [0.29134655 0.41463989 0.12183338 0.17218018]\n",
      " [0.00753464 0.0087966  0.60056239 0.38310637]\n",
      " [0.00753326 0.00879534 0.60052288 0.38314852]]\n",
      "\n",
      "\n",
      "5\n",
      "[[-142.830767   -348.50581943  509.46448534  240.69845437]\n",
      " [-143.9970574  -369.94479545  553.64861987  260.56114626]\n",
      " [2929.06091222 2775.46216596 -856.28606522 -624.21648767]\n",
      " [2929.16507233 2775.54460739 -856.28290316 -624.22538508]]\n",
      "[[0.29278801 0.39963158 0.12962402 0.17795639]\n",
      " [0.29150738 0.41335484 0.12247495 0.17266283]\n",
      " [0.00753442 0.00879639 0.60055604 0.38311315]\n",
      " [0.00753368 0.00879573 0.60053498 0.38313562]]\n",
      "\n",
      "\n",
      "6\n",
      "[[-142.98509106 -350.34563079  513.16828842  242.36910762]\n",
      " [-143.95899124 -368.33243895  550.24542327  259.03645334]\n",
      " [2929.0777014  2775.47545522 -856.28555607 -624.21792113]\n",
      " [2929.13322658 2775.51940271 -856.28387048 -624.22266415]]\n",
      "[[0.29271266 0.40077316 0.12900796 0.17750622]\n",
      " [0.29163556 0.41228953 0.1230103  0.1730646 ]\n",
      " [0.0075343  0.00879629 0.60055266 0.38311676]\n",
      " [0.0075339  0.00879593 0.60054143 0.38312874]]\n",
      "\n",
      "\n",
      "7\n",
      "[[-143.10763136 -351.89791303  516.30572693  243.78348658]\n",
      " [-143.92083993 -366.98687653  547.4156504   257.76800962]\n",
      " [2929.08663704 2775.48252785 -856.28528493 -624.21868427]\n",
      " [2929.11623636 2775.50595535 -856.28438639 -624.22121268]]\n",
      "[[0.29264427 0.40174138 0.12848854 0.1771258 ]\n",
      " [0.29173842 0.41140478 0.12345736 0.17339943]\n",
      " [0.00753423 0.00879623 0.60055085 0.38311868]\n",
      " [0.00753402 0.00879604 0.60054487 0.38312507]]\n",
      "\n",
      "\n",
      "8\n",
      "[[-143.20541704 -353.2062316   518.95900039  244.97902204]\n",
      " [-143.8845583  -365.86313897  545.05951575  256.71141873]\n",
      " [2929.09139732 2775.48629559 -856.28514045 -624.21909087]\n",
      " [2929.10717614 2775.49878434 -856.28466146 -624.22043872]]\n",
      "[[0.29258315 0.40256108 0.12805102 0.17680475]\n",
      " [0.29182148 0.41066886 0.12383092 0.17367874]\n",
      " [0.0075342  0.0087962  0.60054989 0.38311971]\n",
      " [0.00753409 0.0087961  0.6005467  0.38312312]]\n",
      "\n",
      "\n",
      "9\n",
      "[[-143.28383609 -354.30797405  521.19971092  245.98824829]\n",
      " [-143.85117203 -364.92407373  543.09553204  255.83036832]\n",
      " [2929.09393424 2775.48830354 -856.28506344 -624.21930757]\n",
      " [2929.10234564 2775.49496106 -856.2848081  -624.22002608]]\n",
      "[[0.29252919 0.40325396 0.12768276 0.17653409]\n",
      " [0.29188891 0.41005593 0.12414324 0.17391193]\n",
      " [0.00753418 0.00879618 0.60054938 0.38312026]\n",
      " [0.00753412 0.00879613 0.60054768 0.38312207]]\n",
      "\n",
      "\n"
     ]
    }
   ],
   "source": [
    "ITERATIONS = 10\n",
    "\n",
    "for i in range(ITERATIONS):\n",
    "    print(i)\n",
    "    Gt = (1 - mu) * Pull(X, L) + mu * Push(X, L, y)\n",
    "    update_step(Gt)\n",
    "    print(Gt)\n",
    "    print(L)\n",
    "    print(\"\\n\")"
   ]
  },
  {
   "cell_type": "code",
   "execution_count": 24,
   "metadata": {},
   "outputs": [
    {
     "data": {
      "image/png": "[encoded data removed]",
      "text/plain": [
       "<Figure size 432x288 with 2 Axes>"
      ]
     },
     "metadata": {
      "needs_background": "light"
     },
     "output_type": "display_data"
    }
   ],
   "source": [
    "Plots.plot_kernel(L)"
   ]
  },
  {
   "cell_type": "code",
   "execution_count": 27,
   "metadata": {},
   "outputs": [
    {
     "data": {
      "image/png": "[encoded data removed]",
      "text/plain": [
       "<Figure size 432x288 with 3 Axes>"
      ]
     },
     "metadata": {
      "needs_background": "light"
     },
     "output_type": "display_data"
    },
    {
     "name": "stdout",
     "output_type": "stream",
     "text": [
      "[[0.30536654 0.30688558 0.10094906 0.10094881]\n",
      " [0.25700432 0.25683527 0.2109805  0.21098014]\n",
      " [0.2390692  0.23829608 0.25377937 0.25377893]]\n",
      "[1 2 0]\n",
      "[1 2 0]\n",
      "[2 1 0]\n",
      "[1 2 0]\n",
      "[1 2 0]\n",
      "[1 2 0]\n",
      "[1 2 0]\n",
      "[1 2 0]\n",
      "[1 2 0]\n",
      "[1 2 0]\n",
      "[1 2 0]\n",
      "[1 2 0]\n",
      "[1 2 0]\n",
      "[2 1 0]\n",
      "[1 2 0]\n",
      "[1 2 0]\n",
      "[1 2 0]\n",
      "[1 2 0]\n",
      "[1 2 0]\n",
      "[1 2 0]\n"
     ]
    }
   ],
   "source": [
    "new_X = (L @ X.T).T\n",
    "\n",
    "plot_items = new_X[42:123:40,:]\n",
    "plot_labels = y[42:123:40]\n",
    "Plots.plot_some_data(plot_items, plot_labels)\n",
    "print(plot_items)\n",
    "\n",
    "for i in range(20):\n",
    "    print(np.argsort(distance(X[70 + i], X[42:123:40,:])))"
   ]
  },
  {
   "cell_type": "code",
   "execution_count": 85,
   "metadata": {},
   "outputs": [
    {
     "name": "stdout",
     "output_type": "stream",
     "text": [
      "[27 19 49 17 12 39  2 46 48]\n",
      "[ 4 47 38 48 46  2  0  7 10]\n",
      "42\n"
     ]
    }
   ],
   "source": [
    "import random\n",
    "Datapoint = X[random.randint(1,150)]\n",
    "results = np.argsort(distance(Datapoint, X))\n",
    "Bestguesses = results[1:10]\n",
    "Actual = results[0]\n",
    "\n",
    "print(Bestguesses)\n",
    "\n",
    "old_basis = np.zeros(150)\n",
    "for i in range(150):\n",
    "    old_basis[i] = chi_square_distance(Datapoint, X[i])\n",
    "results = np.argsort(old_basis)\n",
    "Bestguesses = results[1:10]\n",
    "Actual = results[0]\n",
    "print(Bestguesses)\n",
    "print(Actual)"
   ]
  },
  {
   "cell_type": "code",
   "execution_count": null,
   "metadata": {},
   "outputs": [],
   "source": [
    "def Plot_Transformed_space(new_l, X):\n",
    "    new_X = (new_l @ X.T).T\n",
    "    color_array = ['b'] * 50 + ['g'] * 50 + ['r'] * 50\n",
    "    plt.scatter(new_X[:,0], new_X[:,1], marker='*', c=color_array)\n",
    "    plt.show()"
   ]
  },
  {
   "cell_type": "markdown",
   "metadata": {
    "heading_collapsed": true
   },
   "source": [
    "## Old Code"
   ]
  },
  {
   "cell_type": "code",
   "execution_count": 15,
   "metadata": {
    "hidden": true
   },
   "outputs": [],
   "source": [
    "def tau_function(xi, xj, alpha):\n",
    "    return np.sum((L[alpha,:] @ (xi - xj)) / (L[alpha,:] @ (xi + xj)))\n",
    "\n",
    "def Pull(X, alpha, beta):\n",
    "    N, D  = np.shape(X)\n",
    "    Gradient_alpha_beta = 0\n",
    "    for i in range(N):\n",
    "        xi = X[i,:]\n",
    "        for j in range(K):\n",
    "            xj = X[int(TN_lookup_table[i,j]),:]\n",
    "            tau = tau_function(xi, xj, alpha)\n",
    "            Gradient_alpha_beta += \\\n",
    "                2 * (xi[beta] - xj[beta]) * (tau) - (xi[beta] + xj[beta]) * (tau)**2\n",
    "    return Gradient_alpha_beta\n",
    "\n",
    "def Pull_Gradient_Matrix(X):\n",
    "    Pull_matrix = np.zeros((D,D))\n",
    "    for alpha in range(D):\n",
    "        for beta in range(D):\n",
    "            Pull_matrix[alpha, beta] = Pull((L @ X.T).T, alpha, beta)\n",
    "    return Pull_matrix\n",
    "\n",
    "def Lijalphabeta(xi, xj, alpha, beta):\n",
    "    tau = tau_function(xi, xj, alpha)\n",
    "    return 2 * (xi[beta] - xj[beta]) * (tau) - (xi[beta] + xj[beta]) * (tau)**2\n",
    "\n",
    "def Push_Gradient_Matrix(X, Y):\n",
    "    N, D  = np.shape(X)\n",
    "    Push_Matrix = np.zeros((D,D))\n",
    "    for alpha in range(D):\n",
    "        for beta in range(D):\n",
    "            Push_Matrix[alpha, beta] = Push(X, Y, alpha, beta) \n",
    "    return Push_Matrix\n",
    "\n",
    "def Push(X, Y, alpha, beta):\n",
    "    N, D = np.shape(X)\n",
    "    Gradient_alpha_beta = 0\n",
    "    for i in range(N):\n",
    "        xi = X[i, :]\n",
    "        imposters, _ = find_imposters(i, X, Y)\n",
    "        N_Imposters, _ = np.shape(imposters)\n",
    "        for j in range(K):\n",
    "            xj = X[int(TN_lookup_table[i,j]),:]\n",
    "            for l_imposter in range(N_Imposters):\n",
    "                xl = imposters[l_imposter]\n",
    "                Gradient_alpha_beta += l + Lijalphabeta(xi, xj, alpha, beta) - Lijalphabeta(xi, xl, alpha, beta)\n",
    "    return Gradient_alpha_beta\n",
    "\n",
    "def find_imposters(i, X, Y):\n",
    "    max_margin = np.max(TN_distance_table[i, :]) + l\n",
    "    candidate_imposters = X[np.where(Y[i] != Y)]\n",
    "    imposters_dist = distance(X[i,:], candidate_imposters)\n",
    "    imposters = candidate_imposters[np.where(imposters_dist < max_margin)]\n",
    "    imposters_dist = imposters_dist[np.where(imposters_dist < max_margin)]\n",
    "    return imposters, imposters_dist\n",
    "\n",
    "    \n",
    "def find_target_neighbors(X, Y):\n",
    "    global TN_lookup_table\n",
    "    global TN_distance_table\n",
    "    \n",
    "    N, _ = np.shape(X)\n",
    "    TN_lookup_table = np.zeros((N, K))\n",
    "    TN_distance_table = np.zeros((N, K))\n",
    "\n",
    "    for i in range(N):\n",
    "        xi = X[i,:]\n",
    "        yi = Y[i]\n",
    "        TN_Distances = distance(xi, X)\n",
    "        TN_Indicies = np.argsort(TN_Distances)\n",
    "        j = k = 0\n",
    "        while j < K:\n",
    "            if Y[TN_Indicies[k]] == yi and TN_Indicies[k] != i:\n",
    "                TN_lookup_table[i, j] = TN_Indicies[k]\n",
    "                TN_distance_table[i, j] = TN_Distances[TN_Indicies[k]]\n",
    "                j += 1\n",
    "            k += 1\n",
    "    return TN_lookup_table, TN_distance_table\n",
    "\n",
    "def chi_square_distance(xi, xj):\n",
    "    \"\"\"\n",
    "    Chi square distance\n",
    "\n",
    "    :param xi: Embedding       (1, D)\n",
    "    :param xj: Target Neighbor (1, D)\n",
    "    :return: Distance\n",
    "    \"\"\"\n",
    "    return 1 / 2 * np.nansum(np.square(xi - xj) / (xi + xj))\n",
    "\n",
    "def distance(xi, X):\n",
    "    N, K = np.shape(X)\n",
    "    Distances = np.zeros(N)\n",
    "    for i in range(N):\n",
    "        Distances[i] = chi_square_distance(L @ xi, L @ X[i, :])\n",
    "    return Distances\n",
    "\n",
    "def update_step(G):\n",
    "    \"\"\"\n",
    "    Update L\n",
    "    \n",
    "    :param G: Computed gradient for a given iteration\n",
    "    \"\"\"\n",
    "    global L\n",
    "    new_L = L - alpha * G\n",
    "    L = softmax(new_L)\n"
   ]
  }
 ],
 "metadata": {
  "kernelspec": {
   "display_name": "Python 3",
   "language": "python",
   "name": "python3"
  },
  "language_info": {
   "codemirror_mode": {
    "name": "ipython",
    "version": 3
   },
   "file_extension": ".py",
   "mimetype": "text/x-python",
   "name": "python",
   "nbconvert_exporter": "python",
   "pygments_lexer": "ipython3",
   "version": "3.7.2"
  },
  "toc": {
   "base_numbering": 1,
   "nav_menu": {},
   "number_sections": true,
   "sideBar": true,
   "skip_h1_title": false,
   "title_cell": "Table of Contents",
   "title_sidebar": "Contents",
   "toc_cell": false,
   "toc_position": {},
   "toc_section_display": true,
   "toc_window_display": false
  }
 },
 "nbformat": 4,
 "nbformat_minor": 2
}
