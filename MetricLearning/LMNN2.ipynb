{
 "cells": [
  {
   "cell_type": "markdown",
   "metadata": {},
   "source": [
    "## Imports"
   ]
  },
  {
   "cell_type": "code",
   "execution_count": 2,
   "metadata": {},
   "outputs": [
    {
     "name": "stderr",
     "output_type": "stream",
     "text": [
      "Using TensorFlow backend.\n"
     ]
    },
    {
     "data": {
      "text/plain": [
       "{'divide': 'warn', 'over': 'warn', 'under': 'ignore', 'invalid': 'warn'}"
      ]
     },
     "execution_count": 2,
     "metadata": {},
     "output_type": "execute_result"
    }
   ],
   "source": [
    "import sklearn.metrics as sk_metrics\n",
    "import sklearn.decomposition as sk_decomp\n",
    "import sklearn.datasets as datasets\n",
    "from sklearn.model_selection import train_test_split\n",
    "from sklearn.metrics import confusion_matrix\n",
    "import numpy as np\n",
    "import Model\n",
    "import Plots\n",
    "import matplotlib.pyplot as plt\n",
    "import knnClassifier\n",
    "from sklearn.utils.extmath import softmax\n",
    "import plot_confusion_matrix as plots\n",
    "import random\n",
    "from knnClassifier import calc_mode\n",
    "\n",
    "# We ignore divisions by 0. We will do that in the chi square distance, but we don't care. \n",
    "np.seterr(divide='ignore', invalid='ignore')"
   ]
  },
  {
   "cell_type": "markdown",
   "metadata": {},
   "source": [
    "## Hyperparameters"
   ]
  },
  {
   "cell_type": "markdown",
   "metadata": {},
   "source": [
    "Underneath you can define the hyperparameters, l, mu and K.\n",
    "* $l$ is the margin parameter\n",
    "* $\\mu$ is a trade-off parameter between the push and pull in the loss function\n",
    "* $K$ is the number of target neighbors \n",
    "* $D$ is the dimensionality of our data. We choose that arbitrarily\n",
    "* $L$ is the linear transformation\n",
    "\n",
    "L is set to be a diagonal matrix of ones to begin with. However, it would be interesting to experiement with other initial L matrices, since the problem is non-convex. We could also try to implement the constrained non-convex version of LMNN."
   ]
  },
  {
   "cell_type": "code",
   "execution_count": 2,
   "metadata": {},
   "outputs": [],
   "source": [
    "l = 0.5\n",
    "mu = 0.5\n",
    "K = 5\n",
    "D = 10\n",
    "L = np.eye(D, dtype=float)\n",
    "alpha = 0.001"
   ]
  },
  {
   "cell_type": "markdown",
   "metadata": {},
   "source": [
    "## Functions"
   ]
  },
  {
   "cell_type": "markdown",
   "metadata": {},
   "source": [
    "This block defines two functions that we will use to compute the distances. The first function calculates the distance given two points xi and xj. The second function calculates the distance between some point xi and all the other points X, through the L space. This is very important to note. "
   ]
  },
  {
   "cell_type": "markdown",
   "metadata": {},
   "source": [
    "* $chi-square-distance(xi, xj)$ corresponds to (3) in the [Non-linear metric learning paper](http://www.cs.cornell.edu/~kilian/papers/chilmnn.pdf)\n",
    "* $distance(xi, X)$ is an extension to $chi-square-distance(xi, xj)$, namely finding the chi square distance from one point xi, to all the other points"
   ]
  },
  {
   "cell_type": "code",
   "execution_count": 3,
   "metadata": {},
   "outputs": [],
   "source": [
    "def chi_square_distance(xi, xj):\n",
    "    \"\"\"\n",
    "    Chi square distance\n",
    "\n",
    "    :param xi: Embedding       (1, D)\n",
    "    :param xj: Target Neighbor (1, D)\n",
    "    :return: Distance\n",
    "    \"\"\"\n",
    "    return 1 / 2 * np.nansum(np.square(xi - xj) / (xi + xj))\n",
    "\n",
    "def distance(xi, X):\n",
    "    \"\"\"\n",
    "    Chi square distance from one point xi, to all other points\n",
    "    \n",
    "    :param xi: Embedding       (1, D)\n",
    "    :param X: Data             (N, D)\n",
    "    :return: Distances         (1, N)\n",
    "    \n",
    "    \"\"\"\n",
    "    N, K = np.shape(X)\n",
    "    Distances = np.zeros(N)\n",
    "    for i in range(N):\n",
    "        Distances[i] = chi_square_distance(L @ xi, L @ X[i, :])\n",
    "    return Distances"
   ]
  },
  {
   "cell_type": "markdown",
   "metadata": {},
   "source": [
    "These next functions are calculating the target neighbors and the imposters. Read through the comments, and it should make sense how it is done. One little note: In the target neighbours function, we find the distance through the L space. This is meant as the initial L space. We only find these target neighbours once, and should therefore not update what target neighbors a specific point xi has. "
   ]
  },
  {
   "cell_type": "code",
   "execution_count": 4,
   "metadata": {},
   "outputs": [],
   "source": [
    "def find_target_neighbors(X, Y):\n",
    "    \"\"\"\n",
    "    Find target neighbours for all points\n",
    "    \n",
    "    :param X: Data Matrix      (N, D)\n",
    "    :param Y: Labels           (1, N)\n",
    "    :return: TN_lookup_table   (N, K)\n",
    "    :return: TN_distance_table (N, K)\n",
    "    \"\"\"\n",
    "    \n",
    "    global TN_lookup_table\n",
    "    global TN_distance_table\n",
    "    \n",
    "    N, _ = np.shape(X)\n",
    "    TN_lookup_table = np.zeros((N, K))\n",
    "    TN_distance_table = np.zeros((N, K))\n",
    "\n",
    "    for i in range(N):\n",
    "        xi = X[i,:]\n",
    "        yi = Y[i]\n",
    "        \n",
    "        # Find distance from xi to all other points\n",
    "        TN_Distances = distance(xi, X)\n",
    "        TN_Indicies = np.argsort(TN_Distances)\n",
    "        j = k = 0\n",
    "        \n",
    "        #Loop to add indicies of target neighbours to lookup table\n",
    "        while j < K:\n",
    "            # if yi and target neighbour have the same label AND it is not the same point\n",
    "            if Y[TN_Indicies[k]] == yi and TN_Indicies[k] != i:\n",
    "                # Add to lookup table and distance table\n",
    "                TN_lookup_table[i, j] = TN_Indicies[k]\n",
    "                TN_distance_table[i, j] = TN_Distances[TN_Indicies[k]]\n",
    "                j += 1\n",
    "            k += 1\n",
    "    TN_lookup_table = TN_lookup_table.astype(int)\n",
    "    return TN_lookup_table, TN_distance_table\n",
    "\n",
    "\n",
    "def find_imposters(i, X, Y):\n",
    "    \"\"\"\n",
    "    Find imposters for a given point in index i\n",
    "    \n",
    "    :param i: Index in data matrix \n",
    "    :param X: Data Matrix    (N, D)\n",
    "    :param Y: Labels         (1, N)\n",
    "    :return: imposters       (?, D)\n",
    "    :return: imposters_dist  (1, D)\n",
    "    \"\"\"\n",
    "    \n",
    "    #Max margin = max distance of a target neighbour for that point + l\n",
    "    max_dist = 0\n",
    "    for TN in TN_lookup_table[i,:]:\n",
    "        \n",
    "        # We need to update the distance to our target neighbours and compute the max distance\n",
    "        dist = chi_square_distance(L @ X[i], L @ X[TN])\n",
    "        if dist > max_dist:\n",
    "            max_dist = dist\n",
    "    \n",
    "    #Max dist + margin l\n",
    "    max_margin = max_dist + l\n",
    "    \n",
    "    #Find distances \n",
    "    distances = distance(X[i,:], X)\n",
    "    imposters = np.array([0])\n",
    "    for j, index in enumerate(np.argsort(distances)):\n",
    "        if distances[j] > max_margin:\n",
    "            break\n",
    "        elif Y[i] != Y[index]:\n",
    "            imposters = np.append(imposters, index)\n",
    "    imposters.astype(int)\n",
    "    return imposters[1:]"
   ]
  },
  {
   "cell_type": "markdown",
   "metadata": {},
   "source": [
    "## LMNN Functions\n",
    "\n",
    "These next functions, are made from looking at this [Chi square Metric Learning for Nearest Neighbor Classification and Its Analysis paper](https://projet.liris.cnrs.fr/imagine/pub/proceedings/ICPR-2012/media/files/1795.pdf). Specifically, if you scroll to the last page you can see the equations that are implemented below. Here are some notes, that helps when you read it: \n",
    "* $L_{\\alpha, \\beta}$ refers to the alpha'th row and the beta'th column in the L matrix. Same goes for all the other places there is subscript. \n",
    "* $\\psi_{i, j, \\alpha}$ in this paper is the same as $t_{i,j}$ in the Yang paper\n",
    "* In this paper they refer to imposters with the letter l (as opposed to k in the other papers)\n",
    "* $\\xi_{i, j, l}$ I interpret as a check that the point $x_{l}$ is actually an imposter. That should always be the case since, we calculate the imposters this way in the imposters function. However, that doesn't always hold for some reason. <b>We need to figure out why that is!</b> "
   ]
  },
  {
   "cell_type": "markdown",
   "metadata": {},
   "source": [
    "* $gradient-function$ is the main function that deals with computing the gradient\n",
    "* $gradient-element$ sustains $gradient-function$ and corresponds to (26) and (27) in the above stated [paper](https://projet.liris.cnrs.fr/imagine/pub/proceedings/ICPR-2012/media/files/1795.pdf)\n",
    "* $outer-loss$ corresponds to (11) - for target neighbors \n",
    "* $inner-loss-function$ corresponds to (12) - for impostors"
   ]
  },
  {
   "cell_type": "markdown",
   "metadata": {},
   "source": [
    "* $tau-function$ ($\\Psi$ in the text) corresponds to (25) in the above stated [paper](https://projet.liris.cnrs.fr/imagine/pub/proceedings/ICPR-2012/media/files/1795.pdf) "
   ]
  },
  {
   "cell_type": "code",
   "execution_count": 5,
   "metadata": {},
   "outputs": [],
   "source": [
    "#Tau Function\n",
    "def tau_function(X_Matrix, L_Matrix, i, j, alpha):\n",
    "    N, D = np.shape(X_Matrix)\n",
    "    numerator = 0\n",
    "    denominator = 0\n",
    "    for k in range(D):\n",
    "        numerator +=   L_Matrix[alpha, k] * (X_Matrix[i, k] - X_Matrix[j, k])\n",
    "        denominator += L_Matrix[alpha, k] * (X_Matrix[i, k] + X_Matrix[j, k])\n",
    "    return numerator / denominator\n",
    "\n",
    "#Check if the impostor is the margin of the target neighbor + marginal distance l\n",
    "def check(L, xi, xj, xk):\n",
    "    return chi_square_distance(L @ xi, L @ xj) + l >= chi_square_distance(L @ xi, L @ xk)"
   ]
  },
  {
   "cell_type": "code",
   "execution_count": 6,
   "metadata": {},
   "outputs": [],
   "source": [
    "def gradient_and_loss_function(X, Y, L_Matrix):\n",
    "    D, D = np.shape(L_Matrix)\n",
    "    gradient_matrix = np.zeros((D,D))\n",
    "    for alpha in range(D):\n",
    "        for beta in range(D):\n",
    "            gradient_matrix[alpha, beta], loss = gradient_and_loss_element(X, Y, L_Matrix, alpha, beta)\n",
    "    return gradient_matrix, loss\n",
    "            \n",
    "def gradient_and_loss_element(X_Matrix, Y, L_Matrix, alpha, beta):\n",
    "    global mu\n",
    "    N, _ = np.shape(X_Matrix)\n",
    "    gradient = 0\n",
    "    outer_sum = 0\n",
    "    Inner_sum = 0\n",
    "    loss = 0\n",
    "    for i in range(N):\n",
    "        imposters = find_imposters(i, X_Matrix, Y)\n",
    "        Pull = 0\n",
    "        for j in TN_lookup_table[i, :]:\n",
    "            tauij = tau_function(X_Matrix, L_Matrix, i, j, alpha)\n",
    "            Lij = 2 * tauij * (X_Matrix[i, beta] - X_Matrix[j, beta]) - (tauij**2) * (X_Matrix[i, beta] + X_Matrix[j, beta])\n",
    "            outer_sum += Lij\n",
    "            for l_imposter in imposters:\n",
    "                if check(L, X_Matrix[i],  X_Matrix[j],  X_Matrix[l_imposter]):\n",
    "                    tauik = tau_function(X_Matrix, L_Matrix, i, l_imposter, alpha)\n",
    "                    Lik = 2 * tauik * (X_Matrix[i, beta] - X_Matrix[l_imposter, beta]) - (tauik**2) * (X_Matrix[i, beta] + X_Matrix[l_imposter, beta])\n",
    "                    Inner_sum += Lij - Lik\n",
    "                else:\n",
    "                    print(i, j, l_imposter)\n",
    "            # Calculate loss\n",
    "            loss += (1 - mu) * pull_loss(X_Matrix, L_Matrix, i, j) + mu * push_loss(X_Matrix, L_Matrix, i, j, imposters)\n",
    "            \n",
    "    gradient = (1 - mu) * outer_sum + mu * Inner_sum\n",
    "    return gradient, loss\n",
    "\n",
    "#Loss for pull\n",
    "def pull_loss(X_Matrix, L_Matrix, i, j):\n",
    "    return chi_square_distance(L @ X_Matrix[i], L @ X_Matrix[j])\n",
    "\n",
    "#Loss for push\n",
    "def push_loss(X_Matrix, L_Matrix, i, j, imposters):\n",
    "    loss = 0\n",
    "    for l_imposter in imposters:\n",
    "        loss += max(0, l + chi_square_distance(L @ X_Matrix[i], L @ X_Matrix[j]) - chi_square_distance(L @ X_Matrix[i], L @ X_Matrix[l_imposter]))\n",
    "    return loss"
   ]
  },
  {
   "cell_type": "markdown",
   "metadata": {},
   "source": [
    "## Separate implementation of the loss function, gradient for pulling and gradient for pushing"
   ]
  },
  {
   "cell_type": "markdown",
   "metadata": {},
   "source": [
    "### Implementation of the loss function"
   ]
  },
  {
   "cell_type": "code",
   "execution_count": 20,
   "metadata": {},
   "outputs": [],
   "source": [
    "def loss_function(X, Y, L_Matrix):\n",
    "    loss = 0\n",
    "    D, D = np.shape(L_Matrix)\n",
    "    for alpha in range(D):\n",
    "        for beta in range(D):\n",
    "            loss = loss_element(X, Y, L_Matrix, alpha, beta)\n",
    "    return loss\n",
    "  \n",
    "def loss_element(X, Y, L_Matrix, alpha, beta):\n",
    "    loss = 0\n",
    "    global mu\n",
    "    N, _ = np.shape(X)\n",
    "    \n",
    "    for i in range(N):\n",
    "        imposters = find_imposters(i, X, Y)\n",
    "        Pull = 0\n",
    "        for j in TN_lookup_table[i, :]:\n",
    "            # Calculate loss\n",
    "            loss += (1 - mu) * pull_loss(X, L_Matrix, i, j) + mu * push_loss(X, L_Matrix, i, j, imposters)\n",
    "    return loss\n",
    "\n",
    "#Loss for pull\n",
    "def pull_loss(X_Matrix, L_Matrix, i, j):\n",
    "    return chi_square_distance(L @ X_Matrix[i], L @ X_Matrix[j])\n",
    "\n",
    "#Loss for push\n",
    "def push_loss(X_Matrix, L_Matrix, i, j, imposters):\n",
    "    loss = 0\n",
    "    for l_imposter in imposters:\n",
    "        loss += max(0, l + chi_square_distance(L @ X_Matrix[i], L @ X_Matrix[j]) - chi_square_distance(L @ X_Matrix[i], L @ X_Matrix[l_imposter]))\n",
    "    return loss"
   ]
  },
  {
   "cell_type": "markdown",
   "metadata": {},
   "source": [
    "### Implementation of the gradient for pulling and pushing"
   ]
  },
  {
   "cell_type": "markdown",
   "metadata": {},
   "source": [
    "* $Pull(XMatrix, LMatrix)$ corresponds to (26)\n",
    "* $Push(XMatrix, LMatrix, Y)$ corresponds to (27)"
   ]
  },
  {
   "cell_type": "code",
   "execution_count": 21,
   "metadata": {},
   "outputs": [],
   "source": [
    "### PULL FUNCTIONS\n",
    "def Pull(X_Matrix, L_Matrix):\n",
    "    D, D = np.shape(L_Matrix)\n",
    "    gradient_matrix = np.zeros((D,D))\n",
    "    for alpha in range(D):\n",
    "        for beta in range(D):\n",
    "            gradient_matrix[alpha, beta] = Pull_matrix_element(X_Matrix, L_Matrix, alpha, beta)\n",
    "    return gradient_matrix\n",
    "\n",
    "def Pull_matrix_element(X_Matrix, L_Matrix, alpha, beta):\n",
    "    N, D = np.shape(X_Matrix)\n",
    "    gradient = 0\n",
    "    for i in range(N):\n",
    "        for j in TN_lookup_table[i, :]:\n",
    "            tau = tau_function(X_Matrix, L_Matrix, i, j, alpha)\n",
    "            gradient += 2 * tau * (X_Matrix[i, beta] - X_Matrix[j, beta]) - (tau**2) * (X_Matrix[i, beta] + X_Matrix[j, beta])\n",
    "    return gradient"
   ]
  },
  {
   "cell_type": "code",
   "execution_count": 22,
   "metadata": {},
   "outputs": [],
   "source": [
    "### PUSH FUNCTIONS\n",
    "def Push(X_Matrix, L_Matrix, Y):\n",
    "    D, D = np.shape(L_Matrix)\n",
    "    gradient_matrix = np.zeros((D,D))\n",
    "    for alpha in range(D):\n",
    "        for beta in range(D):\n",
    "            gradient_matrix[alpha, beta] = Push_matrix_element(X_Matrix, L_Matrix, Y, alpha, beta)\n",
    "    return gradient_matrix\n",
    "\n",
    "def Push_matrix_element(X_Matrix, L_Matrix, Y, alpha, beta):\n",
    "    N, D = np.shape(X_Matrix)\n",
    "    gradient = 0\n",
    "    for i in range(N):\n",
    "        xi = X_Matrix[i,:]\n",
    "        imposters = find_imposters(i, X_Matrix, Y)\n",
    "        for j in TN_lookup_table[i, :]:\n",
    "            for l_imposter in imposters:\n",
    "                if check(L, X_Matrix[i],  X_Matrix[j],  X_Matrix[l_imposter]):\n",
    "                    tauij = tau_function(X_Matrix, L_Matrix, i, j, alpha)\n",
    "                    tauik = tau_function(X_Matrix, L_Matrix, i, l_imposter, alpha)\n",
    "                    Lij = 2 * tauij * (X_Matrix[i, beta] - X_Matrix[j, beta])          - (tauij**2) * (X_Matrix[i, beta] + X_Matrix[j, beta])\n",
    "                    Lik = 2 * tauik * (X_Matrix[i, beta] - X_Matrix[l_imposter, beta]) - (tauik**2) * (X_Matrix[i, beta] + X_Matrix[l_imposter, beta])\n",
    "                    gradient += Lij - Lik\n",
    "                else:\n",
    "                    print(i, j, l_imposter)\n",
    "    return gradient"
   ]
  },
  {
   "cell_type": "markdown",
   "metadata": {},
   "source": [
    "The update for the gradient is done based on the predefined learning rate.\n",
    "The gradient should not be negative and its values should sum up to 1. Thus, we have made use of the softmax function for updating the gradient."
   ]
  },
  {
   "cell_type": "code",
   "execution_count": 7,
   "metadata": {},
   "outputs": [],
   "source": [
    "def update_step(G):\n",
    "    \"\"\"\n",
    "    Update L\n",
    "    \n",
    "    :param G: Computed gradient for a given iteration\n",
    "    \"\"\"\n",
    "    global L\n",
    "    new_L = L - alpha * G\n",
    "    L = softmax(new_L)"
   ]
  },
  {
   "cell_type": "markdown",
   "metadata": {},
   "source": [
    "## Dataset - IRIS"
   ]
  },
  {
   "cell_type": "markdown",
   "metadata": {},
   "source": [
    "Shape of IRIS dataset: (150,4)"
   ]
  },
  {
   "cell_type": "code",
   "execution_count": 91,
   "metadata": {},
   "outputs": [],
   "source": [
    "iris = datasets.load_iris()\n",
    "X_train, X_test, y_train, y_test = train_test_split(iris.data, iris.target, test_size=0.3, random_state=0)\n",
    "\n",
    "# Normalize data\n",
    "X_train = X_train / np.sum(X_train, axis = 1)[:,None]\n",
    "X_test = X_test / np.sum(X_test, axis = 1)[:,None]"
   ]
  },
  {
   "cell_type": "code",
   "execution_count": 99,
   "metadata": {},
   "outputs": [],
   "source": [
    "l = 0.05\n",
    "mu = 0.5\n",
    "K = 3\n",
    "_, D = np.shape(X_train)\n",
    "L = np.eye(D, dtype=float)\n",
    "alpha = 0.001"
   ]
  },
  {
   "cell_type": "code",
   "execution_count": 100,
   "metadata": {},
   "outputs": [],
   "source": [
    "TN_lookup_table, TN_distance_table = find_target_neighbors(X_train, y_train)"
   ]
  },
  {
   "cell_type": "markdown",
   "metadata": {},
   "source": [
    "## Dataset - Fruits"
   ]
  },
  {
   "cell_type": "code",
   "execution_count": 10,
   "metadata": {},
   "outputs": [
    {
     "name": "stdout",
     "output_type": "stream",
     "text": [
      "Shape of trained embeddings is: (2048, 100)\n",
      "Shape of trained labels is: (100,) \n",
      "Shape of test embeddings is: (2048, 100)\n",
      "Shape of test labels is: (100,) \n",
      "Silhouette Score of data is: 0.6774616837501526\n"
     ]
    }
   ],
   "source": [
    "X_train, y_train = Model.get_data('data.db')\n",
    "X_test, y_test = Model.get_data('data_test.db')\n",
    "s_score = sk_metrics.silhouette_score(X_train.T, y_train, metric='euclidean')\n",
    "\n",
    "print(\"Shape of trained embeddings is: {}\".format(np.shape(X_train)))\n",
    "print(\"Shape of trained labels is: {} \".format(np.shape(y_train)))\n",
    "print(\"Shape of test embeddings is: {}\".format(np.shape(X_test)))\n",
    "print(\"Shape of test labels is: {} \".format(np.shape(y_test)))\n",
    "print(\"Silhouette Score of data is: {}\".format(s_score))"
   ]
  },
  {
   "cell_type": "code",
   "execution_count": 11,
   "metadata": {},
   "outputs": [
    {
     "name": "stdout",
     "output_type": "stream",
     "text": [
      "Explained variance of low dimensional data is: 0.5692214444279671\n",
      "Silhouette Score of data is: 0.6079617142677307\n"
     ]
    }
   ],
   "source": [
    "#By increasing the number of components we deal with the check-function issue (To be fixed)\n",
    "pca = sk_decomp.PCA(n_components=4)\n",
    "pca.fit(X_train.T)\n",
    "X_train = pca.transform(X_train.T)\n",
    "X_train = abs(X_train / np.linalg.norm(X_train))\n",
    "\n",
    "X_test = pca.transform(X_test.T)\n",
    "X_test = abs(X_test / np.linalg.norm(X_test))\n",
    "\n",
    "s_score = sk_metrics.silhouette_score(X_train, y_train, metric='euclidean')\n",
    "print(\"Explained variance of low dimensional data is: {}\".format(sum(pca.explained_variance_ratio_)))\n",
    "print(\"Silhouette Score of data is: {}\".format(s_score))"
   ]
  },
  {
   "cell_type": "code",
   "execution_count": 14,
   "metadata": {},
   "outputs": [],
   "source": [
    "#It's very important to set the margin very low as the data points are quite densly packed\n",
    "l = 1.05e-05\n",
    "mu = 0.5\n",
    "K = 3\n",
    "alpha = 0.001\n",
    "_, D = np.shape(X_train)\n",
    "L = np.eye(D, dtype=float)"
   ]
  },
  {
   "cell_type": "code",
   "execution_count": 11,
   "metadata": {},
   "outputs": [],
   "source": [
    "TN_lookup_table, TN_distance_table = find_target_neighbors(X_train, y_train)"
   ]
  },
  {
   "cell_type": "markdown",
   "metadata": {},
   "source": [
    "### Histograms using the initial linear transformation matrix L"
   ]
  },
  {
   "cell_type": "code",
   "execution_count": 12,
   "metadata": {},
   "outputs": [
    {
     "data": {
      "image/png": "[encoded data removed]",
      "text/plain": [
       "<Figure size 432x288 with 3 Axes>"
      ]
     },
     "metadata": {},
     "output_type": "display_data"
    }
   ],
   "source": [
    "new_X = (L @ X_train.T).T\n",
    "\n",
    "plot_items = new_X[10:25:5,:]\n",
    "plot_labels = y_train[10:25:5]\n",
    "Plots.plot_some_data(plot_items, plot_labels)"
   ]
  },
  {
   "cell_type": "markdown",
   "metadata": {},
   "source": [
    "## Run"
   ]
  },
  {
   "cell_type": "code",
   "execution_count": 13,
   "metadata": {},
   "outputs": [
    {
     "name": "stdout",
     "output_type": "stream",
     "text": [
      "0\n",
      "[[0.47525959 0.1749424  0.17489669 0.17490132]\n",
      " [0.1749331  0.47528419 0.1748895  0.17489321]\n",
      " [0.17500655 0.17493214 0.47519775 0.17486356]\n",
      " [0.17497281 0.17491597 0.17489235 0.47521887]]\n",
      "0.19565994097762743\n",
      "\n",
      "\n",
      "1\n",
      "[[0.31037396 0.2298785  0.22987294 0.22987461]\n",
      " [0.22986676 0.31039365 0.22986883 0.22987076]\n",
      " [0.22988219 0.22987195 0.31038076 0.2298651 ]\n",
      " [0.22987327 0.22986771 0.22987052 0.31038849]]\n",
      "0.06703163310718305\n",
      "\n",
      "\n",
      "2\n",
      "1 3 89\n",
      "1 2 89\n",
      "3 1 89\n",
      "3 4 89\n",
      "1 3 89\n",
      "1 2 89\n",
      "3 1 89\n",
      "3 4 89\n",
      "1 3 89\n",
      "1 2 89\n",
      "3 1 89\n",
      "3 4 89\n",
      "1 3 89\n",
      "1 2 89\n",
      "3 1 89\n",
      "3 4 89\n",
      "1 3 89\n",
      "1 2 89\n",
      "3 1 89\n",
      "3 4 89\n",
      "1 3 89\n",
      "1 2 89\n",
      "3 1 89\n",
      "3 4 89\n",
      "1 3 89\n",
      "1 2 89\n",
      "3 1 89\n",
      "3 4 89\n",
      "1 3 89\n",
      "1 2 89\n",
      "3 1 89\n",
      "3 4 89\n",
      "1 3 89\n",
      "1 2 89\n",
      "3 1 89\n",
      "3 4 89\n",
      "1 3 89\n",
      "1 2 89\n",
      "3 1 89\n",
      "3 4 89\n",
      "1 3 89\n",
      "1 2 89\n",
      "3 1 89\n",
      "3 4 89\n",
      "1 3 89\n",
      "1 2 89\n",
      "3 1 89\n",
      "3 4 89\n",
      "1 3 89\n",
      "1 2 89\n",
      "3 1 89\n",
      "3 4 89\n",
      "1 3 89\n",
      "1 2 89\n",
      "3 1 89\n",
      "3 4 89\n",
      "1 3 89\n",
      "1 2 89\n",
      "3 1 89\n",
      "3 4 89\n",
      "1 3 89\n",
      "1 2 89\n",
      "3 1 89\n",
      "3 4 89\n",
      "[[0.26538121 0.24486826 0.24487475 0.24487578]\n",
      " [0.24485581 0.26539639 0.24487309 0.24487472]\n",
      " [0.24485917 0.24486548 0.26540218 0.24487317]\n",
      " [0.24485648 0.24486455 0.24487347 0.2654055 ]]\n",
      "0.060721023888374984\n",
      "\n",
      "\n",
      "3\n",
      "1 3 51\n",
      "1 3 83\n",
      "1 2 51\n",
      "1 2 83\n",
      "53 54 87\n",
      "53 54 89\n",
      "53 54 85\n",
      "54 53 87\n",
      "54 53 85\n",
      "54 53 86\n",
      "1 3 51\n",
      "1 3 83\n",
      "1 2 51\n",
      "1 2 83\n",
      "53 54 87\n",
      "53 54 89\n",
      "53 54 85\n",
      "54 53 87\n",
      "54 53 85\n",
      "54 53 86\n",
      "1 3 51\n",
      "1 3 83\n",
      "1 2 51\n",
      "1 2 83\n",
      "53 54 87\n",
      "53 54 89\n",
      "53 54 85\n",
      "54 53 87\n",
      "54 53 85\n",
      "54 53 86\n",
      "1 3 51\n",
      "1 3 83\n",
      "1 2 51\n",
      "1 2 83\n",
      "53 54 87\n",
      "53 54 89\n",
      "53 54 85\n",
      "54 53 87\n",
      "54 53 85\n",
      "54 53 86\n",
      "1 3 51\n",
      "1 3 83\n",
      "1 2 51\n",
      "1 2 83\n",
      "53 54 87\n",
      "53 54 89\n",
      "53 54 85\n",
      "54 53 87\n",
      "54 53 85\n",
      "54 53 86\n",
      "1 3 51\n",
      "1 3 83\n",
      "1 2 51\n",
      "1 2 83\n",
      "53 54 87\n",
      "53 54 89\n",
      "53 54 85\n",
      "54 53 87\n",
      "54 53 85\n",
      "54 53 86\n",
      "1 3 51\n",
      "1 3 83\n",
      "1 2 51\n",
      "1 2 83\n",
      "53 54 87\n",
      "53 54 89\n",
      "53 54 85\n",
      "54 53 87\n",
      "54 53 85\n",
      "54 53 86\n",
      "1 3 51\n",
      "1 3 83\n",
      "1 2 51\n",
      "1 2 83\n",
      "53 54 87\n",
      "53 54 89\n",
      "53 54 85\n",
      "54 53 87\n",
      "54 53 85\n",
      "54 53 86\n",
      "1 3 51\n",
      "1 3 83\n",
      "1 2 51\n",
      "1 2 83\n",
      "53 54 87\n",
      "53 54 89\n",
      "53 54 85\n",
      "54 53 87\n",
      "54 53 85\n",
      "54 53 86\n",
      "1 3 51\n",
      "1 3 83\n",
      "1 2 51\n",
      "1 2 83\n",
      "53 54 87\n",
      "53 54 89\n",
      "53 54 85\n",
      "54 53 87\n",
      "54 53 85\n",
      "54 53 86\n",
      "1 3 51\n",
      "1 3 83\n",
      "1 2 51\n",
      "1 2 83\n",
      "53 54 87\n",
      "53 54 89\n",
      "53 54 85\n",
      "54 53 87\n",
      "54 53 85\n",
      "54 53 86\n",
      "1 3 51\n",
      "1 3 83\n",
      "1 2 51\n",
      "1 2 83\n",
      "53 54 87\n",
      "53 54 89\n",
      "53 54 85\n",
      "54 53 87\n",
      "54 53 85\n",
      "54 53 86\n",
      "1 3 51\n",
      "1 3 83\n",
      "1 2 51\n",
      "1 2 83\n",
      "53 54 87\n",
      "53 54 89\n",
      "53 54 85\n",
      "54 53 87\n",
      "54 53 85\n",
      "54 53 86\n",
      "1 3 51\n",
      "1 3 83\n",
      "1 2 51\n",
      "1 2 83\n",
      "53 54 87\n",
      "53 54 89\n",
      "53 54 85\n",
      "54 53 87\n",
      "54 53 85\n",
      "54 53 86\n",
      "1 3 51\n",
      "1 3 83\n",
      "1 2 51\n",
      "1 2 83\n",
      "53 54 87\n",
      "53 54 89\n",
      "53 54 85\n",
      "54 53 87\n",
      "54 53 85\n",
      "54 53 86\n",
      "1 3 51\n",
      "1 3 83\n",
      "1 2 51\n",
      "1 2 83\n",
      "53 54 87\n",
      "53 54 89\n",
      "53 54 85\n",
      "54 53 87\n",
      "54 53 85\n",
      "54 53 86\n",
      "[[0.25385834 0.24870169 0.24871976 0.2487202 ]\n",
      " [0.24868727 0.25387953 0.24871669 0.2487165 ]\n",
      " [0.24869684 0.24870695 0.25387685 0.24871936]\n",
      " [0.24869475 0.24870458 0.24871794 0.25388273]]\n",
      "0.06403047664686437\n",
      "\n",
      "\n",
      "4\n",
      "1 2 50\n",
      "1 2 50\n",
      "1 2 50\n",
      "1 2 50\n",
      "1 2 50\n",
      "1 2 50\n",
      "1 2 50\n",
      "1 2 50\n",
      "1 2 50\n",
      "1 2 50\n",
      "1 2 50\n",
      "1 2 50\n",
      "1 2 50\n",
      "1 2 50\n",
      "1 2 50\n",
      "1 2 50\n",
      "[[0.25095575 0.24967022 0.24968631 0.24968772]\n",
      " [0.24965366 0.25097673 0.24968434 0.24968527]\n",
      " [0.24966074 0.249675   0.25097678 0.24968748]\n",
      " [0.24965966 0.24967354 0.24968529 0.25098152]]\n",
      "0.06553051804513117\n",
      "\n",
      "\n"
     ]
    },
    {
     "data": {
      "image/png": "[encoded data removed]",
      "text/plain": [
       "<Figure size 432x288 with 1 Axes>"
      ]
     },
     "metadata": {},
     "output_type": "display_data"
    }
   ],
   "source": [
    "ITERATIONS = 5\n",
    "lossList = []\n",
    "\n",
    "for i in range(ITERATIONS):\n",
    "    print(i)\n",
    "#     Gt = (1 - mu) * Pull(X_train, L) + mu * Push(X_train, L, y_train)\n",
    "#     loss = loss_function(X_train, y_train, L)\n",
    "    Gt, loss = gradient_and_loss_function(X_train, y_train, L)\n",
    "    lossList.append(loss)\n",
    "    update_step(Gt)\n",
    "    print(L)\n",
    "    print(loss)\n",
    "    print(\"\\n\")\n",
    "\n",
    "plt.plot(lossList, '-')\n",
    "plt.show()"
   ]
  },
  {
   "cell_type": "markdown",
   "metadata": {},
   "source": [
    "As expected, the loss follows an exponentially decreasing function. Having as component the loss from pushing the impostors and pulling the target neighbors, this means that the target neighbors are pulled closer and the impostors pushed away."
   ]
  },
  {
   "cell_type": "markdown",
   "metadata": {},
   "source": [
    "### Plot of the linear trasformation matrix L"
   ]
  },
  {
   "cell_type": "code",
   "execution_count": 14,
   "metadata": {},
   "outputs": [
    {
     "data": {
      "image/png": "[encoded data removed]",
      "text/plain": [
       "<Figure size 432x288 with 2 Axes>"
      ]
     },
     "metadata": {},
     "output_type": "display_data"
    }
   ],
   "source": [
    "Plots.plot_kernel(L)"
   ]
  },
  {
   "cell_type": "markdown",
   "metadata": {},
   "source": [
    "### Histograms using the updated linear transformation matrix L"
   ]
  },
  {
   "cell_type": "code",
   "execution_count": 15,
   "metadata": {},
   "outputs": [
    {
     "data": {
      "image/png": "[encoded data removed]",
      "text/plain": [
       "<Figure size 432x288 with 3 Axes>"
      ]
     },
     "metadata": {},
     "output_type": "display_data"
    },
    {
     "data": {
      "text/plain": [
       "array([[0.04477932, 0.04482413, 0.0448101 , 0.04479962],\n",
       "       [0.04307225, 0.04311864, 0.04310331, 0.04309907],\n",
       "       [0.03805108, 0.03816688, 0.03808192, 0.03809697]])"
      ]
     },
     "execution_count": 15,
     "metadata": {},
     "output_type": "execute_result"
    }
   ],
   "source": [
    "#new_X = X_train\n",
    "new_X = (L @ X_train.T).T\n",
    "plot_items = new_X[10:20:4,:]\n",
    "plot_labels = y_train[10:20:4]\n",
    "Plots.plot_some_data(plot_items, plot_labels)\n",
    "new_X[10:20:4,:]"
   ]
  },
  {
   "cell_type": "markdown",
   "metadata": {},
   "source": [
    "## Testing"
   ]
  },
  {
   "cell_type": "markdown",
   "metadata": {},
   "source": [
    "Further, in order to check the increase in accuracy, we have implemented a knnClassifier"
   ]
  },
  {
   "cell_type": "code",
   "execution_count": 18,
   "metadata": {},
   "outputs": [
    {
     "name": "stdout",
     "output_type": "stream",
     "text": [
      "Confusion matrix, without normalization\n",
      "[[1 0 0 0 0 0 0 0 0 0 0 1 0 1 0 0 2 0 0 0]\n",
      " [0 0 0 0 0 0 0 0 0 0 0 0 0 0 0 0 5 0 0 0]\n",
      " [0 1 0 0 0 0 2 1 1 0 0 0 0 0 0 0 0 0 0 0]\n",
      " [0 0 0 1 2 0 0 0 0 0 1 0 0 0 0 0 1 0 0 0]\n",
      " [0 0 0 2 1 0 0 0 0 0 0 0 0 0 0 1 1 0 0 0]\n",
      " [0 0 0 0 0 2 3 0 0 0 0 0 0 0 0 0 0 0 0 0]\n",
      " [0 0 0 0 0 0 3 0 2 0 0 0 0 0 0 0 0 0 0 0]\n",
      " [0 0 0 0 0 0 0 5 0 0 0 0 0 0 0 0 0 0 0 0]\n",
      " [0 0 0 0 0 0 4 0 1 0 0 0 0 0 0 0 0 0 0 0]\n",
      " [1 0 0 0 0 0 0 0 0 0 0 0 0 1 1 1 1 0 0 0]\n",
      " [0 0 0 0 0 0 0 0 0 0 4 0 0 0 0 1 0 0 0 0]\n",
      " [1 0 0 0 1 1 0 0 0 0 0 1 1 0 0 0 0 0 0 0]\n",
      " [0 0 0 0 0 2 1 0 0 0 0 0 2 0 0 0 0 0 0 0]\n",
      " [2 0 1 0 0 0 0 0 0 0 0 1 1 0 0 0 0 0 0 0]\n",
      " [0 0 0 0 0 0 0 0 0 0 0 0 0 1 4 0 0 0 0 0]\n",
      " [0 0 0 1 0 0 0 0 0 0 1 0 0 0 0 2 1 0 0 0]\n",
      " [0 0 0 2 0 0 0 0 0 0 0 0 0 1 0 0 2 0 0 0]\n",
      " [0 0 0 2 0 0 0 0 0 0 0 0 0 1 0 1 1 0 0 0]\n",
      " [1 0 1 0 0 0 0 0 0 0 0 0 0 2 0 0 0 0 1 0]\n",
      " [0 1 0 0 0 0 0 4 0 0 0 0 0 0 0 0 0 0 0 0]]\n"
     ]
    },
    {
     "data": {
      "image/png": "[encoded data removed]",
      "text/plain": [
       "<Figure size 432x288 with 2 Axes>"
      ]
     },
     "metadata": {},
     "output_type": "display_data"
    }
   ],
   "source": [
    "prediction = []\n",
    "\n",
    "for i in range(len(X_test)):\n",
    "    prediction.append(random.choice(calc_mode(knnClassifier.knn(X_test[i], X_train, y_train, L, 10))))\n",
    "confusion_matrix = plots.plot_confusion_matrix(y_test, prediction, normalize=False)"
   ]
  },
  {
   "cell_type": "code",
   "execution_count": null,
   "metadata": {},
   "outputs": [],
   "source": []
  }
 ],
 "metadata": {
  "kernelspec": {
   "display_name": "Python 3",
   "language": "python",
   "name": "python3"
  },
  "language_info": {
   "codemirror_mode": {
    "name": "ipython",
    "version": 3
   },
   "file_extension": ".py",
   "mimetype": "text/x-python",
   "name": "python",
   "nbconvert_exporter": "python",
   "pygments_lexer": "ipython3",
   "version": "3.6.8"
  },
  "toc": {
   "base_numbering": 1.0,
   "nav_menu": {},
   "number_sections": true,
   "sideBar": true,
   "skip_h1_title": false,
   "title_cell": "Table of Contents",
   "title_sidebar": "Contents",
   "toc_cell": false,
   "toc_position": {},
   "toc_section_display": true,
   "toc_window_display": false
  }
 },
 "nbformat": 4,
 "nbformat_minor": 2
}
