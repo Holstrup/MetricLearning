{
 "cells": [
  {
   "cell_type": "markdown",
   "metadata": {},
   "source": [
    "## Imports"
   ]
  },
  {
   "cell_type": "code",
   "execution_count": 51,
   "metadata": {},
   "outputs": [
    {
     "data": {
      "text/plain": [
       "{'divide': 'ignore', 'over': 'warn', 'under': 'ignore', 'invalid': 'ignore'}"
      ]
     },
     "execution_count": 51,
     "metadata": {},
     "output_type": "execute_result"
    }
   ],
   "source": [
    "import sklearn.metrics as sk_metrics\n",
    "import sklearn.decomposition as sk_decomp\n",
    "import sklearn.datasets as datasets\n",
    "import numpy as np\n",
    "import Model\n",
    "import Plots\n",
    "import matplotlib.pyplot as plt\n",
    "from sklearn.utils.extmath import softmax\n",
    "import plot_confusion_matrix as plots\n",
    "\n",
    "# We ignore divisions by 0. We will do that in the chi square distance, but we don't care. \n",
    "np.seterr(divide='ignore', invalid='ignore')"
   ]
  },
  {
   "cell_type": "markdown",
   "metadata": {},
   "source": [
    "## Initial Settings / Hyperparameters"
   ]
  },
  {
   "cell_type": "code",
   "execution_count": 52,
   "metadata": {},
   "outputs": [],
   "source": [
    "l = 0.1\n",
    "mu = 0.5\n",
    "K = 3\n",
    "_, D = np.shape(X)\n",
    "L = np.eye(D, dtype=float)\n",
    "alpha = 0.001"
   ]
  },
  {
   "cell_type": "markdown",
   "metadata": {},
   "source": [
    "## Functions"
   ]
  },
  {
   "cell_type": "markdown",
   "metadata": {},
   "source": [
    "This block defines two functions that we will use to compute the distances. The first function calculates the distance given two points xi and xj. The second function calculates the distance between some point xi and all the other points X, through the L space. This is very important to note. "
   ]
  },
  {
   "cell_type": "code",
   "execution_count": 53,
   "metadata": {},
   "outputs": [],
   "source": [
    "def chi_square_distance(xi, xj):\n",
    "    \"\"\"\n",
    "    Chi square distance\n",
    "\n",
    "    :param xi: Embedding       (1, D)\n",
    "    :param xj: Target Neighbor (1, D)\n",
    "    :return: Distance\n",
    "    \"\"\"\n",
    "    return 1 / 2 * np.nansum(np.square(xi - xj) / (xi + xj))\n",
    "\n",
    "def distance(xi, X):\n",
    "    \"\"\"\n",
    "    Chi square distance from one point xi, to all other points\n",
    "    \n",
    "    :param xi: Embedding       (1, D)\n",
    "    :param X: Data             (N, D)\n",
    "    :return: Distances         (1, N)\n",
    "    \n",
    "    \"\"\"\n",
    "    N, K = np.shape(X)\n",
    "    Distances = np.zeros(N)\n",
    "    for i in range(N):\n",
    "        Distances[i] = chi_square_distance(L @ xi, L @ X[i, :])\n",
    "    return Distances"
   ]
  },
  {
   "cell_type": "markdown",
   "metadata": {},
   "source": [
    "These next functions are calculating the target neighbors and the imposters. Read through the comments, and it should make sense how it is done. One little note: In the target neighbours function, we find the distance through the L space. This is meant as the initial L space. We only find these target neighbours once, and should therefore not update what target neighbors a specific point xi has. "
   ]
  },
  {
   "cell_type": "code",
   "execution_count": 54,
   "metadata": {},
   "outputs": [],
   "source": [
    "def find_target_neighbors(X, Y):\n",
    "    \"\"\"\n",
    "    Find target neighbours for all points\n",
    "    \n",
    "    :param X: Data Matrix      (N, D)\n",
    "    :param Y: Labels           (1, N)\n",
    "    :return: TN_lookup_table   (N, K)\n",
    "    :return: TN_distance_table (N, K)\n",
    "    \"\"\"\n",
    "    \n",
    "    global TN_lookup_table\n",
    "    global TN_distance_table\n",
    "    \n",
    "    N, _ = np.shape(X)\n",
    "    TN_lookup_table = np.zeros((N, K))\n",
    "    TN_distance_table = np.zeros((N, K))\n",
    "\n",
    "    for i in range(N):\n",
    "        xi = X[i,:]\n",
    "        yi = Y[i]\n",
    "        \n",
    "        # Find distance from xi to all other points\n",
    "        TN_Distances = distance(xi, X)\n",
    "        TN_Indicies = np.argsort(TN_Distances)\n",
    "        j = k = 0\n",
    "        \n",
    "        #Loop to add indicies of target neighbours to lookup table\n",
    "        while j < K:\n",
    "            # if yi and target neighbour have the same label AND it is not the same point\n",
    "            if Y[TN_Indicies[k]] == yi and TN_Indicies[k] != i:\n",
    "                # Add to lookup table and distance table\n",
    "                TN_lookup_table[i, j] = TN_Indicies[k]\n",
    "                TN_distance_table[i, j] = TN_Distances[TN_Indicies[k]]\n",
    "                j += 1\n",
    "            k += 1\n",
    "    TN_lookup_table = TN_lookup_table.astype(int)\n",
    "    return TN_lookup_table, TN_distance_table\n",
    "\n",
    "\n",
    "def find_imposters(i, X, Y):\n",
    "    \"\"\"\n",
    "    Find imposters for a given point in index i\n",
    "    \n",
    "    :param i: Index in data matrix \n",
    "    :param X: Data Matrix    (N, D)\n",
    "    :param Y: Labels         (1, N)\n",
    "    :return: imposters       (?, D)\n",
    "    :return: imposters_dist  (1, D)\n",
    "    \"\"\"\n",
    "    \n",
    "    #Max margin = max distance of a target neighbour for that point + l\n",
    "    max_dist = 0\n",
    "    for TN in TN_lookup_table[i,:]:\n",
    "        \n",
    "        # QUESTION: Should we calculate this distance in the new L space?\n",
    "        dist = chi_square_distance(L @ X[i], L @ X[TN])\n",
    "        if dist > max_dist:\n",
    "            max_dist = dist\n",
    "    max_margin = max_dist + l\n",
    "    \n",
    "    #Find distances \n",
    "    distances = distance(X[i,:], X)\n",
    "    imposters = np.array([0])\n",
    "    for j, index in enumerate(np.argsort(distances)):\n",
    "        if distances[j] > max_margin:\n",
    "            break\n",
    "        elif Y[i] != Y[index]:\n",
    "            imposters = np.append(imposters, index)\n",
    "    imposters.astype(int)\n",
    "    return imposters[1:]"
   ]
  },
  {
   "cell_type": "markdown",
   "metadata": {},
   "source": [
    "### LMNN Functions\n",
    "\n",
    "These next functions, are made from looking at this [Paper](https://projet.liris.cnrs.fr/imagine/pub/proceedings/ICPR-2012/media/files/1795.pdf). Specifically, if you scroll to the last page you can see the equations that are implemented below. Here are some notes, that helps when you read it: \n",
    "* $L_{\\alpha, \\beta}$ refers to the alpha'th row and the beta'th column in the L matrix. Same goes for all the other places there is subscript. \n",
    "* $\\tau_{i, j, \\alpha}$ in this paper is the same as tij in the Yang paper\n",
    "* In this paper they refer to imposters with the letter l (as opposed to k in the other papers)"
   ]
  },
  {
   "cell_type": "code",
   "execution_count": 55,
   "metadata": {},
   "outputs": [],
   "source": [
    "# Tau Function\n",
    "def tau_function(X_Matrix, L_Matrix, i, j, alpha):\n",
    "    N, D = np.shape(X_Matrix)\n",
    "    numerator = 0\n",
    "    denominator = 0\n",
    "    for k in range(D):\n",
    "        numerator +=   L_Matrix[alpha, k] * (X_Matrix[i, k] - X_Matrix[j, k])\n",
    "        denominator += L_Matrix[alpha, k] * (X_Matrix[i, k] + X_Matrix[j, k])\n",
    "    return numerator / denominator"
   ]
  },
  {
   "cell_type": "code",
   "execution_count": 56,
   "metadata": {},
   "outputs": [],
   "source": [
    "### PULL FUNCTIONS\n",
    "def Pull(X_Matrix, L_Matrix):\n",
    "    D, D = np.shape(L_Matrix)\n",
    "    gradient_matrix = np.zeros((D,D))\n",
    "    for alpha in range(D):\n",
    "        for beta in range(D):\n",
    "            gradient_matrix[alpha, beta] = Pull_matrix_element(X_Matrix, L_Matrix, alpha, beta)\n",
    "    return gradient_matrix\n",
    "\n",
    "def Pull_matrix_element(X_Matrix, L_Matrix, alpha, beta):\n",
    "    N, D = np.shape(X_Matrix)\n",
    "    elem = 0\n",
    "    for i in range(N):\n",
    "        for j in TN_lookup_table[i, :]:\n",
    "            tau = tau_function(X_Matrix, L_Matrix, i, j, alpha)\n",
    "            elem += 2 * tau * (X_Matrix[i, beta] - X_Matrix[j, beta]) - (tau**2) * (X_Matrix[i, beta] + X_Matrix[j, beta])\n",
    "    return elem"
   ]
  },
  {
   "cell_type": "code",
   "execution_count": 57,
   "metadata": {},
   "outputs": [],
   "source": [
    "### PUSH FUNCTIONS\n",
    "def Push(X_Matrix, L_Matrix, Y):\n",
    "    D, D = np.shape(L_Matrix)\n",
    "    gradient_matrix = np.zeros((D,D))\n",
    "    for alpha in range(D):\n",
    "        for beta in range(D):\n",
    "            gradient_matrix[alpha, beta] = Push_matrix_element(X_Matrix, L_Matrix, Y, alpha, beta)\n",
    "    return gradient_matrix\n",
    "\n",
    "\n",
    "def check(L_matrix, xi, xj, xk):\n",
    "    return chi_square_distance(L @ xi, L @ xj) + l >= chi_square_distance(L @ xi, L @ xk)\n",
    "\n",
    "\n",
    "def Push_matrix_element(X_Matrix, L_Matrix, Y, alpha, beta):\n",
    "    N, D = np.shape(X_Matrix)\n",
    "    elem = 0\n",
    "    for i in range(N):\n",
    "        xi = X_Matrix[i,:]\n",
    "        imposters = find_imposters(i, X, Y)\n",
    "        for j in TN_lookup_table[i, :]:\n",
    "            for l_imposter in imposters:\n",
    "                if check(L, X_Matrix[i],  X_Matrix[j],  X_Matrix[l_imposter]):\n",
    "                    tauij = tau_function(X_Matrix, L_Matrix, i, j, alpha)\n",
    "                    tauik = tau_function(X_Matrix, L_Matrix, i, l_imposter, alpha)\n",
    "                    Lij = 2 * tauij * (X_Matrix[i, beta] - X_Matrix[j, beta])          - (tauij**2) * (X_Matrix[i, beta] + X_Matrix[j, beta])\n",
    "                    Lik = 2 * tauik * (X_Matrix[i, beta] - X_Matrix[l_imposter, beta]) - (tauik**2) * (X_Matrix[i, beta] + X_Matrix[l_imposter, beta])\n",
    "                    elem += Lij - Lik\n",
    "                else:\n",
    "                    print(i, j, l_imposter)\n",
    "    return elem"
   ]
  },
  {
   "cell_type": "code",
   "execution_count": 58,
   "metadata": {},
   "outputs": [],
   "source": [
    "def update_step(G):\n",
    "    \"\"\"\n",
    "    Update L\n",
    "    \n",
    "    :param G: Computed gradient for a given iteration\n",
    "    \"\"\"\n",
    "    global L\n",
    "    new_L = L - alpha * G\n",
    "    L = softmax(new_L)"
   ]
  },
  {
   "cell_type": "markdown",
   "metadata": {},
   "source": [
    "## Dataset - IRIS"
   ]
  },
  {
   "cell_type": "code",
   "execution_count": 59,
   "metadata": {},
   "outputs": [],
   "source": [
    "iris = datasets.load_iris()\n",
    "X = iris.data[:,:]  # we only take the first two features.\n",
    "y = iris.target\n",
    "X = X / np.sum(X, axis = 1)[:,None]"
   ]
  },
  {
   "cell_type": "code",
   "execution_count": 60,
   "metadata": {},
   "outputs": [],
   "source": [
    "TN_lookup_table, TN_distance_table = find_target_neighbors(X, y)"
   ]
  },
  {
   "cell_type": "markdown",
   "metadata": {},
   "source": [
    "## Run"
   ]
  },
  {
   "cell_type": "code",
   "execution_count": 61,
   "metadata": {},
   "outputs": [
    {
     "name": "stdout",
     "output_type": "stream",
     "text": [
      "0\n",
      "44 5 118\n",
      "44 26 118\n",
      "44 5 118\n",
      "44 26 118\n",
      "44 5 118\n",
      "44 26 118\n",
      "44 5 118\n",
      "44 26 118\n",
      "44 5 118\n",
      "44 26 118\n",
      "44 5 118\n",
      "44 26 118\n",
      "44 5 118\n",
      "44 26 118\n",
      "44 5 118\n",
      "44 26 118\n",
      "44 5 118\n",
      "44 26 118\n",
      "44 5 118\n",
      "44 26 118\n",
      "44 5 118\n",
      "44 26 118\n",
      "44 5 118\n",
      "44 26 118\n",
      "44 5 118\n",
      "44 26 118\n",
      "44 5 118\n",
      "44 26 118\n",
      "44 5 118\n",
      "44 26 118\n",
      "44 5 118\n",
      "44 26 118\n",
      "[[ -40.22837598  -97.98795504  156.59496254   71.67658838]\n",
      " [ 117.91209583 -189.32643751  568.37407253  227.84249231]\n",
      " [ 799.38286107  783.26679287 -258.20519613 -162.55220807]\n",
      " [2072.33386453 1734.34266213  -85.40815737 -208.16299712]]\n",
      "[[0.49484424 0.19286734 0.14951844 0.16276999]\n",
      " [0.16053468 0.5933287  0.10231416 0.14382246]\n",
      " [0.08025637 0.08156026 0.6281721  0.21001127]\n",
      " [0.02656558 0.03724835 0.22983428 0.70635178]]\n",
      "\n",
      "\n",
      "1\n",
      "[[-139.66640022 -252.02228911  343.10608385  171.30686507]\n",
      " [-119.87671707 -537.11403871  934.6588373   424.86718501]\n",
      " [1474.19572103 1575.06060884 -824.4952602  -485.21095501]\n",
      " [2947.22051686 2798.00257549 -914.81595014 -673.359459  ]]\n",
      "[[0.35844351 0.2965305  0.15659656 0.18842943]\n",
      " [0.23591861 0.55198353 0.0775351  0.13456276]\n",
      " [0.03674769 0.03326529 0.63313404 0.29685298]\n",
      " [0.00745252 0.00874474 0.43435269 0.54945005]]\n",
      "\n",
      "\n",
      "2\n",
      "[[-140.9737859  -279.04637484  376.90362385  182.99375708]\n",
      " [-125.78607527 -538.43242746  944.54222623  432.24263794]\n",
      " [2358.27442847 2340.04691498 -924.23482322 -603.78075079]\n",
      " [3527.26331714 3281.94231795 -915.90656364 -707.45892425]]\n",
      "[[0.31484033 0.33975514 0.15329149 0.19211305]\n",
      " [0.25758279 0.53381666 0.07538659 0.13321397]\n",
      " [0.01325067 0.0134475  0.64094514 0.33235668]\n",
      " [0.00397893 0.00509177 0.51857376 0.47235555]]\n",
      "\n",
      "\n",
      "3\n",
      "[[-129.51312399 -274.85335382  376.01402928  180.15229155]\n",
      " [-115.76844716 -476.6039857   826.80746467  379.40121373]\n",
      " [2664.01797849 2556.34826784 -844.11017569 -594.24646149]\n",
      " [3144.56707156 2938.25943134 -829.51909078 -632.96029316]]\n",
      "[[0.29870642 0.35414848 0.15329823 0.19384687]\n",
      " [0.26639314 0.5037311  0.0865049  0.14337086]\n",
      " [0.00995676 0.01109083 0.62270607 0.35624634]\n",
      " [0.00620912 0.00764033 0.55263668 0.43351387]]\n",
      "\n",
      "\n",
      "4\n",
      "[[-130.58118911 -283.01438755  388.49966119  185.41681377]\n",
      " [-127.24025622 -453.95576158  758.31559285  349.90682417]\n",
      " [2783.85298147 2656.34407592 -847.24803823 -606.37213581]\n",
      " [3009.23926896 2835.29763084 -840.52527636 -625.06207086]]\n",
      "[[0.29393786 0.36185503 0.15124172 0.19296539]\n",
      " [0.27389181 0.48144242 0.09437622 0.15028956]\n",
      " [0.00879009 0.00999683 0.61245522 0.36875785]\n",
      " [0.00707211 0.00842777 0.57384032 0.4106598 ]]\n",
      "\n",
      "\n",
      "5\n",
      "[[-133.31427222 -292.21950847  404.19178     192.65302897]\n",
      " [-135.05216795 -436.9099424   711.34877592  329.88159139]\n",
      " [2852.98637085 2712.15722555 -851.95489172 -615.04702736]\n",
      " [2966.07209869 2801.80678803 -848.58826227 -624.56790444]]\n",
      "[[0.29294377 0.36752931 0.14838028 0.19114664]\n",
      " [0.27949251 0.46516113 0.10018905 0.1551573 ]\n",
      " [0.00816593 0.0094122  0.60702942 0.37539245]\n",
      " [0.00733051 0.00865092 0.58609001 0.39792856]]\n",
      "\n",
      "\n",
      "6\n",
      "[[-134.9189628  -300.19392549  418.43877974  199.13399985]\n",
      " [-138.44138892 -421.91973662  673.80912796  313.4785303 ]\n",
      " [2879.86336589 2733.65121523 -851.33872152 -617.22957515]\n",
      " [2938.02129233 2779.7250608  -849.59428343 -622.15914921]]\n",
      "[[0.29279103 0.37215843 0.14569828 0.18935225]\n",
      " [0.28315547 0.45266082 0.1050506  0.15913311]\n",
      " [0.00795045 0.00921366 0.6038312  0.37900469]\n",
      " [0.00752409 0.00882621 0.59257917 0.39107053]]\n",
      "\n",
      "\n",
      "7\n",
      "[[-136.27444284 -307.25355336  431.30517117  205.00020721]\n",
      " [-140.45137972 -409.58035245  644.11945477  300.43073781]\n",
      " [2891.22620162 2742.69745684 -851.04123723 -618.17313345]\n",
      " [2921.67845721 2766.81640547 -850.12982664 -620.76556511]]\n",
      "[[0.29284028 0.37614468 0.1433021  0.18771295]\n",
      " [0.28564309 0.4429148  0.10907846 0.16236366]\n",
      " [0.00786328 0.00913393 0.6020569  0.38094589]\n",
      " [0.00764033 0.00893169 0.59603809 0.38738989]]\n",
      "\n",
      "\n",
      "8\n",
      "[[-138.5380933  -315.67575156  445.9580522   211.89332147]\n",
      " [-142.87362088 -402.29889906  624.99831861  292.32188584]\n",
      " [2916.22675035 2765.00735822 -856.59032851 -623.24175389]\n",
      " [2932.43304706 2777.84073579 -856.10638003 -624.62507667]]\n",
      "[[0.29312053 0.38032493 0.14068869 0.18586585]\n",
      " [0.28752799 0.43616351 0.11181924 0.16448926]\n",
      " [0.00763366 0.00889115 0.60159081 0.38188438]\n",
      " [0.00751782 0.008786   0.59837244 0.38532374]]\n",
      "\n",
      "\n",
      "9\n",
      "[[-139.64727873 -322.31013784  458.43490072  217.58228897]\n",
      " [-143.47402371 -395.1734728   608.80119266  285.15738197]\n",
      " [2924.46489934 2771.62763996 -856.40146887 -623.86353705]\n",
      " [2933.04711933 2778.42151066 -856.14181826 -624.59566172]]\n",
      "[[0.29322301 0.38406074 0.13843757 0.18427868]\n",
      " [0.28871182 0.43085172 0.1141422  0.16629426]\n",
      " [0.0075687  0.00882966 0.60115048 0.38245115]\n",
      " [0.00750777 0.00877435 0.59943178 0.3842861 ]]\n",
      "\n",
      "\n"
     ]
    }
   ],
   "source": [
    "ITERATIONS = 10\n",
    "\n",
    "for i in range(ITERATIONS):\n",
    "    print(i)\n",
    "    Gt = (1 - mu) * Pull(X, L) + mu * Push(X, L, y)\n",
    "    update_step(Gt)\n",
    "    print(Gt)\n",
    "    print(L)\n",
    "    print(\"\\n\")"
   ]
  },
  {
   "cell_type": "code",
   "execution_count": 62,
   "metadata": {},
   "outputs": [
    {
     "data": {
      "image/png": "[encoded data removed]",
      "text/plain": [
       "<Figure size 432x288 with 2 Axes>"
      ]
     },
     "metadata": {},
     "output_type": "display_data"
    }
   ],
   "source": [
    "Plots.plot_kernel(L)"
   ]
  },
  {
   "cell_type": "code",
   "execution_count": 63,
   "metadata": {},
   "outputs": [
    {
     "data": {
      "image/png": "[encoded data removed]",
      "text/plain": [
       "<Figure size 432x288 with 3 Axes>"
      ]
     },
     "metadata": {},
     "output_type": "display_data"
    },
    {
     "name": "stdout",
     "output_type": "stream",
     "text": [
      "[[0.30065936 0.31106607 0.10104869 0.10079458]\n",
      " [0.25725723 0.25606882 0.21111521 0.21074729]\n",
      " [0.24110814 0.2357712  0.25393816 0.25349704]]\n",
      "[1 2 0]\n",
      "[1 2 0]\n",
      "[2 1 0]\n",
      "[1 2 0]\n",
      "[1 2 0]\n",
      "[1 2 0]\n",
      "[1 2 0]\n",
      "[1 2 0]\n",
      "[1 2 0]\n",
      "[1 2 0]\n",
      "[1 2 0]\n",
      "[1 2 0]\n",
      "[1 2 0]\n",
      "[2 1 0]\n",
      "[1 2 0]\n",
      "[1 2 0]\n",
      "[1 2 0]\n",
      "[1 2 0]\n",
      "[1 2 0]\n",
      "[1 2 0]\n"
     ]
    }
   ],
   "source": [
    "new_X = (L @ X.T).T\n",
    "\n",
    "plot_items = new_X[42:123:40,:]\n",
    "plot_labels = y[42:123:40]\n",
    "Plots.plot_some_data(plot_items, plot_labels)\n",
    "print(plot_items)\n",
    "\n",
    "for i in range(20):\n",
    "    print(np.argsort(distance(X[70 + i], X[42:123:40,:])))"
   ]
  },
  {
   "cell_type": "code",
   "execution_count": 64,
   "metadata": {},
   "outputs": [],
   "source": [
    "import knnClassifier\n",
    "true = y\n",
    "prediction = []\n",
    "\n",
    "for i in range(len(X)):\n",
    "    prediction.append(knnClassifier.knn(X[i,:], X, y, L, 5))"
   ]
  },
  {
   "cell_type": "code",
   "execution_count": 65,
   "metadata": {},
   "outputs": [
    {
     "name": "stdout",
     "output_type": "stream",
     "text": [
      "Confusion matrix, without normalization\n",
      "[[50  0  0]\n",
      " [50  0  0]\n",
      " [29 21  0]]\n"
     ]
    },
    {
     "data": {
      "image/png": "[encoded data removed]",
      "text/plain": [
       "<Figure size 432x288 with 2 Axes>"
      ]
     },
     "metadata": {},
     "output_type": "display_data"
    }
   ],
   "source": [
    "confusion_matrix = plots.plot_confusion_matrix(true, prediction, normalize=False)"
   ]
  },
  {
   "cell_type": "code",
   "execution_count": 66,
   "metadata": {},
   "outputs": [
    {
     "name": "stdout",
     "output_type": "stream",
     "text": [
      "[93 71 57 82 50 75 74 81 67]\n",
      "[71 82 75 93 74 50 97 57 92]\n",
      "65\n"
     ]
    }
   ],
   "source": [
    "import random\n",
    "Datapoint = X[random.randint(1,150)]\n",
    "results = np.argsort(distance(Datapoint, X))\n",
    "Bestguesses = results[1:10]\n",
    "Actual = results[0]\n",
    "\n",
    "print(Bestguesses)\n",
    "\n",
    "old_basis = np.zeros(150)\n",
    "for i in range(150):\n",
    "    old_basis[i] = chi_square_distance(Datapoint, X[i])\n",
    "results = np.argsort(old_basis)\n",
    "Bestguesses = results[1:10]\n",
    "Actual = results[0]\n",
    "print(Bestguesses)\n",
    "print(Actual)"
   ]
  },
  {
   "cell_type": "code",
   "execution_count": null,
   "metadata": {},
   "outputs": [],
   "source": []
  }
 ],
 "metadata": {
  "kernelspec": {
   "display_name": "Python 3",
   "language": "python",
   "name": "python3"
  },
  "language_info": {
   "codemirror_mode": {
    "name": "ipython",
    "version": 3
   },
   "file_extension": ".py",
   "mimetype": "text/x-python",
   "name": "python",
   "nbconvert_exporter": "python",
   "pygments_lexer": "ipython3",
   "version": "3.6.8"
  },
  "toc": {
   "base_numbering": 1,
   "nav_menu": {},
   "number_sections": true,
   "sideBar": true,
   "skip_h1_title": false,
   "title_cell": "Table of Contents",
   "title_sidebar": "Contents",
   "toc_cell": false,
   "toc_position": {},
   "toc_section_display": true,
   "toc_window_display": false
  }
 },
 "nbformat": 4,
 "nbformat_minor": 2
}
