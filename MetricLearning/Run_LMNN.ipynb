{
 "cells": [
  {
   "cell_type": "markdown",
   "metadata": {},
   "source": [
    "# Metric Learning - LMNN"
   ]
  },
  {
   "cell_type": "code",
   "execution_count": 1,
   "metadata": {},
   "outputs": [
    {
     "name": "stderr",
     "output_type": "stream",
     "text": [
      "Using TensorFlow backend.\n"
     ]
    },
    {
     "data": {
      "text/plain": [
       "{'divide': 'warn', 'over': 'warn', 'under': 'ignore', 'invalid': 'warn'}"
      ]
     },
     "execution_count": 1,
     "metadata": {},
     "output_type": "execute_result"
    }
   ],
   "source": [
    "import sklearn.metrics as sk_metrics\n",
    "import sklearn.decomposition as sk_decomp\n",
    "import numpy as np\n",
    "import Model\n",
    "import Plots\n",
    "\n",
    "# We ignore divisions by 0. We will do that in the chi square distance, but we don't care. \n",
    "np.seterr(divide='ignore', invalid='ignore')"
   ]
  },
  {
   "cell_type": "markdown",
   "metadata": {},
   "source": [
    "Underneath you can define the hyperparameters, l, mu and K.\n",
    "* $l$ is the margin parameter\n",
    "* $\\mu$ is a trade-off parameter between the push and pull in the loss function\n",
    "* $K$ is the number of target neighbors \n",
    "* $F$ is the dimensionality of our data. We choose that arbitrarily\n",
    "* $L$ is the linear transformation\n",
    "\n",
    "L is set to be a diagonal matrix of ones to begin with. However, it would be interesting to experiement with other initial L matrices, since the problem is non-convex. We could also try to implement the constrained non-convex version of LMNN."
   ]
  },
  {
   "cell_type": "code",
   "execution_count": 2,
   "metadata": {},
   "outputs": [],
   "source": [
    "l = 1\n",
    "mu = 1\n",
    "K = 2\n",
    "F = 40\n",
    "L = np.eye(F)\n",
    "alpha = 0.01"
   ]
  },
  {
   "cell_type": "markdown",
   "metadata": {},
   "source": [
    "## Data Import & Analysis"
   ]
  },
  {
   "cell_type": "code",
   "execution_count": 3,
   "metadata": {},
   "outputs": [
    {
     "name": "stdout",
     "output_type": "stream",
     "text": [
      "Shape of embeddings is: (2048, 100)\n",
      "Shape of labels is: (100,) \n",
      "Silhouette Score of data is: 0.6774616837501526\n"
     ]
    }
   ],
   "source": [
    "high_dim_embeddings, labels = Model.get_data()\n",
    "s_score = sk_metrics.silhouette_score(high_dim_embeddings.T, labels, metric='euclidean')\n",
    "\n",
    "print(\"Shape of embeddings is: {}\".format(np.shape(high_dim_embeddings)))\n",
    "print(\"Shape of labels is: {} \".format(np.shape(labels)))\n",
    "print(\"Silhouette Score of data is: {}\".format(s_score))"
   ]
  },
  {
   "cell_type": "markdown",
   "metadata": {},
   "source": [
    "Next we need to do some dimensionality reduction. It turns out that having 2048 dimensions in the feature vector is not a good idea. Who could have predicted that? Therefore we visit our friend PCA. \n",
    "\n",
    "By runnning the next block, you reduce the dimensions corresponding to the F variable defined earlier. "
   ]
  },
  {
   "cell_type": "code",
   "execution_count": 4,
   "metadata": {},
   "outputs": [
    {
     "name": "stdout",
     "output_type": "stream",
     "text": [
      "Explained variance of low dimensional data is: 0.9876310659456067\n",
      "Shape of embeddings is: (100, 40)\n",
      "Shape of labels is: (100,) \n",
      "Silhouette Score of data is: 0.6605256795883179\n"
     ]
    }
   ],
   "source": [
    "pca = sk_decomp.PCA(n_components=F)\n",
    "pca.fit(high_dim_embeddings.T)\n",
    "embeddings = pca.transform(high_dim_embeddings.T)\n",
    "embeddings = abs(embeddings / np.linalg.norm(embeddings))\n",
    "s_score = sk_metrics.silhouette_score(embeddings, labels, metric='euclidean')\n",
    "\n",
    "print(\"Explained variance of low dimensional data is: {}\".format(sum(pca.explained_variance_ratio_)))\n",
    "print(\"Shape of embeddings is: {}\".format(np.shape(embeddings)))\n",
    "print(\"Shape of labels is: {} \".format(np.shape(labels)))\n",
    "print(\"Silhouette Score of data is: {}\".format(s_score))"
   ]
  },
  {
   "cell_type": "markdown",
   "metadata": {},
   "source": [
    "## Plots\n"
   ]
  },
  {
   "cell_type": "markdown",
   "metadata": {},
   "source": [
    "Here we can plot the histogramified version of three images"
   ]
  },
  {
   "cell_type": "code",
   "execution_count": 7,
   "metadata": {},
   "outputs": [
    {
     "data": {
      "image/png": "[encoded data removed]",
      "text/plain": [
       "<Figure size 432x288 with 3 Axes>"
      ]
     },
     "metadata": {
      "needs_background": "light"
     },
     "output_type": "display_data"
    }
   ],
   "source": [
    "plot_items = embeddings[20:32:4,:]\n",
    "plot_labels = labels[20:32:4]\n",
    "Plots.plot_some_data(plot_items, plot_labels)"
   ]
  },
  {
   "cell_type": "markdown",
   "metadata": {},
   "source": [
    "Next we plot the L matrix. At initilization we expect to see the diagonal matrix, but as we update L, we hope to see something different. "
   ]
  },
  {
   "cell_type": "code",
   "execution_count": 56,
   "metadata": {},
   "outputs": [
    {
     "data": {
      "image/png": "[encoded data removed]",
      "text/plain": [
       "<Figure size 432x288 with 2 Axes>"
      ]
     },
     "metadata": {
      "needs_background": "light"
     },
     "output_type": "display_data"
    }
   ],
   "source": [
    "Plots.plot_kernel(L)"
   ]
  },
  {
   "cell_type": "markdown",
   "metadata": {},
   "source": [
    "## Functions"
   ]
  },
  {
   "cell_type": "markdown",
   "metadata": {},
   "source": [
    "Chi square distance, as described in equation (3) in the non-linear metric learning paper"
   ]
  },
  {
   "cell_type": "code",
   "execution_count": 57,
   "metadata": {},
   "outputs": [],
   "source": [
    "def chi_square_distance(xi, zxj):\n",
    "    \"\"\"\n",
    "    Chi square distance\n",
    "\n",
    "    :param xi: Embedding       (1, F)\n",
    "    :param xj: Target Neighbor (1, F)\n",
    "    :return: Distance\n",
    "    \"\"\"\n",
    "    return 1/2 * np.nansum(np.square(xi - xj) / (xi + xj))"
   ]
  },
  {
   "cell_type": "markdown",
   "metadata": {},
   "source": [
    "Loss function as described in equaltion (5) in the paper"
   ]
  },
  {
   "cell_type": "code",
   "execution_count": 58,
   "metadata": {},
   "outputs": [],
   "source": [
    "def loss_function(xi, xj, xk):\n",
    "    \"\"\"\n",
    "    Loss function as described in the paper\n",
    "\n",
    "    :param xi: One embedding        (F, 1)\n",
    "    :param xj: K target neighbors   (F, K)\n",
    "    :param xk: Unknown imposters    (F, ?)\n",
    "\n",
    "    :return: Loss for one embedding\n",
    "    \"\"\"\n",
    "\n",
    "    _, K = np.shape(xj)\n",
    "    _, imposter = np.shape(xk)\n",
    "    sum = 0\n",
    "\n",
    "    for j in range(K):\n",
    "        sum += chi_square_distance(L @ xi, L @ xj[:, j])\n",
    "        inner_sum = 0\n",
    "        for k in range(imposter):\n",
    "            inner_sum += max(0, l + chi_square_distance(xi, xj[:, j]) - chi_square_distance(xi, xk[:, k]))\n",
    "        sum += mu * inner_sum\n",
    "    return sum\n"
   ]
  },
  {
   "cell_type": "code",
   "execution_count": 59,
   "metadata": {},
   "outputs": [],
   "source": [
    "def gradient_chi(L, xi, xj):\n",
    "    ## Computes gradient of chi-sq dist with respect to L\n",
    "    D = np.shape(L)[1]\n",
    "    grad = np.zeros((D, D))\n",
    "    \n",
    "    xbari = L @ xi\n",
    "    xbarj = L @ xj\n",
    "    for p in range(D):\n",
    "        t = (xbari[p] - xbarj[p]) / (xbari[p] + xbarj[p])\n",
    "        for q in range(D):\n",
    "            grad[p,q] = t*(xi[q]-xj[q])-0.5*(t**2)*(xi[q]+xj[q])\n",
    "    return grad"
   ]
  },
  {
   "cell_type": "code",
   "execution_count": 60,
   "metadata": {},
   "outputs": [],
   "source": [
    "def gradient_loss(L, X, Y):\n",
    "    N, D = np.shape(X)\n",
    "    sum = np.zeros((D, D))\n",
    "    for i in range(N):\n",
    "        xj, xk = find_triplets(X[i], Y[i], X, Y)\n",
    "        K, _ = np.shape(xj)\n",
    "        imposter, _ = np.shape(xk)\n",
    "\n",
    "        for j in range(K):\n",
    "            print(\"j = \", j)\n",
    "            sum += gradient_chi(L, L @ X[i], L @ xj[j, :])\n",
    "            inner_sum = np.zeros((D, D))\n",
    "            for k in range(imposter):\n",
    "                print(\"k = \", k)\n",
    "                if(l + chi_square_distance(L @ X[i], L @ xj[j,:]) - chi_square_distance(L @ X[i], L @ xk[k,:]) > 0):\n",
    "                    inner_sum += gradient_chi(L, L @ X[i], L @ xj[j, :]) - gradient_chi(L, L @ X[i], L @ xk[k,:])\n",
    "                sum += mu * inner_sum\n",
    "        return sum"
   ]
  },
  {
   "cell_type": "markdown",
   "metadata": {},
   "source": [
    "Functions to find triples. Distance function need to be changed, to find the distance through the L plane, and not just in the euclidean space. "
   ]
  },
  {
   "cell_type": "code",
   "execution_count": 61,
   "metadata": {},
   "outputs": [],
   "source": [
    "def distance(xi, X):\n",
    "    \"\"\"\n",
    "    :param xi: Embedding vector                        (1, F)\n",
    "    :param X: Data matrix without embedding vector (N - 1, F)\n",
    "    :return: Distance vector                       (1, N - 1)\n",
    "    \"\"\"\n",
    "    return np.linalg.norm(((X @ L) - (xi @ L)), axis=1)\n",
    "\n",
    "\n",
    "def find_triplets(xi, yi, X, y):\n",
    "    \"\"\"\n",
    "    Given some vector xi and corresponding label yi, find target neighbors and imposters\n",
    "\n",
    "    :param xi: Embedding vector                                  (1, F)\n",
    "    :param yi: Label for embedding vector\n",
    "    :param X: Data matrix without embedding vector           (N - 1, F)\n",
    "    :return: target_neighbors and imposters for embedding (K, F) (?, F)\n",
    "    \"\"\"\n",
    "    candidate_target_neighbors = X[np.where(yi == y)]\n",
    "    imposters = X[np.where(yi != y)]\n",
    "    \n",
    "    target_neighbors_dist = distance(xi, candidate_target_neighbors)\n",
    "    imposters_dist = distance(xi, imposters)\n",
    "\n",
    "    # Find K target neighbors\n",
    "    target_neighbors = np.zeros((1, F))\n",
    "    for i in range(K):\n",
    "        min_index = np.argmin(target_neighbors_dist)\n",
    "        target_neighbors = np.vstack((target_neighbors, candidate_target_neighbors[min_index]))\n",
    "        candidate_target_neighbors = np.delete(candidate_target_neighbors, (min_index), axis=0)\n",
    "    target_neighbors = target_neighbors[1:, :]\n",
    "\n",
    "    # Find ? imposters\n",
    "    max_target_dist = np.max(target_neighbors_dist)\n",
    "    imposters = imposters[np.where(imposters_dist < max_target_dist + l)]\n",
    "\n",
    "    return target_neighbors, imposters"
   ]
  },
  {
   "cell_type": "markdown",
   "metadata": {},
   "source": [
    "Next we define the update step for L given some gradient. <br/>\n",
    "\n",
    "Additinally, it might be worth considering updating alpha. In one of the papers they state that \"*(...) at each iteration, we increased α by a factor of 1.01 if the loss function decreased and decreased α by a factor of 0.5 if the loss function increased.*\"\n"
   ]
  },
  {
   "cell_type": "code",
   "execution_count": 1,
   "metadata": {},
   "outputs": [],
   "source": [
    "def update_step(G):\n",
    "    \"\"\"\n",
    "    Update L and possibly also alpha. \n",
    "    \n",
    "    :param G: Computed gradient for a given iteration\n",
    "    \"\"\"\n",
    "    global L\n",
    "    L = L - alpha * G"
   ]
  },
  {
   "cell_type": "code",
   "execution_count": null,
   "metadata": {},
   "outputs": [],
   "source": [
    "def compute_gradient():\n",
    "    "
   ]
  },
  {
   "cell_type": "markdown",
   "metadata": {},
   "source": [
    "## Run LMNN"
   ]
  },
  {
   "cell_type": "code",
   "execution_count": 75,
   "metadata": {
    "scrolled": false
   },
   "outputs": [
    {
     "data": {
      "text/plain": [
       "190.10380336086496"
      ]
     },
     "execution_count": 75,
     "metadata": {},
     "output_type": "execute_result"
    }
   ],
   "source": [
    "# TODO:  Run this in loop over all vectors in X \n",
    "xi = embeddings[0, :]\n",
    "yi = labels[0]\n",
    "X = embeddings[1:,:]\n",
    "Y = np.array(labels[1:])\n",
    "\n",
    "xj, xk = find_triplets(xi, yi, X, Y)\n",
    "loss_function(xi, xj.T, xk.T)"
   ]
  },
  {
   "cell_type": "code",
   "execution_count": null,
   "metadata": {},
   "outputs": [],
   "source": [
    "Not_Converged = True\n",
    "\n",
    "while Not_Converged:\n",
    "    # Iterate over all data to get loss\n",
    "    \n",
    "    # Compute Gradient\n",
    "    \n",
    "    # Update L"
   ]
  }
 ],
 "metadata": {
  "kernelspec": {
   "display_name": "Python 3",
   "language": "python",
   "name": "python3"
  },
  "language_info": {
   "codemirror_mode": {
    "name": "ipython",
    "version": 3
   },
   "file_extension": ".py",
   "mimetype": "text/x-python",
   "name": "python",
   "nbconvert_exporter": "python",
   "pygments_lexer": "ipython3",
   "version": "3.7.2"
  },
  "toc": {
   "base_numbering": 1,
   "nav_menu": {},
   "number_sections": true,
   "sideBar": true,
   "skip_h1_title": false,
   "title_cell": "Table of Contents",
   "title_sidebar": "Contents",
   "toc_cell": false,
   "toc_position": {},
   "toc_section_display": true,
   "toc_window_display": false
  }
 },
 "nbformat": 4,
 "nbformat_minor": 1
}
