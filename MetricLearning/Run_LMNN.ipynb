{
 "cells": [
  {
   "cell_type": "markdown",
   "metadata": {},
   "source": [
    "# Metric Learning - LMNN"
   ]
  },
  {
   "cell_type": "code",
   "execution_count": 1,
   "metadata": {},
   "outputs": [
    {
     "name": "stderr",
     "output_type": "stream",
     "text": [
      "Using TensorFlow backend.\n"
     ]
    },
    {
     "data": {
      "text/plain": [
       "{'divide': 'warn', 'over': 'warn', 'under': 'ignore', 'invalid': 'warn'}"
      ]
     },
     "execution_count": 1,
     "metadata": {},
     "output_type": "execute_result"
    }
   ],
   "source": [
    "import sklearn.metrics as sk_metrics\n",
    "import sklearn.decomposition as sk_decomp\n",
    "import knnClassifier\n",
    "import numpy as np\n",
    "import Model\n",
    "import Plots\n",
    "\n",
    "# We ignore divisions by 0. We will do that in the chi square distance, but we don't care. \n",
    "np.seterr(divide='ignore', invalid='ignore')"
   ]
  },
  {
   "cell_type": "markdown",
   "metadata": {},
   "source": [
    "Underneath you can define the hyperparameters, l, mu and K.\n",
    "* $l$ is the margin parameter\n",
    "* $\\mu$ is a trade-off parameter between the push and pull in the loss function\n",
    "* $K$ is the number of target neighbors \n",
    "* $D$ is the dimensionality of our data. We choose that arbitrarily\n",
    "* $L$ is the linear transformation\n",
    "\n",
    "L is set to be a diagonal matrix of ones to begin with. However, it would be interesting to experiement with other initial L matrices, since the problem is non-convex. We could also try to implement the constrained non-convex version of LMNN."
   ]
  },
  {
   "cell_type": "code",
   "execution_count": 2,
   "metadata": {},
   "outputs": [],
   "source": [
    "l = 0.3\n",
    "mu = 1.2\n",
    "K = 4\n",
    "D = 40\n",
    "L = np.eye(D)\n",
    "alpha = 0.01"
   ]
  },
  {
   "cell_type": "markdown",
   "metadata": {},
   "source": [
    "## Data Import & Analysis"
   ]
  },
  {
   "cell_type": "code",
   "execution_count": 3,
   "metadata": {},
   "outputs": [
    {
     "name": "stdout",
     "output_type": "stream",
     "text": [
      "Shape of embeddings is: (2048, 100)\n",
      "Shape of labels is: (100,) \n",
      "Silhouette Score of data is: 0.6774616837501526\n"
     ]
    }
   ],
   "source": [
    "high_dim_embeddings, labels = Model.get_data()\n",
    "s_score = sk_metrics.silhouette_score(high_dim_embeddings.T, labels, metric='euclidean')\n",
    "\n",
    "print(\"Shape of embeddings is: {}\".format(np.shape(high_dim_embeddings)))\n",
    "print(\"Shape of labels is: {} \".format(np.shape(labels)))\n",
    "print(\"Silhouette Score of data is: {}\".format(s_score))"
   ]
  },
  {
   "cell_type": "markdown",
   "metadata": {},
   "source": [
    "Next we need to do some dimensionality reduction. It turns out that having 2048 dimensions in the feature vector is not a good idea. Who could have predicted that? Therefore we visit our friend PCA. \n",
    "\n",
    "By runnning the next block, you reduce the dimensions corresponding to the F variable defined earlier. "
   ]
  },
  {
   "cell_type": "code",
   "execution_count": 4,
   "metadata": {},
   "outputs": [
    {
     "name": "stdout",
     "output_type": "stream",
     "text": [
      "Explained variance of low dimensional data is: 0.987632739066612\n",
      "Shape of embeddings is: (100, 40)\n",
      "Shape of labels is: (100,) \n",
      "Silhouette Score of data is: 0.6609039306640625\n"
     ]
    }
   ],
   "source": [
    "pca = sk_decomp.PCA(n_components=D)\n",
    "pca.fit(high_dim_embeddings.T)\n",
    "embeddings = pca.transform(high_dim_embeddings.T)\n",
    "embeddings = abs(embeddings / np.linalg.norm(embeddings))\n",
    "s_score = sk_metrics.silhouette_score(embeddings, labels, metric='euclidean')\n",
    "\n",
    "print(\"Explained variance of low dimensional data is: {}\".format(sum(pca.explained_variance_ratio_)))\n",
    "print(\"Shape of embeddings is: {}\".format(np.shape(embeddings)))\n",
    "print(\"Shape of labels is: {} \".format(np.shape(labels)))\n",
    "print(\"Silhouette Score of data is: {}\".format(s_score))"
   ]
  },
  {
   "cell_type": "markdown",
   "metadata": {},
   "source": [
    "## Plots\n"
   ]
  },
  {
   "cell_type": "markdown",
   "metadata": {},
   "source": [
    "Here we can plot the histogramified version of three images"
   ]
  },
  {
   "cell_type": "code",
   "execution_count": 5,
   "metadata": {},
   "outputs": [
    {
     "data": {
      "image/png": "[encoded data removed]",
      "text/plain": [
       "<Figure size 432x288 with 3 Axes>"
      ]
     },
     "metadata": {},
     "output_type": "display_data"
    }
   ],
   "source": [
    "plot_items = embeddings[20:32:4,:]\n",
    "plot_labels = labels[20:32:4]\n",
    "Plots.plot_some_data(plot_items, plot_labels)"
   ]
  },
  {
   "cell_type": "markdown",
   "metadata": {},
   "source": [
    "Next we plot the L matrix. At initilization we expect to see the diagonal matrix, but as we update L, we hope to see something different. "
   ]
  },
  {
   "cell_type": "code",
   "execution_count": 6,
   "metadata": {},
   "outputs": [
    {
     "data": {
      "image/png": "[encoded data removed]",
      "text/plain": [
       "<Figure size 432x288 with 2 Axes>"
      ]
     },
     "metadata": {},
     "output_type": "display_data"
    }
   ],
   "source": [
    "Plots.plot_kernel(L)"
   ]
  },
  {
   "cell_type": "markdown",
   "metadata": {},
   "source": [
    "## Functions"
   ]
  },
  {
   "cell_type": "markdown",
   "metadata": {},
   "source": [
    "Chi square distance, as described in equation (3) in the non-linear metric learning paper"
   ]
  },
  {
   "cell_type": "code",
   "execution_count": 7,
   "metadata": {},
   "outputs": [],
   "source": [
    "def chi_square_distance(xi, xj):\n",
    "    \"\"\"\n",
    "    Chi square distance\n",
    "\n",
    "    :param xi: Embedding       (1, D)\n",
    "    :param xj: Target Neighbor (1, D)\n",
    "    :return: Distance\n",
    "    \"\"\"\n",
    "    return 1/2 * np.nansum(np.square(xi - xj) / (xi + xj))"
   ]
  },
  {
   "cell_type": "code",
   "execution_count": 8,
   "metadata": {},
   "outputs": [],
   "source": [
    "def gradient_chi(L, xi, xj):\n",
    "    \"\"\"\n",
    "    Gradient of the Chi Square Distance\n",
    "    \n",
    "    :param L: Transformation Matrix (D, D)\n",
    "    :param xi: Data vector i (1, D) \n",
    "    :param xj: Data Vector j (1, D) \n",
    "    :return: Gradient (D, D)\n",
    "    \"\"\"\n",
    "    D = np.shape(L)[1]\n",
    "    grad = np.zeros((D, D))\n",
    "    \n",
    "    xbari = L @ xi\n",
    "    xbarj = L @ xj\n",
    "    for p in range(D):\n",
    "        t = (xbari[p] - xbarj[p]) / (xbari[p] + xbarj[p])\n",
    "        for q in range(D):\n",
    "            grad[p,q] = t*(xi[q]-xj[q])-0.5*(t**2)*(xi[q]+xj[q])\n",
    "    return grad"
   ]
  },
  {
   "cell_type": "markdown",
   "metadata": {},
   "source": [
    "Loss function as described in equaltion (5) in the paper"
   ]
  },
  {
   "cell_type": "code",
   "execution_count": 9,
   "metadata": {},
   "outputs": [],
   "source": [
    "def loss_function(xi, xj, xk):\n",
    "    \"\"\"\n",
    "    Loss function as described in the paper\n",
    "\n",
    "    :param xi: One embedding        (D, 1)\n",
    "    :param xj: K target neighbors   (D, K)\n",
    "    :param xk: Unknown imposters    (D, ?)\n",
    "\n",
    "    :return: Loss for one embedding\n",
    "    \"\"\"\n",
    "\n",
    "    _, K = np.shape(xj)\n",
    "    _, imposter = np.shape(xk)\n",
    "    sum = 0\n",
    "\n",
    "    for j in range(K):\n",
    "        sum += chi_square_distance(L @ xi, L @ xj[:, j])\n",
    "        inner_sum = 0\n",
    "        for k in range(imposter):\n",
    "            inner_sum += max(0, l + chi_square_distance(xi, xj[:, j]) - chi_square_distance(xi, xk[:, k]))\n",
    "        sum += mu * inner_sum\n",
    "    return sum\n"
   ]
  },
  {
   "cell_type": "code",
   "execution_count": 10,
   "metadata": {},
   "outputs": [],
   "source": [
    "def gradient_loss(L, X, Y):\n",
    "    \"\"\"\n",
    "    Loss function as described in the paper\n",
    "\n",
    "    :param L: Transformation Matrid (D, D)\n",
    "    :param X: Data Matrix (N, D)\n",
    "    :param Y: Labels (1, N)\n",
    "\n",
    "    :return: Gradient Loss (D, D) and loss\n",
    "    \"\"\"\n",
    "    \n",
    "    N, D = np.shape(X)\n",
    "    Gradient_sum = np.zeros((D, D))\n",
    "    Loss = 0\n",
    "    for i in range(N):\n",
    "        xj, xk = find_triplets(X[i], Y[i], X, Y)\n",
    "        K, _ = np.shape(xj)\n",
    "        imposter, _ = np.shape(xk)\n",
    "        \n",
    "        for j in range(K):\n",
    "            Gradient_sum += gradient_chi(L, L @ X[i], L @ xj[j, :])\n",
    "            Loss += chi_square_distance(L @ X[i], L @ xj[j, :])\n",
    "            inner_sum = np.zeros((D, D))\n",
    "            inner_loss = 0\n",
    "            for k in range(imposter):\n",
    "                if(l + chi_square_distance(L @ X[i], L @ xj[j,:]) - chi_square_distance(L @ X[i], L @ xk[k,:]) > 0):\n",
    "                    inner_sum += gradient_chi(L, L @ X[i], L @ xj[j, :]) - gradient_chi(L, L @ X[i], L @ xk[k,:])\n",
    "                    inner_loss += max(0, l + chi_square_distance(L @ X[i], L @ xj[j, :]) - chi_square_distance(L @ X[i], L @ xk[k,:]))\n",
    "                Gradient_sum += mu * inner_sum\n",
    "                Loss += mu * inner_loss\n",
    "    return Gradient_sum, Loss"
   ]
  },
  {
   "cell_type": "markdown",
   "metadata": {},
   "source": [
    "Functions to find triples. Distance function need to be changed, to find the distance through the L plane, and not just in the euclidean space. "
   ]
  },
  {
   "cell_type": "code",
   "execution_count": 11,
   "metadata": {},
   "outputs": [],
   "source": [
    "def distance(xi, X):\n",
    "    \"\"\"\n",
    "    :param xi: Embedding vector                        (1, F)\n",
    "    :param X: Data matrix without embedding vector (N - 1, F)\n",
    "    :return: Distance vector                       (1, N - 1)\n",
    "    \"\"\"\n",
    "    N, D = np.shape(X)\n",
    "    Distances = np.zeros(N)\n",
    "    for i in range(N):\n",
    "        Distances[i] = chi_square_distance(L @ xi, L @ X[i, :])\n",
    "    return Distances\n",
    "\n",
    "\n",
    "def find_triplets(xi, yi, X, y):\n",
    "    \"\"\"\n",
    "    Given some vector xi and corresponding label yi, find target neighbors and imposters\n",
    "\n",
    "    :param xi: Embedding vector                                  (1, D)\n",
    "    :param yi: Label for embedding vector\n",
    "    :param X: Data matrix without embedding vector           (N - 1, D)\n",
    "    :return: target_neighbors and imposters for embedding (K, D) (?, D)\n",
    "    \"\"\"\n",
    "    candidate_target_neighbors = X[np.where(yi == y)]\n",
    "    imposters = X[np.where(yi != y)]\n",
    "    \n",
    "    target_neighbors_dist = distance(xi, candidate_target_neighbors)\n",
    "    imposters_dist = distance(xi, imposters)\n",
    "    \n",
    "    \n",
    "    # Find K target neighbors\n",
    "    target_neighbors = np.zeros((1, D))\n",
    "    chosen_distances = np.zeros(K)\n",
    "    for i in range(K):\n",
    "        min_index = np.argmin(target_neighbors_dist)\n",
    "        target_neighbors = np.vstack((target_neighbors, candidate_target_neighbors[min_index]))\n",
    "        chosen_distances[i] = target_neighbors_dist[min_index]\n",
    "        target_neighbors_dist = np.delete(target_neighbors_dist, (min_index), axis=0)\n",
    "    target_neighbors = target_neighbors[1:, :]\n",
    "\n",
    "    # Find ? imposters\n",
    "    max_target_dist = np.max(chosen_distances)\n",
    "    #print(max_target_dist)\n",
    "    imposters = imposters[np.where(imposters_dist < max_target_dist + l)]\n",
    "    #print(\"N_ Imposters{}\".format(np.shape(imposters)))\n",
    "    return target_neighbors, imposters"
   ]
  },
  {
   "cell_type": "markdown",
   "metadata": {},
   "source": [
    "Next we define the update step for L given some gradient. <br/>\n",
    "\n",
    "Additinally, it might be worth considering updating alpha. In one of the papers they state that \"*(...) at each iteration, we increased α by a factor of 1.01 if the loss function decreased and decreased α by a factor of 0.5 if the loss function increased.*\"\n"
   ]
  },
  {
   "cell_type": "code",
   "execution_count": 12,
   "metadata": {},
   "outputs": [],
   "source": [
    "def update_step(G):\n",
    "    \"\"\"\n",
    "    Update L\n",
    "    \n",
    "    :param G: Computed gradient for a given iteration\n",
    "    \"\"\"\n",
    "    global L\n",
    "    \n",
    "    # Map new L into correct space \n",
    "    new_L = np.abs(L - alpha * G)\n",
    "    new_L = new_L / np.sum(new_L, axis=0)    \n",
    "    \n",
    "    #Update L\n",
    "    L = new_L"
   ]
  },
  {
   "cell_type": "markdown",
   "metadata": {},
   "source": [
    "## Run LMNN"
   ]
  },
  {
   "cell_type": "code",
   "execution_count": 13,
   "metadata": {
    "scrolled": false
   },
   "outputs": [
    {
     "name": "stdout",
     "output_type": "stream",
     "text": [
      "6.275740086516992\n",
      "0.903499983948953\n",
      "0.834911964072261\n",
      "0.7718090781331003\n",
      "0.7324734110266101\n",
      "0.7040320528193733\n",
      "0.6890135621041158\n",
      "0.6542154177736199\n",
      "0.6354183441924031\n",
      "0.6175384961539425\n"
     ]
    }
   ],
   "source": [
    "# TODO:  Run this in loop over all vectors in X \n",
    "X = embeddings\n",
    "Y = np.array(labels)\n",
    "\n",
    "l = 0.009\n",
    "Loss_History = []\n",
    "for i in range(100):\n",
    "    Gradient_L, Loss = gradient_loss(L, X, Y)\n",
    "    \n",
    "    update_step(Gradient_L)\n",
    "    Loss_History.append(Loss)\n",
    "    if i % 10 == 0:\n",
    "        print(Loss)\n"
   ]
  },
  {
   "cell_type": "code",
   "execution_count": 14,
   "metadata": {},
   "outputs": [],
   "source": [
    "import matplotlib.pyplot as plt\n",
    "def plot_loss_curve(losses):\n",
    "    plt.plot(losses)\n",
    "    plt.show()"
   ]
  },
  {
   "cell_type": "code",
   "execution_count": 15,
   "metadata": {},
   "outputs": [
    {
     "data": {
      "image/png": "[encoded data removed]",
      "text/plain": [
       "<Figure size 432x288 with 1 Axes>"
      ]
     },
     "metadata": {},
     "output_type": "display_data"
    }
   ],
   "source": [
    "plot_loss_curve(Loss_History)"
   ]
  },
  {
   "cell_type": "code",
   "execution_count": 16,
   "metadata": {},
   "outputs": [
    {
     "name": "stdout",
     "output_type": "stream",
     "text": [
      "Cherry 1, Mandarine\n",
      "Original Distance 0.06513864547014236\n",
      "New Distance 0.015239586635406496\n",
      "Ratio 4.2743052701182975\n"
     ]
    }
   ],
   "source": [
    "i = 5\n",
    "j = 34\n",
    "\n",
    "xi = X[i,:]\n",
    "xj = X[j,:]\n",
    "print(\"{}, {}\".format(Y[i], Y[j]))\n",
    "print(\"Original Distance {}\".format(chi_square_distance(xi, xj)))\n",
    "print(\"New Distance {}\".format(chi_square_distance(L @ xi, L @ xj)))\n",
    "print(\"Ratio {}\".format(chi_square_distance(xi, xj) / chi_square_distance(L @ xi, L @ xj)))"
   ]
  },
  {
   "cell_type": "markdown",
   "metadata": {},
   "source": [
    "Find what are the n (in this case n = 2) closest neighbors for a specific data point"
   ]
  },
  {
   "cell_type": "code",
   "execution_count": 21,
   "metadata": {},
   "outputs": [
    {
     "ename": "ValueError",
     "evalue": "operands could not be broadcast together with shapes (100,) (40,) ",
     "output_type": "error",
     "traceback": [
      "\u001b[0;31m---------------------------------------------------------------------------\u001b[0m",
      "\u001b[0;31mValueError\u001b[0m                                Traceback (most recent call last)",
      "\u001b[0;32m<ipython-input-21-fd73009edaa1>\u001b[0m in \u001b[0;36m<module>\u001b[0;34m()\u001b[0m\n\u001b[1;32m      1\u001b[0m \u001b[0;32mfor\u001b[0m \u001b[0mi\u001b[0m \u001b[0;32min\u001b[0m \u001b[0mrange\u001b[0m\u001b[0;34m(\u001b[0m\u001b[0mlen\u001b[0m\u001b[0;34m(\u001b[0m\u001b[0membeddings\u001b[0m\u001b[0;34m.\u001b[0m\u001b[0mT\u001b[0m\u001b[0;34m)\u001b[0m\u001b[0;34m)\u001b[0m\u001b[0;34m:\u001b[0m\u001b[0;34m\u001b[0m\u001b[0;34m\u001b[0m\u001b[0m\n\u001b[0;32m----> 2\u001b[0;31m     \u001b[0mprint\u001b[0m\u001b[0;34m(\u001b[0m\u001b[0mlabels\u001b[0m\u001b[0;34m[\u001b[0m\u001b[0mi\u001b[0m\u001b[0;34m]\u001b[0m\u001b[0;34m,\u001b[0m \u001b[0mknnClassifier\u001b[0m\u001b[0;34m.\u001b[0m\u001b[0mknn\u001b[0m\u001b[0;34m(\u001b[0m\u001b[0membeddings\u001b[0m\u001b[0;34m.\u001b[0m\u001b[0mT\u001b[0m\u001b[0;34m[\u001b[0m\u001b[0mi\u001b[0m\u001b[0;34m]\u001b[0m\u001b[0;34m,\u001b[0m \u001b[0membeddings\u001b[0m\u001b[0;34m[\u001b[0m\u001b[0mi\u001b[0m\u001b[0;34m]\u001b[0m\u001b[0;34m.\u001b[0m\u001b[0mT\u001b[0m\u001b[0;34m,\u001b[0m \u001b[0mlabels\u001b[0m\u001b[0;34m,\u001b[0m \u001b[0;36m2\u001b[0m\u001b[0;34m)\u001b[0m\u001b[0;34m)\u001b[0m\u001b[0;34m\u001b[0m\u001b[0;34m\u001b[0m\u001b[0m\n\u001b[0m",
      "\u001b[0;32m~/PycharmProjects/MetricLearning/MetricLearning/knnClassifier.py\u001b[0m in \u001b[0;36mknn\u001b[0;34m(embedding, matrix_embeddings, labels, k)\u001b[0m\n\u001b[1;32m     11\u001b[0m     \"\"\"\n\u001b[1;32m     12\u001b[0m \u001b[0;34m\u001b[0m\u001b[0m\n\u001b[0;32m---> 13\u001b[0;31m     \u001b[0mdist_vector\u001b[0m \u001b[0;34m=\u001b[0m \u001b[0mdistance\u001b[0m\u001b[0;34m.\u001b[0m\u001b[0mmahalanobis\u001b[0m\u001b[0;34m(\u001b[0m\u001b[0membedding\u001b[0m\u001b[0;34m,\u001b[0m \u001b[0mmatrix_embeddings\u001b[0m\u001b[0;34m,\u001b[0m \u001b[0mmatrix_embeddings\u001b[0m\u001b[0;34m.\u001b[0m\u001b[0mT\u001b[0m\u001b[0;34m)\u001b[0m\u001b[0;34m\u001b[0m\u001b[0;34m\u001b[0m\u001b[0m\n\u001b[0m\u001b[1;32m     14\u001b[0m     \u001b[0mnorm_dist_vector\u001b[0m \u001b[0;34m=\u001b[0m \u001b[0mdist_vector\u001b[0m \u001b[0;34m/\u001b[0m \u001b[0mnp\u001b[0m\u001b[0;34m.\u001b[0m\u001b[0mlinalg\u001b[0m\u001b[0;34m.\u001b[0m\u001b[0mnorm\u001b[0m\u001b[0;34m(\u001b[0m\u001b[0mdist_vector\u001b[0m\u001b[0;34m)\u001b[0m\u001b[0;34m\u001b[0m\u001b[0;34m\u001b[0m\u001b[0m\n\u001b[1;32m     15\u001b[0m     \u001b[0mclosest_indices\u001b[0m \u001b[0;34m=\u001b[0m \u001b[0mnp\u001b[0m\u001b[0;34m.\u001b[0m\u001b[0margsort\u001b[0m\u001b[0;34m(\u001b[0m\u001b[0mdist_vector\u001b[0m\u001b[0;34m)\u001b[0m\u001b[0;34m[\u001b[0m\u001b[0;36m0\u001b[0m\u001b[0;34m:\u001b[0m\u001b[0mk\u001b[0m\u001b[0;34m]\u001b[0m\u001b[0;34m\u001b[0m\u001b[0;34m\u001b[0m\u001b[0m\n",
      "\u001b[0;32m/anaconda3/lib/python3.6/site-packages/scipy/spatial/distance.py\u001b[0m in \u001b[0;36mmahalanobis\u001b[0;34m(u, v, VI)\u001b[0m\n\u001b[1;32m   1040\u001b[0m     \u001b[0mv\u001b[0m \u001b[0;34m=\u001b[0m \u001b[0m_validate_vector\u001b[0m\u001b[0;34m(\u001b[0m\u001b[0mv\u001b[0m\u001b[0;34m)\u001b[0m\u001b[0;34m\u001b[0m\u001b[0;34m\u001b[0m\u001b[0m\n\u001b[1;32m   1041\u001b[0m     \u001b[0mVI\u001b[0m \u001b[0;34m=\u001b[0m \u001b[0mnp\u001b[0m\u001b[0;34m.\u001b[0m\u001b[0matleast_2d\u001b[0m\u001b[0;34m(\u001b[0m\u001b[0mVI\u001b[0m\u001b[0;34m)\u001b[0m\u001b[0;34m\u001b[0m\u001b[0;34m\u001b[0m\u001b[0m\n\u001b[0;32m-> 1042\u001b[0;31m     \u001b[0mdelta\u001b[0m \u001b[0;34m=\u001b[0m \u001b[0mu\u001b[0m \u001b[0;34m-\u001b[0m \u001b[0mv\u001b[0m\u001b[0;34m\u001b[0m\u001b[0;34m\u001b[0m\u001b[0m\n\u001b[0m\u001b[1;32m   1043\u001b[0m     \u001b[0mm\u001b[0m \u001b[0;34m=\u001b[0m \u001b[0mnp\u001b[0m\u001b[0;34m.\u001b[0m\u001b[0mdot\u001b[0m\u001b[0;34m(\u001b[0m\u001b[0mnp\u001b[0m\u001b[0;34m.\u001b[0m\u001b[0mdot\u001b[0m\u001b[0;34m(\u001b[0m\u001b[0mdelta\u001b[0m\u001b[0;34m,\u001b[0m \u001b[0mVI\u001b[0m\u001b[0;34m)\u001b[0m\u001b[0;34m,\u001b[0m \u001b[0mdelta\u001b[0m\u001b[0;34m)\u001b[0m\u001b[0;34m\u001b[0m\u001b[0;34m\u001b[0m\u001b[0m\n\u001b[1;32m   1044\u001b[0m     \u001b[0;32mreturn\u001b[0m \u001b[0mnp\u001b[0m\u001b[0;34m.\u001b[0m\u001b[0msqrt\u001b[0m\u001b[0;34m(\u001b[0m\u001b[0mm\u001b[0m\u001b[0;34m)\u001b[0m\u001b[0;34m\u001b[0m\u001b[0;34m\u001b[0m\u001b[0m\n",
      "\u001b[0;31mValueError\u001b[0m: operands could not be broadcast together with shapes (100,) (40,) "
     ]
    }
   ],
   "source": [
    "for i in range(len(embeddings.T)):\n",
    "    print(labels[i], knnClassifier.knn(embeddings.T[i], embeddings, labels, 2))"
   ]
  },
  {
   "cell_type": "code",
   "execution_count": null,
   "metadata": {},
   "outputs": [],
   "source": []
  }
 ],
 "metadata": {
  "kernelspec": {
   "display_name": "Python 3",
   "language": "python",
   "name": "python3"
  },
  "language_info": {
   "codemirror_mode": {
    "name": "ipython",
    "version": 3
   },
   "file_extension": ".py",
   "mimetype": "text/x-python",
   "name": "python",
   "nbconvert_exporter": "python",
   "pygments_lexer": "ipython3",
   "version": "3.7.2"
  },
  "toc": {
   "base_numbering": 1,
   "nav_menu": {},
   "number_sections": true,
   "sideBar": true,
   "skip_h1_title": false,
   "title_cell": "Table of Contents",
   "title_sidebar": "Contents",
   "toc_cell": false,
   "toc_position": {},
   "toc_section_display": true,
   "toc_window_display": false
  }
 },
 "nbformat": 4,
 "nbformat_minor": 1
}
