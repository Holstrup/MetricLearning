{
 "cells": [
  {
   "cell_type": "markdown",
   "metadata": {},
   "source": [
    "# Metric Learning - LMNN"
   ]
  },
  {
   "cell_type": "code",
   "execution_count": 1,
   "metadata": {},
   "outputs": [
    {
     "name": "stderr",
     "output_type": "stream",
     "text": [
      "Using TensorFlow backend.\n"
     ]
    },
    {
     "data": {
      "text/plain": [
       "{'divide': 'warn', 'over': 'warn', 'under': 'ignore', 'invalid': 'warn'}"
      ]
     },
     "execution_count": 1,
     "metadata": {},
     "output_type": "execute_result"
    }
   ],
   "source": [
    "import sklearn.metrics as sk_metrics\n",
    "import numpy as np\n",
    "import Model\n",
    "import Plots\n",
    "\n",
    "# We ignore divisions by 0. We will do that in the chi square distance, but we don't care. \n",
    "np.seterr(divide='ignore', invalid='ignore')"
   ]
  },
  {
   "cell_type": "markdown",
   "metadata": {},
   "source": [
    "Underneath you can define the hyperparameters, l, mu and K.\n",
    "* l is the margin parameter\n",
    "* mu is a trade-off parameter between the push and pull in the loss function\n",
    "* K is the number of target neighbors \n",
    "* F is the dimensionality of our data. We choose that arbitrarily\n",
    "* L is the linear transformation\n",
    "\n",
    "L is set to be a diagonal matrix of ones to begin with. However, it would be interesting to experiement with other initial L matrices, since the problem is non-convex. We could also try to implement the constrained non-convex version of LMNN."
   ]
  },
  {
   "cell_type": "code",
   "execution_count": 2,
   "metadata": {},
   "outputs": [],
   "source": [
    "l = 1\n",
    "mu = 1\n",
    "K = 2\n",
    "F = 2048\n",
    "L = np.eye(F)"
   ]
  },
  {
   "cell_type": "markdown",
   "metadata": {},
   "source": [
    "## Data Import & Analysis"
   ]
  },
  {
   "cell_type": "code",
   "execution_count": 3,
   "metadata": {},
   "outputs": [
    {
     "name": "stdout",
     "output_type": "stream",
     "text": [
      "Shape of embeddings is: (2048, 100)\n",
      "Shape of labels is: (100,) \n",
      "Silhouette Score of data is: 0.6774616837501526\n"
     ]
    }
   ],
   "source": [
    "embeddings, labels = Model.get_data()\n",
    "s_score = sk_metrics.silhouette_score(embeddings.T, labels, metric='euclidean')\n",
    "\n",
    "print(\"Shape of embeddings is: {}\".format(np.shape(embeddings)))\n",
    "print(\"Shape of labels is: {} \".format(np.shape(labels)))\n",
    "print(\"Silhouette Score of data is: {}\".format(s_score))"
   ]
  },
  {
   "cell_type": "markdown",
   "metadata": {},
   "source": [
    "## Plots\n"
   ]
  },
  {
   "cell_type": "markdown",
   "metadata": {},
   "source": [
    "Here we can plot the histogramified version of three images"
   ]
  },
  {
   "cell_type": "code",
   "execution_count": 4,
   "metadata": {},
   "outputs": [
    {
     "ename": "AttributeError",
     "evalue": "'str' object has no attribute 'decode'",
     "output_type": "error",
     "traceback": [
      "\u001b[0;31m---------------------------------------------------------------------------\u001b[0m",
      "\u001b[0;31mAttributeError\u001b[0m                            Traceback (most recent call last)",
      "\u001b[0;32m<ipython-input-4-409d076f7d1f>\u001b[0m in \u001b[0;36m<module>\u001b[0;34m\u001b[0m\n\u001b[0;32m----> 1\u001b[0;31m \u001b[0mPlots\u001b[0m\u001b[0;34m.\u001b[0m\u001b[0mplot_some_data\u001b[0m\u001b[0;34m(\u001b[0m\u001b[0;34m)\u001b[0m\u001b[0;34m\u001b[0m\u001b[0;34m\u001b[0m\u001b[0m\n\u001b[0m",
      "\u001b[0;32m~/git/MetricLearning/MetricLearning/Plots.py\u001b[0m in \u001b[0;36mplot_some_data\u001b[0;34m(N_SUBPLOTS)\u001b[0m\n\u001b[1;32m     13\u001b[0m     \u001b[0;32mfor\u001b[0m \u001b[0mi\u001b[0m \u001b[0;32min\u001b[0m \u001b[0mrange\u001b[0m\u001b[0;34m(\u001b[0m\u001b[0mN_SUBPLOTS\u001b[0m\u001b[0;34m)\u001b[0m\u001b[0;34m:\u001b[0m\u001b[0;34m\u001b[0m\u001b[0;34m\u001b[0m\u001b[0m\n\u001b[1;32m     14\u001b[0m         \u001b[0max\u001b[0m \u001b[0;34m=\u001b[0m \u001b[0mfig\u001b[0m\u001b[0;34m.\u001b[0m\u001b[0madd_subplot\u001b[0m\u001b[0;34m(\u001b[0m\u001b[0mN_SUBPLOTS\u001b[0m\u001b[0;34m,\u001b[0m \u001b[0;36m1\u001b[0m\u001b[0;34m,\u001b[0m \u001b[0mi\u001b[0m \u001b[0;34m+\u001b[0m \u001b[0;36m1\u001b[0m\u001b[0;34m)\u001b[0m\u001b[0;34m\u001b[0m\u001b[0;34m\u001b[0m\u001b[0m\n\u001b[0;32m---> 15\u001b[0;31m         \u001b[0mlabel\u001b[0m \u001b[0;34m=\u001b[0m \u001b[0;34m(\u001b[0m\u001b[0mlabels\u001b[0m\u001b[0;34m[\u001b[0m\u001b[0;36m5\u001b[0m \u001b[0;34m*\u001b[0m \u001b[0mi\u001b[0m\u001b[0;34m]\u001b[0m\u001b[0;34m)\u001b[0m\u001b[0;34m.\u001b[0m\u001b[0mdecode\u001b[0m\u001b[0;34m(\u001b[0m\u001b[0;34m'UTF-8'\u001b[0m\u001b[0;34m)\u001b[0m\u001b[0;34m\u001b[0m\u001b[0;34m\u001b[0m\u001b[0m\n\u001b[0m\u001b[1;32m     16\u001b[0m         \u001b[0max\u001b[0m\u001b[0;34m.\u001b[0m\u001b[0mset_title\u001b[0m\u001b[0;34m(\u001b[0m\u001b[0;34m\"{}\"\u001b[0m\u001b[0;34m.\u001b[0m\u001b[0mformat\u001b[0m\u001b[0;34m(\u001b[0m\u001b[0mlabel\u001b[0m\u001b[0;34m)\u001b[0m\u001b[0;34m,\u001b[0m \u001b[0msize\u001b[0m\u001b[0;34m=\u001b[0m\u001b[0;36m12\u001b[0m\u001b[0;34m)\u001b[0m\u001b[0;34m\u001b[0m\u001b[0;34m\u001b[0m\u001b[0m\n\u001b[1;32m     17\u001b[0m         \u001b[0max\u001b[0m\u001b[0;34m.\u001b[0m\u001b[0mbar\u001b[0m\u001b[0;34m(\u001b[0m\u001b[0mlist\u001b[0m\u001b[0;34m(\u001b[0m\u001b[0mrange\u001b[0m\u001b[0;34m(\u001b[0m\u001b[0;36m2048\u001b[0m\u001b[0;34m)\u001b[0m\u001b[0;34m)\u001b[0m\u001b[0;34m,\u001b[0m \u001b[0membeddings\u001b[0m\u001b[0;34m[\u001b[0m\u001b[0;34m:\u001b[0m\u001b[0;34m,\u001b[0m \u001b[0;36m5\u001b[0m \u001b[0;34m*\u001b[0m \u001b[0mi\u001b[0m\u001b[0;34m]\u001b[0m\u001b[0;34m)\u001b[0m\u001b[0;34m\u001b[0m\u001b[0;34m\u001b[0m\u001b[0m\n",
      "\u001b[0;31mAttributeError\u001b[0m: 'str' object has no attribute 'decode'"
     ]
    },
    {
     "data": {
      "image/png": "[encoded data removed]",
      "text/plain": [
       "<Figure size 432x288 with 1 Axes>"
      ]
     },
     "metadata": {
      "needs_background": "light"
     },
     "output_type": "display_data"
    }
   ],
   "source": [
    "Plots.plot_some_data()"
   ]
  },
  {
   "cell_type": "markdown",
   "metadata": {},
   "source": [
    "## Functions"
   ]
  },
  {
   "cell_type": "markdown",
   "metadata": {},
   "source": [
    "Chi square distance, as described in equation (3) in the non-linear metric learning paper"
   ]
  },
  {
   "cell_type": "code",
   "execution_count": 192,
   "metadata": {},
   "outputs": [],
   "source": [
    "def chi_square_distance(xi, xj):\n",
    "    \"\"\"\n",
    "    Chi square distance\n",
    "\n",
    "    :param xi: Embedding       (1, F)\n",
    "    :param xj: Target Neighbor (1, F)\n",
    "    :return: Distance\n",
    "    \"\"\"\n",
    "    return 1/2 * np.nansum(np.square(xi - xj) / (xi + xj))"
   ]
  },
  {
   "cell_type": "markdown",
   "metadata": {},
   "source": [
    "Loss function as described in equaltion (5) in the paper"
   ]
  },
  {
   "cell_type": "code",
   "execution_count": 196,
   "metadata": {},
   "outputs": [],
   "source": [
    "def loss_function(xi, xj, xk):\n",
    "    \"\"\"\n",
    "    Loss function as described in the paper\n",
    "\n",
    "    :param xi: One embedding        (F, 1)\n",
    "    :param xj: K target neighbors   (F, K)\n",
    "    :param xk: Unknown imposters    (F, ?)\n",
    "\n",
    "    :return: Loss for one embedding\n",
    "    \"\"\"\n",
    "\n",
    "    _, K = np.shape(xj)\n",
    "    _, imposter = np.shape(xk)\n",
    "    sum = 0\n",
    "\n",
    "    for j in range(K):\n",
    "        sum += chi_square_distance(L @ xi, L @ xj[:, j])\n",
    "        inner_sum = 0\n",
    "        for k in range(imposter):\n",
    "            inner_sum += max(0, l + chi_square_distance(xi, xj[:, j]) - chi_square_distance(xi, xk[:, k]))\n",
    "        sum += mu * inner_sum\n",
    "    return sum\n"
   ]
  },
  {
   "cell_type": "markdown",
   "metadata": {},
   "source": [
    "Functions to find triples. Distance function need to be changed, to find the distance through the L plane, and not just in the euclidean space. "
   ]
  },
  {
   "cell_type": "code",
   "execution_count": 194,
   "metadata": {},
   "outputs": [],
   "source": [
    "def distance(xi, X):\n",
    "    \"\"\"\n",
    "    :param xi: Embedding vector                        (1, F)\n",
    "    :param X: Data matrix without embedding vector (N - 1, F)\n",
    "    :return: Distance vector                       (1, N - 1)\n",
    "    \"\"\"\n",
    "    return np.linalg.norm(((X @ L) - (xi @ L)), axis=1)\n",
    "\n",
    "\n",
    "def find_triplets(xi, yi, X, y):\n",
    "    \"\"\"\n",
    "    Given some vector xi and corresponding label yi, find target neighbors and imposters\n",
    "\n",
    "    :param xi: Embedding vector                                  (1, F)\n",
    "    :param yi: Label for embedding vector\n",
    "    :param X: Data matrix without embedding vector           (N - 1, F)\n",
    "    :return: target_neighbors and imposters for embedding (K, F) (?, F)\n",
    "    \"\"\"\n",
    "    candidate_target_neighbors = X[np.where(yi == y)]\n",
    "    imposters = X[np.where(yi != y)]\n",
    "    \n",
    "    target_neighbors_dist = distance(xi, candidate_target_neighbors)\n",
    "    imposters_dist = distance(xi, imposters)\n",
    "\n",
    "    # Find K target neighbors\n",
    "    target_neighbors = np.zeros((1, F))\n",
    "    for i in range(K):\n",
    "        min_index = np.argmin(target_neighbors_dist)\n",
    "        target_neighbors = np.vstack((target_neighbors, candidate_target_neighbors[min_index]))\n",
    "        candidate_target_neighbors = np.delete(candidate_target_neighbors, (min_index), axis=0)\n",
    "    target_neighbors = target_neighbors[1:, :]\n",
    "\n",
    "    # Find ? imposters\n",
    "    max_target_dist = np.max(target_neighbors_dist)\n",
    "    imposters = imposters[np.where(imposters_dist < max_target_dist + l)]\n",
    "\n",
    "    return target_neighbors, imposters"
   ]
  },
  {
   "cell_type": "markdown",
   "metadata": {},
   "source": [
    "## Run LMNN"
   ]
  },
  {
   "cell_type": "code",
   "execution_count": 201,
   "metadata": {
    "scrolled": false
   },
   "outputs": [
    {
     "data": {
      "text/plain": [
       "116.05267041735901"
      ]
     },
     "execution_count": 201,
     "metadata": {},
     "output_type": "execute_result"
    }
   ],
   "source": [
    "# TODO:  Run this in loop over all vectors in X \n",
    "xi = embeddings[:, 0]\n",
    "yi = labels[0]\n",
    "X = embeddings[:,1:]\n",
    "Y = np.array(labels[1:])\n",
    "\n",
    "xj, xk = find_triplets(xi, yi, X.T, Y)\n",
    "loss_function(xi, xj.T, xk.T)"
   ]
  },
  {
   "cell_type": "code",
   "execution_count": null,
   "metadata": {},
   "outputs": [],
   "source": []
  }
 ],
 "metadata": {
  "kernelspec": {
   "display_name": "Python 3",
   "language": "python",
   "name": "python3"
  },
  "language_info": {
   "codemirror_mode": {
    "name": "ipython",
    "version": 3
   },
   "file_extension": ".py",
   "mimetype": "text/x-python",
   "name": "python",
   "nbconvert_exporter": "python",
   "pygments_lexer": "ipython3",
   "version": "3.7.2"
  }
 },
 "nbformat": 4,
 "nbformat_minor": 1
}
